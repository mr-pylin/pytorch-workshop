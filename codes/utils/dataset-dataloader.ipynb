{
 "cells": [
  {
   "cell_type": "markdown",
   "metadata": {},
   "source": [
    "📝 **Author:** Amirhossein Heydari - 📧 **Email:** amirhosseinheydari78@gmail.com - 📍 **Linktree:** [linktr.ee/mr_pylin](https://linktr.ee/mr_pylin)\n",
    "\n",
    "---"
   ]
  },
  {
   "cell_type": "markdown",
   "metadata": {},
   "source": [
    "# Dependencies"
   ]
  },
  {
   "cell_type": "code",
   "execution_count": 1,
   "metadata": {},
   "outputs": [],
   "source": [
    "import numpy as np\n",
    "import pandas as pd\n",
    "import torch\n",
    "import torch.utils.data"
   ]
  },
  {
   "cell_type": "markdown",
   "metadata": {},
   "source": [
    "# Dataset\n",
    "\n",
    "$\n",
    "X = \\begin{bmatrix}\n",
    "        x_{1}^1 & x_{1}^2 & \\cdots & x_{1}^n \\\\\n",
    "        x_{2}^1 & x_{2}^2 & \\cdots & x_{2}^n \\\\\n",
    "        \\vdots & \\vdots & \\ddots & \\vdots \\\\\n",
    "        x_{m}^1 & x_{m}^2 & \\cdots & x_{m}^n \\\\\n",
    "    \\end{bmatrix}_{m \\times n} \\quad \\text{(m: number of samples, n: number of features)}\n",
    "$\n",
    "\n",
    "$\n",
    "Y = \\begin{bmatrix}\n",
    "        y_{1} \\\\\n",
    "        y_{2} \\\\\n",
    "        \\vdots \\\\\n",
    "        y_{m} \\\\\n",
    "    \\end{bmatrix}_{m \\times 1} \\quad \\text{(m: number of samples)}\n",
    "$"
   ]
  },
  {
   "cell_type": "markdown",
   "metadata": {},
   "source": [
    "## Load Iris Dataset"
   ]
  },
  {
   "cell_type": "code",
   "execution_count": 2,
   "metadata": {},
   "outputs": [
    {
     "data": {
      "text/html": [
       "<div>\n",
       "<style scoped>\n",
       "    .dataframe tbody tr th:only-of-type {\n",
       "        vertical-align: middle;\n",
       "    }\n",
       "\n",
       "    .dataframe tbody tr th {\n",
       "        vertical-align: top;\n",
       "    }\n",
       "\n",
       "    .dataframe thead th {\n",
       "        text-align: right;\n",
       "    }\n",
       "</style>\n",
       "<table border=\"1\" class=\"dataframe\">\n",
       "  <thead>\n",
       "    <tr style=\"text-align: right;\">\n",
       "      <th></th>\n",
       "      <th>sepal-length</th>\n",
       "      <th>sepal-width</th>\n",
       "      <th>petal-length</th>\n",
       "      <th>petal-width</th>\n",
       "      <th>class</th>\n",
       "    </tr>\n",
       "  </thead>\n",
       "  <tbody>\n",
       "    <tr>\n",
       "      <th>0</th>\n",
       "      <td>5.1</td>\n",
       "      <td>3.5</td>\n",
       "      <td>1.4</td>\n",
       "      <td>0.2</td>\n",
       "      <td>Iris-setosa</td>\n",
       "    </tr>\n",
       "    <tr>\n",
       "      <th>1</th>\n",
       "      <td>4.9</td>\n",
       "      <td>3.0</td>\n",
       "      <td>1.4</td>\n",
       "      <td>0.2</td>\n",
       "      <td>Iris-setosa</td>\n",
       "    </tr>\n",
       "    <tr>\n",
       "      <th>2</th>\n",
       "      <td>4.7</td>\n",
       "      <td>3.2</td>\n",
       "      <td>1.3</td>\n",
       "      <td>0.2</td>\n",
       "      <td>Iris-setosa</td>\n",
       "    </tr>\n",
       "    <tr>\n",
       "      <th>3</th>\n",
       "      <td>4.6</td>\n",
       "      <td>3.1</td>\n",
       "      <td>1.5</td>\n",
       "      <td>0.2</td>\n",
       "      <td>Iris-setosa</td>\n",
       "    </tr>\n",
       "    <tr>\n",
       "      <th>4</th>\n",
       "      <td>5.0</td>\n",
       "      <td>3.6</td>\n",
       "      <td>1.4</td>\n",
       "      <td>0.2</td>\n",
       "      <td>Iris-setosa</td>\n",
       "    </tr>\n",
       "  </tbody>\n",
       "</table>\n",
       "</div>"
      ],
      "text/plain": [
       "   sepal-length  sepal-width  petal-length  petal-width        class\n",
       "0           5.1          3.5           1.4          0.2  Iris-setosa\n",
       "1           4.9          3.0           1.4          0.2  Iris-setosa\n",
       "2           4.7          3.2           1.3          0.2  Iris-setosa\n",
       "3           4.6          3.1           1.5          0.2  Iris-setosa\n",
       "4           5.0          3.6           1.4          0.2  Iris-setosa"
      ]
     },
     "execution_count": 2,
     "metadata": {},
     "output_type": "execute_result"
    }
   ],
   "source": [
    "iris_dataset_url = r\"https://raw.githubusercontent.com/mr-pylin/datasets/refs/heads/main/data/tabular-data/iris/dataset.csv\"\n",
    "\n",
    "# pandas data-frame\n",
    "df = pd.read_csv(iris_dataset_url, encoding='utf-8')\n",
    "\n",
    "# log\n",
    "df.head()"
   ]
  },
  {
   "cell_type": "code",
   "execution_count": 3,
   "metadata": {},
   "outputs": [
    {
     "name": "stdout",
     "output_type": "stream",
     "text": [
      "X.shape: (150, 4)\n",
      "X.dtype: float64\n",
      "y.shape: (150,)\n",
      "y.dtype: int32\n",
      "--------------------------------------------------\n",
      "classes          : [0 1 2]\n",
      "samples per class: [50 50 50]\n"
     ]
    }
   ],
   "source": [
    "classes = df['class'].unique()\n",
    "class_to_idx = {l: i for i, l in enumerate(classes)}\n",
    "\n",
    "# split dataset into features and labels\n",
    "X, y = df.iloc[:, :4].values, df.iloc[:, 4].values\n",
    "\n",
    "# convert categorical labels into indices\n",
    "y = np.array([class_to_idx[l] for l in y])\n",
    "\n",
    "# properties of the dataset\n",
    "num_samples, num_features = X.shape\n",
    "classes, samples_per_class = np.unique(y, return_counts=True)\n",
    "\n",
    "# log\n",
    "print(f\"X.shape: {X.shape}\")\n",
    "print(f\"X.dtype: {X.dtype}\")\n",
    "print(f\"y.shape: {y.shape}\")\n",
    "print(f\"y.dtype: {y.dtype}\")\n",
    "print('-' * 50)\n",
    "print(f\"classes          : {classes}\")\n",
    "print(f\"samples per class: {samples_per_class}\")"
   ]
  },
  {
   "cell_type": "code",
   "execution_count": 4,
   "metadata": {},
   "outputs": [
    {
     "name": "stdout",
     "output_type": "stream",
     "text": [
      "x.shape: torch.Size([150, 4])\n",
      "x.dtype: torch.float32\n",
      "x.ndim : 2\n",
      "\n",
      "y.shape: torch.Size([150, 1])\n",
      "y.dtype: torch.float32\n",
      "y.ndim : 2\n"
     ]
    }
   ],
   "source": [
    "# convert numpy.ndarray to torch.Tensor\n",
    "X = torch.from_numpy(X.astype(np.float32))\n",
    "y = torch.from_numpy(y.astype(np.float32)).view(-1, 1)\n",
    "\n",
    "# log\n",
    "print(f\"x.shape: {X.shape}\")\n",
    "print(f\"x.dtype: {X.dtype}\")\n",
    "print(f\"x.ndim : {X.ndim}\\n\")\n",
    "print(f\"y.shape: {y.shape}\")\n",
    "print(f\"y.dtype: {y.dtype}\")\n",
    "print(f\"y.ndim : {y.ndim}\")"
   ]
  },
  {
   "cell_type": "markdown",
   "metadata": {},
   "source": [
    "# Torch Dataset\n",
    "   - It's designed to store and manage tensor-based datasets.\n",
    "   - DataLoaders in PyTorch specifically require a tensor-based Dataset.\n",
    "   - `torch.utils.data.TensorDataset` is indeed a subclass of the `torch.utils.data.Dataset` class in PyTorch.\n",
    "   - To build highly customizable and versatile datasets, refer to [**customs.ipynb**](./customs.ipynb) notebook."
   ]
  },
  {
   "cell_type": "code",
   "execution_count": 5,
   "metadata": {},
   "outputs": [
    {
     "name": "stdout",
     "output_type": "stream",
     "text": [
      "dataset.tensors[0].shape : torch.Size([150, 4])\n",
      "dataset.tensors[1].shape : torch.Size([150, 1])\n",
      "--------------------------------------------------\n",
      "first sample:\n",
      "    -> X: tensor([5.1000, 3.5000, 1.4000, 0.2000])\n",
      "    -> y: tensor([0.])\n"
     ]
    }
   ],
   "source": [
    "# a torch dataset\n",
    "dataset = torch.utils.data.TensorDataset(X, y)\n",
    "\n",
    "# log\n",
    "print(f\"dataset.tensors[0].shape : {dataset.tensors[0].shape}\")\n",
    "print(f\"dataset.tensors[1].shape : {dataset.tensors[1].shape}\")\n",
    "print('-' * 50)\n",
    "print(f\"first sample:\")\n",
    "print(f\"    -> X: {dataset[0][0]}\")\n",
    "print(f\"    -> y: {dataset[0][1]}\")"
   ]
  },
  {
   "cell_type": "markdown",
   "metadata": {},
   "source": [
    "# Torch DataLoader\n",
    "   - A DataLoader(`torch.utils.data.DataLoader`) is a utility for training and evaluation in deep learning tasks that enables:\n",
    "      - efficient loading datasets\n",
    "      - handling batching\n",
    "      - shuffling\n",
    "      - parallel data loading"
   ]
  },
  {
   "cell_type": "markdown",
   "metadata": {},
   "source": [
    "## Strategies for updating weights"
   ]
  },
  {
   "cell_type": "markdown",
   "metadata": {},
   "source": [
    "### 1. Batch Gradient Descent\n",
    "   - Uses the **entire** dataset to compute the **gradient** of the loss function and **update** the **weights**.\n",
    "   - **Pros**: Provides a stable convergence.\n",
    "   - **Cons**: Can be very slow and computationally expensive for large datasets.\n",
    "\n",
    "🌟 **Example**:\n",
    "| #Epoch | batch size | #batch per epoch                    | #iteration per epoch                |\n",
    "|:------:|:----------:|:-----------------------------------:|:-----------------------------------:|\n",
    "| $ 2 $  | $ 150 $    | $ \\lceil\\frac{150}{150}\\rceil = 1 $ | $ \\lceil\\frac{150}{150}\\rceil = 1 $ |"
   ]
  },
  {
   "cell_type": "code",
   "execution_count": 10,
   "metadata": {},
   "outputs": [
    {
     "name": "stdout",
     "output_type": "stream",
     "text": [
      "epoch 0\n",
      "    iteration 0\n",
      "        x.shape: torch.Size([150, 4])\n",
      "        y.shape: torch.Size([150, 1])\n",
      "    weights are updated.\n",
      "model saw the entire dataset.\n",
      "--------------------------------------------------\n",
      "epoch 1\n",
      "    iteration 0\n",
      "        x.shape: torch.Size([150, 4])\n",
      "        y.shape: torch.Size([150, 1])\n",
      "    weights are updated.\n",
      "model saw the entire dataset.\n",
      "--------------------------------------------------\n"
     ]
    }
   ],
   "source": [
    "epochs = 2\n",
    "batch_size = dataset.tensors[0].shape[0]\n",
    "dataloader = torch.utils.data.DataLoader(dataset, batch_size=batch_size, shuffle=True, num_workers=2)\n",
    "\n",
    "# log\n",
    "for epoch in range(epochs):\n",
    "    print(f\"epoch {epoch}\")\n",
    "    for i, (x, y) in enumerate(dataloader):\n",
    "        print(f\"    iteration {i}\")\n",
    "        print(f\"        x.shape: {x.shape}\")\n",
    "        print(f\"        y.shape: {y.shape}\")\n",
    "        print(\"    weights are updated.\")\n",
    "    print(f\"model saw the entire dataset.\")\n",
    "    print('-' * 50)"
   ]
  },
  {
   "cell_type": "markdown",
   "metadata": {},
   "source": [
    "### 2. Stochastic Gradient Descent\n",
    "   - the model **updates** the **weights** using only **one data point** at a time.\n",
    "   - **Pros**: Faster updates and can escape local minima.\n",
    "   - **Cons**: Can be noisy and may not converge as smoothly as batch gradient descent.\n",
    "\n",
    "🌟 **Example**:\n",
    "| #Epoch | batch size | #batch per epoch                    | #iteration per epoch                |\n",
    "|:------:|:----------:|:-----------------------------------:|:-----------------------------------:|\n",
    "| $ 2 $  | $ 1 $      | $ \\lceil\\frac{150}{1}\\rceil = 150 $ | $ \\lceil\\frac{150}{1}\\rceil = 150 $ |"
   ]
  },
  {
   "cell_type": "code",
   "execution_count": 11,
   "metadata": {},
   "outputs": [
    {
     "name": "stdout",
     "output_type": "stream",
     "text": [
      "epoch 0\n",
      "    iteration 0\n",
      "        x.shape: torch.Size([1, 4])\n",
      "        y.shape: torch.Size([1, 1])\n",
      "    weights are updated.\n",
      "    iteration 25\n",
      "        x.shape: torch.Size([1, 4])\n",
      "        y.shape: torch.Size([1, 1])\n",
      "    weights are updated.\n",
      "    iteration 50\n",
      "        x.shape: torch.Size([1, 4])\n",
      "        y.shape: torch.Size([1, 1])\n",
      "    weights are updated.\n",
      "    iteration 75\n",
      "        x.shape: torch.Size([1, 4])\n",
      "        y.shape: torch.Size([1, 1])\n",
      "    weights are updated.\n",
      "    iteration 100\n",
      "        x.shape: torch.Size([1, 4])\n",
      "        y.shape: torch.Size([1, 1])\n",
      "    weights are updated.\n",
      "    iteration 125\n",
      "        x.shape: torch.Size([1, 4])\n",
      "        y.shape: torch.Size([1, 1])\n",
      "    weights are updated.\n",
      "    iteration 149\n",
      "        x.shape: torch.Size([1, 4])\n",
      "        y.shape: torch.Size([1, 1])\n",
      "    weights are updated.\n",
      "model saw the entire dataset.\n",
      "--------------------------------------------------\n",
      "epoch 1\n",
      "    iteration 0\n",
      "        x.shape: torch.Size([1, 4])\n",
      "        y.shape: torch.Size([1, 1])\n",
      "    weights are updated.\n",
      "    iteration 25\n",
      "        x.shape: torch.Size([1, 4])\n",
      "        y.shape: torch.Size([1, 1])\n",
      "    weights are updated.\n",
      "    iteration 50\n",
      "        x.shape: torch.Size([1, 4])\n",
      "        y.shape: torch.Size([1, 1])\n",
      "    weights are updated.\n",
      "    iteration 75\n",
      "        x.shape: torch.Size([1, 4])\n",
      "        y.shape: torch.Size([1, 1])\n",
      "    weights are updated.\n",
      "    iteration 100\n",
      "        x.shape: torch.Size([1, 4])\n",
      "        y.shape: torch.Size([1, 1])\n",
      "    weights are updated.\n",
      "    iteration 125\n",
      "        x.shape: torch.Size([1, 4])\n",
      "        y.shape: torch.Size([1, 1])\n",
      "    weights are updated.\n",
      "    iteration 149\n",
      "        x.shape: torch.Size([1, 4])\n",
      "        y.shape: torch.Size([1, 1])\n",
      "    weights are updated.\n",
      "model saw the entire dataset.\n",
      "--------------------------------------------------\n"
     ]
    }
   ],
   "source": [
    "epochs = 2\n",
    "batch_size = 1\n",
    "dataloader = torch.utils.data.DataLoader(dataset, batch_size=batch_size, shuffle=True, num_workers=2)\n",
    "\n",
    "# log\n",
    "for epoch in range(epochs):\n",
    "    print(f\"epoch {epoch}\")\n",
    "    for i, (x, y) in enumerate(dataloader):\n",
    "        if i % 25 == 0 or i == len(X) - 1:\n",
    "            print(f\"    iteration {i}\")\n",
    "            print(f\"        x.shape: {x.shape}\")\n",
    "            print(f\"        y.shape: {y.shape}\")\n",
    "            print(\"    weights are updated.\")\n",
    "    print(f\"model saw the entire dataset.\")\n",
    "    print('-' * 50)"
   ]
  },
  {
   "cell_type": "markdown",
   "metadata": {},
   "source": [
    "### 3. Mini-Batch Gradient Descent\n",
    "   - the model updates its weights after processing a small batch of 'm' samples from the training dataset.\n",
    "   - this method combines the advantages of both SGD and Batch Gradient Descent by providing a balance between efficiency and stability during training.\n",
    "\n",
    "🌟 **Example**:\n",
    "| #Epoch | batch size | #batch                             | #iteration per epoch               |\n",
    "|:------:|:----------:|:----------------------------------:|:----------------------------------:|\n",
    "| $ 2 $  | $ 32 $     | $ \\lceil\\frac{150}{32}\\rceil = 5 $ | #batch                             |"
   ]
  },
  {
   "cell_type": "code",
   "execution_count": 12,
   "metadata": {},
   "outputs": [
    {
     "name": "stdout",
     "output_type": "stream",
     "text": [
      "epoch 0\n",
      "    iteration 0\n",
      "        x.shape: torch.Size([32, 4])\n",
      "        y.shape: torch.Size([32, 1])\n",
      "    weights are updated.\n",
      "    iteration 1\n",
      "        x.shape: torch.Size([32, 4])\n",
      "        y.shape: torch.Size([32, 1])\n",
      "    weights are updated.\n",
      "    iteration 2\n",
      "        x.shape: torch.Size([32, 4])\n",
      "        y.shape: torch.Size([32, 1])\n",
      "    weights are updated.\n",
      "    iteration 3\n",
      "        x.shape: torch.Size([32, 4])\n",
      "        y.shape: torch.Size([32, 1])\n",
      "    weights are updated.\n",
      "    iteration 4\n",
      "        x.shape: torch.Size([22, 4])\n",
      "        y.shape: torch.Size([22, 1])\n",
      "    weights are updated.\n",
      "model saw the entire dataset.\n",
      "--------------------------------------------------\n",
      "epoch 1\n",
      "    iteration 0\n",
      "        x.shape: torch.Size([32, 4])\n",
      "        y.shape: torch.Size([32, 1])\n",
      "    weights are updated.\n",
      "    iteration 1\n",
      "        x.shape: torch.Size([32, 4])\n",
      "        y.shape: torch.Size([32, 1])\n",
      "    weights are updated.\n",
      "    iteration 2\n",
      "        x.shape: torch.Size([32, 4])\n",
      "        y.shape: torch.Size([32, 1])\n",
      "    weights are updated.\n",
      "    iteration 3\n",
      "        x.shape: torch.Size([32, 4])\n",
      "        y.shape: torch.Size([32, 1])\n",
      "    weights are updated.\n",
      "    iteration 4\n",
      "        x.shape: torch.Size([22, 4])\n",
      "        y.shape: torch.Size([22, 1])\n",
      "    weights are updated.\n",
      "model saw the entire dataset.\n",
      "--------------------------------------------------\n"
     ]
    }
   ],
   "source": [
    "epochs = 2\n",
    "batch_size = 32\n",
    "dataloader = torch.utils.data.DataLoader(dataset, batch_size=batch_size, shuffle=True, num_workers=2)\n",
    "\n",
    "# log\n",
    "for epoch in range(epochs):\n",
    "    print(f\"epoch {epoch}\")\n",
    "    for i, (x, y) in enumerate(dataloader):\n",
    "        print(f\"    iteration {i}\")\n",
    "        print(f\"        x.shape: {x.shape}\")\n",
    "        print(f\"        y.shape: {y.shape}\")\n",
    "        print(\"    weights are updated.\")\n",
    "    print(f\"model saw the entire dataset.\")\n",
    "    print('-' * 50)"
   ]
  }
 ],
 "metadata": {
  "author_email": "AmirhosseinHeydari78@gmail.com",
  "author_github": "https://github.com/mr-pylin",
  "author_name": "Amirhossein Heydari",
  "kernelspec": {
   "display_name": "Python 3",
   "language": "python",
   "name": "python3"
  },
  "language_info": {
   "codemirror_mode": {
    "name": "ipython",
    "version": 3
   },
   "file_extension": ".py",
   "mimetype": "text/x-python",
   "name": "python",
   "nbconvert_exporter": "python",
   "pygments_lexer": "ipython3",
   "version": "3.12.3"
  },
  "origin_repo": "https://github.com/mr-pylin/pytorch-workshop"
 },
 "nbformat": 4,
 "nbformat_minor": 2
}
