{
 "cells": [
  {
   "cell_type": "markdown",
   "metadata": {},
   "source": [
    "📝 **Author:** Amirhossein Heydari - 📧 **Email:** amirhosseinheydari78@gmail.com - 📍 **Linktree:** [linktr.ee/mr_pylin](https://linktr.ee/mr_pylin)\n",
    "\n",
    "---"
   ]
  },
  {
   "cell_type": "markdown",
   "metadata": {},
   "source": [
    "# Dependencies\n",
    "   - torchvision models:\n",
    "      - class\n",
    "         - brings in the model class directly\n",
    "         - Allows more control and customization since you are dealing directly with the class. You can override methods, customize initialization, etc.\n",
    "      - function\n",
    "         - This import brings in a function that returns an instance of the model\n",
    "         - Easier and quicker to use, especially for standard models\n",
    "   - [pytorch.org/vision/stable/models.html](https://pytorch.org/vision/stable/models.html)"
   ]
  },
  {
   "cell_type": "code",
   "execution_count": null,
   "metadata": {},
   "outputs": [],
   "source": [
    "import math\n",
    "\n",
    "import torch\n",
    "from torch import nn\n",
    "from torch.functional import F\n",
    "from torchinfo import summary\n",
    "from torchvision.models import (EfficientNet, efficientnet_b0, efficientnet_b1,\n",
    "                                efficientnet_b2, efficientnet_b3,\n",
    "                                efficientnet_b4, efficientnet_b5,\n",
    "                                efficientnet_b6, efficientnet_b7)"
   ]
  },
  {
   "cell_type": "markdown",
   "metadata": {},
   "source": [
    "# EfficientNet\n",
    "   - EfficientNet, developed in 2019 by researchers at [Google AI](https://research.google/)\n",
    "   - It is based on the [EfficientNet: Rethinking Model Scaling for Convolutional Neural Networks](https://arxiv.org/pdf/1905.11946) paper\n",
    "   - It was trained on the [ImageNet](https://www.image-net.org/) dataset (first resized to 256x256 then center cropped to 224x224) [[ImageNet viewer](https://navigu.net/#imagenet)]\n",
    "   - Known for its balance of accuracy and efficiency, achieving state-of-the-art performance while being significantly more computationally efficient than previous models\n",
    "   - The EfficientNet family includes several variants, such as `EfficientNet-B0` through `EfficientNet-B7`, where the number indicates the scaling factor, with B0 being the base model\n",
    "   - Achieved high performance in various benchmarks and demonstrated significant efficiency improvements due to the compound scaling method\n",
    "\n",
    "<figure style=\"text-align: center;\">\n",
    "    <img src=\"../../../assets/images/third_party/efficientnet-architecture.svg\" alt=\"efficientnet-architecture.svg\" style=\"width: 100%;\">\n",
    "    <figcaption>Figure 2. Model Scaling. (a) is a baseline network example; (b)-(d) are conventional scaling that only increases one dimension of network width, depth, or resolution. (e) is our proposed compound scaling method that uniformly scales all three dimensions with a fixed ratio.<br>©️ Image: <a href= \"https://arxiv.org/pdf/1905.11946\">EfficientNet: Rethinking Model Scaling for Convolutional Neural Networks</a></figcaption>\n",
    "</figure>"
   ]
  },
  {
   "cell_type": "markdown",
   "metadata": {},
   "source": [
    "## Custom EfficientNet\n",
    "   - `Softmax` is missing due to internal implementation of `LogSoftmax` in the `CrossEntropyLoss` function."
   ]
  },
  {
   "cell_type": "code",
   "execution_count": null,
   "metadata": {},
   "outputs": [],
   "source": [
    "# swish activation function\n",
    "class Swish(nn.Module):\n",
    "    def forward(self, x):\n",
    "        return x * torch.sigmoid(x)\n",
    "\n",
    "# squeeze-and-excitation (SE) block\n",
    "class SEBlock(nn.Module):\n",
    "    def __init__(self, in_channels, reduction=4):\n",
    "        super(SEBlock, self).__init__()\n",
    "        reduced_channels = in_channels // reduction\n",
    "        self.fc1 = nn.Conv2d(in_channels, reduced_channels, 1)\n",
    "        self.fc2 = nn.Conv2d(reduced_channels, in_channels, 1)\n",
    "\n",
    "    def forward(self, x):\n",
    "        out = F.adaptive_avg_pool2d(x, 1)\n",
    "        out = F.relu(self.fc1(out))\n",
    "        out = torch.sigmoid(self.fc2(out))\n",
    "        return x * out\n",
    "\n",
    "# mobile inverted bottleneck convolution (MBConv) block\n",
    "# the core building block of `EfficientNet`, originally introduced in `MobileNetV2`.\n",
    "class MBConvBlock(nn.Module):\n",
    "    def __init__(self, in_channels, out_channels, expand_ratio, kernel_size, stride, reduction=4, drop_connect_rate=0.2):\n",
    "        super(MBConvBlock, self).__init__()\n",
    "        self.drop_connect_rate = drop_connect_rate\n",
    "        self.has_se = reduction > 0\n",
    "        self.stride = stride\n",
    "        mid_channels = in_channels * expand_ratio\n",
    "\n",
    "        # expand phase\n",
    "        if expand_ratio != 1:\n",
    "            self.expand = nn.Conv2d(in_channels, mid_channels, 1, bias=False)\n",
    "            self.bn0 = nn.BatchNorm2d(mid_channels)\n",
    "            self.act0 = Swish()\n",
    "\n",
    "        # depth-wise convolution phase\n",
    "        self.depthwise = nn.Conv2d(mid_channels, mid_channels, kernel_size, stride, (kernel_size-1)//2, groups=mid_channels, bias=False)\n",
    "        self.bn1 = nn.BatchNorm2d(mid_channels)\n",
    "        self.act1 = Swish()\n",
    "\n",
    "        # squeeze and excitation phase\n",
    "        if self.has_se:\n",
    "            self.se = SEBlock(mid_channels, reduction)\n",
    "\n",
    "        # output phase\n",
    "        self.project = nn.Conv2d(mid_channels, out_channels, 1, bias=False)\n",
    "        self.bn2 = nn.BatchNorm2d(out_channels)\n",
    "\n",
    "    def drop_connect(self, x):\n",
    "        if not self.training:\n",
    "            return x\n",
    "        keep_prob = 1 - self.drop_connect_rate\n",
    "        random_tensor = keep_prob + torch.rand((x.shape[0], 1, 1, 1), dtype=x.dtype, device=x.device)\n",
    "        binary_tensor = torch.floor(random_tensor)\n",
    "        return x / keep_prob * binary_tensor\n",
    "\n",
    "    def forward(self, x):\n",
    "        identity = x\n",
    "\n",
    "        if hasattr(self, 'expand'):\n",
    "            x = self.expand(x)\n",
    "            x = self.bn0(x)\n",
    "            x = self.act0(x)\n",
    "\n",
    "        x = self.depthwise(x)\n",
    "        x = self.bn1(x)\n",
    "        x = self.act1(x)\n",
    "\n",
    "        if self.has_se:\n",
    "            x = self.se(x)\n",
    "\n",
    "        x = self.project(x)\n",
    "        x = self.bn2(x)\n",
    "\n",
    "        if self.stride == 1 and x.shape == identity.shape:\n",
    "            if self.drop_connect_rate:\n",
    "                x = self.drop_connect(x)\n",
    "            x += identity\n",
    "        return x"
   ]
  },
  {
   "cell_type": "code",
   "execution_count": null,
   "metadata": {},
   "outputs": [],
   "source": [
    "class CustomEfficientNet(nn.Module):\n",
    "    def __init__(self, width_coefficient, depth_coefficient, dropout_rate=0.2, num_classes=1000):\n",
    "        super(CustomEfficientNet, self).__init__()\n",
    "        self.dropout_rate = dropout_rate\n",
    "\n",
    "        def round_filters(filters, divisor=8):\n",
    "            filters *= width_coefficient\n",
    "            new_filters = max(divisor, int(filters + divisor / 2) // divisor * divisor)\n",
    "            if new_filters < 0.9 * filters:\n",
    "                new_filters += divisor\n",
    "            return int(new_filters)\n",
    "\n",
    "        def round_repeats(repeats):\n",
    "            return int(torch.ceil(torch.tensor(depth_coefficient * repeats)).item())\n",
    "\n",
    "        # stem: the initial convolutional layer that processes the input image before it enters the main network architecture\n",
    "        out_channels = round_filters(32)\n",
    "        self.stem = nn.Sequential(\n",
    "            nn.Conv2d(3, out_channels, 3, stride=2, padding=1, bias=False),\n",
    "            nn.BatchNorm2d(out_channels),\n",
    "            Swish()\n",
    "        )\n",
    "\n",
    "        # Blocks\n",
    "        self.blocks = nn.ModuleList([])\n",
    "        self.blocks.append(MBConvBlock(in_channels=out_channels, out_channels=round_filters(16), expand_ratio=1, kernel_size=3, stride=1))\n",
    "        \n",
    "        in_channels = round_filters(16)\n",
    "        block_args = [\n",
    "            # (out_channels, num_repeats, kernel_size, stride, expand_ratio)\n",
    "            (24, 2, 3, 2, 6),\n",
    "            (40, 2, 5, 2, 6),\n",
    "            (80, 3, 3, 2, 6),\n",
    "            (112, 3, 5, 1, 6),\n",
    "            (192, 4, 5, 2, 6),\n",
    "            (320, 1, 3, 1, 6)\n",
    "        ]\n",
    "        for (out_channels, num_repeats, kernel_size, stride, expand_ratio) in block_args:\n",
    "            out_channels = round_filters(out_channels)\n",
    "            repeats = round_repeats(num_repeats)\n",
    "            for i in range(repeats):\n",
    "                if i == 0:\n",
    "                    self.blocks.append(MBConvBlock(in_channels=in_channels, out_channels=out_channels, expand_ratio=expand_ratio, kernel_size=kernel_size, stride=stride))\n",
    "                else:\n",
    "                    self.blocks.append(MBConvBlock(in_channels=in_channels, out_channels=out_channels, expand_ratio=expand_ratio, kernel_size=kernel_size, stride=1))\n",
    "                in_channels = out_channels\n",
    "\n",
    "        # head: the final layers of the network that process the high-level features extracted by previous layers and produce the final output\n",
    "        out_channels = round_filters(1280)\n",
    "        self.head = nn.Sequential(\n",
    "            nn.Conv2d(in_channels, out_channels, 1, bias=False),\n",
    "            nn.BatchNorm2d(out_channels),\n",
    "            Swish(),\n",
    "            nn.AdaptiveAvgPool2d(1),\n",
    "            nn.Flatten(),\n",
    "            nn.Dropout(dropout_rate),\n",
    "            nn.Linear(out_channels, num_classes)\n",
    "        )\n",
    "\n",
    "    def forward(self, x):\n",
    "        x = self.stem(x)\n",
    "        for block in self.blocks:\n",
    "            x = block(x)\n",
    "        x = self.head(x)\n",
    "        return x"
   ]
  },
  {
   "cell_type": "markdown",
   "metadata": {},
   "source": [
    "### EfficientNet-B0"
   ]
  },
  {
   "cell_type": "code",
   "execution_count": 38,
   "metadata": {},
   "outputs": [
    {
     "data": {
      "text/plain": [
       "CustomEfficientNet(\n",
       "  (stem): Sequential(\n",
       "    (0): Conv2d(3, 32, kernel_size=(3, 3), stride=(2, 2), padding=(1, 1), bias=False)\n",
       "    (1): BatchNorm2d(32, eps=1e-05, momentum=0.1, affine=True, track_running_stats=True)\n",
       "    (2): Swish()\n",
       "  )\n",
       "  (blocks): ModuleList(\n",
       "    (0): MBConvBlock(\n",
       "      (depthwise): Conv2d(32, 32, kernel_size=(3, 3), stride=(1, 1), padding=(1, 1), groups=32, bias=False)\n",
       "      (bn1): BatchNorm2d(32, eps=1e-05, momentum=0.1, affine=True, track_running_stats=True)\n",
       "      (act1): Swish()\n",
       "      (se): SEBlock(\n",
       "        (fc1): Conv2d(32, 8, kernel_size=(1, 1), stride=(1, 1))\n",
       "        (fc2): Conv2d(8, 32, kernel_size=(1, 1), stride=(1, 1))\n",
       "      )\n",
       "      (project): Conv2d(32, 16, kernel_size=(1, 1), stride=(1, 1), bias=False)\n",
       "      (bn2): BatchNorm2d(16, eps=1e-05, momentum=0.1, affine=True, track_running_stats=True)\n",
       "    )\n",
       "    (1): MBConvBlock(\n",
       "      (expand): Conv2d(16, 96, kernel_size=(1, 1), stride=(1, 1), bias=False)\n",
       "      (bn0): BatchNorm2d(96, eps=1e-05, momentum=0.1, affine=True, track_running_stats=True)\n",
       "      (act0): Swish()\n",
       "      (depthwise): Conv2d(96, 96, kernel_size=(3, 3), stride=(2, 2), padding=(1, 1), groups=96, bias=False)\n",
       "      (bn1): BatchNorm2d(96, eps=1e-05, momentum=0.1, affine=True, track_running_stats=True)\n",
       "      (act1): Swish()\n",
       "      (se): SEBlock(\n",
       "        (fc1): Conv2d(96, 24, kernel_size=(1, 1), stride=(1, 1))\n",
       "        (fc2): Conv2d(24, 96, kernel_size=(1, 1), stride=(1, 1))\n",
       "      )\n",
       "      (project): Conv2d(96, 24, kernel_size=(1, 1), stride=(1, 1), bias=False)\n",
       "      (bn2): BatchNorm2d(24, eps=1e-05, momentum=0.1, affine=True, track_running_stats=True)\n",
       "    )\n",
       "    (2): MBConvBlock(\n",
       "      (expand): Conv2d(24, 144, kernel_size=(1, 1), stride=(1, 1), bias=False)\n",
       "      (bn0): BatchNorm2d(144, eps=1e-05, momentum=0.1, affine=True, track_running_stats=True)\n",
       "      (act0): Swish()\n",
       "      (depthwise): Conv2d(144, 144, kernel_size=(3, 3), stride=(1, 1), padding=(1, 1), groups=144, bias=False)\n",
       "      (bn1): BatchNorm2d(144, eps=1e-05, momentum=0.1, affine=True, track_running_stats=True)\n",
       "      (act1): Swish()\n",
       "      (se): SEBlock(\n",
       "        (fc1): Conv2d(144, 36, kernel_size=(1, 1), stride=(1, 1))\n",
       "        (fc2): Conv2d(36, 144, kernel_size=(1, 1), stride=(1, 1))\n",
       "      )\n",
       "      (project): Conv2d(144, 24, kernel_size=(1, 1), stride=(1, 1), bias=False)\n",
       "      (bn2): BatchNorm2d(24, eps=1e-05, momentum=0.1, affine=True, track_running_stats=True)\n",
       "    )\n",
       "    (3): MBConvBlock(\n",
       "      (expand): Conv2d(24, 144, kernel_size=(1, 1), stride=(1, 1), bias=False)\n",
       "      (bn0): BatchNorm2d(144, eps=1e-05, momentum=0.1, affine=True, track_running_stats=True)\n",
       "      (act0): Swish()\n",
       "      (depthwise): Conv2d(144, 144, kernel_size=(5, 5), stride=(2, 2), padding=(2, 2), groups=144, bias=False)\n",
       "      (bn1): BatchNorm2d(144, eps=1e-05, momentum=0.1, affine=True, track_running_stats=True)\n",
       "      (act1): Swish()\n",
       "      (se): SEBlock(\n",
       "        (fc1): Conv2d(144, 36, kernel_size=(1, 1), stride=(1, 1))\n",
       "        (fc2): Conv2d(36, 144, kernel_size=(1, 1), stride=(1, 1))\n",
       "      )\n",
       "      (project): Conv2d(144, 40, kernel_size=(1, 1), stride=(1, 1), bias=False)\n",
       "      (bn2): BatchNorm2d(40, eps=1e-05, momentum=0.1, affine=True, track_running_stats=True)\n",
       "    )\n",
       "    (4): MBConvBlock(\n",
       "      (expand): Conv2d(40, 240, kernel_size=(1, 1), stride=(1, 1), bias=False)\n",
       "      (bn0): BatchNorm2d(240, eps=1e-05, momentum=0.1, affine=True, track_running_stats=True)\n",
       "      (act0): Swish()\n",
       "      (depthwise): Conv2d(240, 240, kernel_size=(5, 5), stride=(1, 1), padding=(2, 2), groups=240, bias=False)\n",
       "      (bn1): BatchNorm2d(240, eps=1e-05, momentum=0.1, affine=True, track_running_stats=True)\n",
       "      (act1): Swish()\n",
       "      (se): SEBlock(\n",
       "        (fc1): Conv2d(240, 60, kernel_size=(1, 1), stride=(1, 1))\n",
       "        (fc2): Conv2d(60, 240, kernel_size=(1, 1), stride=(1, 1))\n",
       "      )\n",
       "      (project): Conv2d(240, 40, kernel_size=(1, 1), stride=(1, 1), bias=False)\n",
       "      (bn2): BatchNorm2d(40, eps=1e-05, momentum=0.1, affine=True, track_running_stats=True)\n",
       "    )\n",
       "    (5): MBConvBlock(\n",
       "      (expand): Conv2d(40, 240, kernel_size=(1, 1), stride=(1, 1), bias=False)\n",
       "      (bn0): BatchNorm2d(240, eps=1e-05, momentum=0.1, affine=True, track_running_stats=True)\n",
       "      (act0): Swish()\n",
       "      (depthwise): Conv2d(240, 240, kernel_size=(3, 3), stride=(2, 2), padding=(1, 1), groups=240, bias=False)\n",
       "      (bn1): BatchNorm2d(240, eps=1e-05, momentum=0.1, affine=True, track_running_stats=True)\n",
       "      (act1): Swish()\n",
       "      (se): SEBlock(\n",
       "        (fc1): Conv2d(240, 60, kernel_size=(1, 1), stride=(1, 1))\n",
       "        (fc2): Conv2d(60, 240, kernel_size=(1, 1), stride=(1, 1))\n",
       "      )\n",
       "      (project): Conv2d(240, 80, kernel_size=(1, 1), stride=(1, 1), bias=False)\n",
       "      (bn2): BatchNorm2d(80, eps=1e-05, momentum=0.1, affine=True, track_running_stats=True)\n",
       "    )\n",
       "    (6-7): 2 x MBConvBlock(\n",
       "      (expand): Conv2d(80, 480, kernel_size=(1, 1), stride=(1, 1), bias=False)\n",
       "      (bn0): BatchNorm2d(480, eps=1e-05, momentum=0.1, affine=True, track_running_stats=True)\n",
       "      (act0): Swish()\n",
       "      (depthwise): Conv2d(480, 480, kernel_size=(3, 3), stride=(1, 1), padding=(1, 1), groups=480, bias=False)\n",
       "      (bn1): BatchNorm2d(480, eps=1e-05, momentum=0.1, affine=True, track_running_stats=True)\n",
       "      (act1): Swish()\n",
       "      (se): SEBlock(\n",
       "        (fc1): Conv2d(480, 120, kernel_size=(1, 1), stride=(1, 1))\n",
       "        (fc2): Conv2d(120, 480, kernel_size=(1, 1), stride=(1, 1))\n",
       "      )\n",
       "      (project): Conv2d(480, 80, kernel_size=(1, 1), stride=(1, 1), bias=False)\n",
       "      (bn2): BatchNorm2d(80, eps=1e-05, momentum=0.1, affine=True, track_running_stats=True)\n",
       "    )\n",
       "    (8): MBConvBlock(\n",
       "      (expand): Conv2d(80, 480, kernel_size=(1, 1), stride=(1, 1), bias=False)\n",
       "      (bn0): BatchNorm2d(480, eps=1e-05, momentum=0.1, affine=True, track_running_stats=True)\n",
       "      (act0): Swish()\n",
       "      (depthwise): Conv2d(480, 480, kernel_size=(5, 5), stride=(1, 1), padding=(2, 2), groups=480, bias=False)\n",
       "      (bn1): BatchNorm2d(480, eps=1e-05, momentum=0.1, affine=True, track_running_stats=True)\n",
       "      (act1): Swish()\n",
       "      (se): SEBlock(\n",
       "        (fc1): Conv2d(480, 120, kernel_size=(1, 1), stride=(1, 1))\n",
       "        (fc2): Conv2d(120, 480, kernel_size=(1, 1), stride=(1, 1))\n",
       "      )\n",
       "      (project): Conv2d(480, 112, kernel_size=(1, 1), stride=(1, 1), bias=False)\n",
       "      (bn2): BatchNorm2d(112, eps=1e-05, momentum=0.1, affine=True, track_running_stats=True)\n",
       "    )\n",
       "    (9-10): 2 x MBConvBlock(\n",
       "      (expand): Conv2d(112, 672, kernel_size=(1, 1), stride=(1, 1), bias=False)\n",
       "      (bn0): BatchNorm2d(672, eps=1e-05, momentum=0.1, affine=True, track_running_stats=True)\n",
       "      (act0): Swish()\n",
       "      (depthwise): Conv2d(672, 672, kernel_size=(5, 5), stride=(1, 1), padding=(2, 2), groups=672, bias=False)\n",
       "      (bn1): BatchNorm2d(672, eps=1e-05, momentum=0.1, affine=True, track_running_stats=True)\n",
       "      (act1): Swish()\n",
       "      (se): SEBlock(\n",
       "        (fc1): Conv2d(672, 168, kernel_size=(1, 1), stride=(1, 1))\n",
       "        (fc2): Conv2d(168, 672, kernel_size=(1, 1), stride=(1, 1))\n",
       "      )\n",
       "      (project): Conv2d(672, 112, kernel_size=(1, 1), stride=(1, 1), bias=False)\n",
       "      (bn2): BatchNorm2d(112, eps=1e-05, momentum=0.1, affine=True, track_running_stats=True)\n",
       "    )\n",
       "    (11): MBConvBlock(\n",
       "      (expand): Conv2d(112, 672, kernel_size=(1, 1), stride=(1, 1), bias=False)\n",
       "      (bn0): BatchNorm2d(672, eps=1e-05, momentum=0.1, affine=True, track_running_stats=True)\n",
       "      (act0): Swish()\n",
       "      (depthwise): Conv2d(672, 672, kernel_size=(5, 5), stride=(2, 2), padding=(2, 2), groups=672, bias=False)\n",
       "      (bn1): BatchNorm2d(672, eps=1e-05, momentum=0.1, affine=True, track_running_stats=True)\n",
       "      (act1): Swish()\n",
       "      (se): SEBlock(\n",
       "        (fc1): Conv2d(672, 168, kernel_size=(1, 1), stride=(1, 1))\n",
       "        (fc2): Conv2d(168, 672, kernel_size=(1, 1), stride=(1, 1))\n",
       "      )\n",
       "      (project): Conv2d(672, 192, kernel_size=(1, 1), stride=(1, 1), bias=False)\n",
       "      (bn2): BatchNorm2d(192, eps=1e-05, momentum=0.1, affine=True, track_running_stats=True)\n",
       "    )\n",
       "    (12-14): 3 x MBConvBlock(\n",
       "      (expand): Conv2d(192, 1152, kernel_size=(1, 1), stride=(1, 1), bias=False)\n",
       "      (bn0): BatchNorm2d(1152, eps=1e-05, momentum=0.1, affine=True, track_running_stats=True)\n",
       "      (act0): Swish()\n",
       "      (depthwise): Conv2d(1152, 1152, kernel_size=(5, 5), stride=(1, 1), padding=(2, 2), groups=1152, bias=False)\n",
       "      (bn1): BatchNorm2d(1152, eps=1e-05, momentum=0.1, affine=True, track_running_stats=True)\n",
       "      (act1): Swish()\n",
       "      (se): SEBlock(\n",
       "        (fc1): Conv2d(1152, 288, kernel_size=(1, 1), stride=(1, 1))\n",
       "        (fc2): Conv2d(288, 1152, kernel_size=(1, 1), stride=(1, 1))\n",
       "      )\n",
       "      (project): Conv2d(1152, 192, kernel_size=(1, 1), stride=(1, 1), bias=False)\n",
       "      (bn2): BatchNorm2d(192, eps=1e-05, momentum=0.1, affine=True, track_running_stats=True)\n",
       "    )\n",
       "    (15): MBConvBlock(\n",
       "      (expand): Conv2d(192, 1152, kernel_size=(1, 1), stride=(1, 1), bias=False)\n",
       "      (bn0): BatchNorm2d(1152, eps=1e-05, momentum=0.1, affine=True, track_running_stats=True)\n",
       "      (act0): Swish()\n",
       "      (depthwise): Conv2d(1152, 1152, kernel_size=(3, 3), stride=(1, 1), padding=(1, 1), groups=1152, bias=False)\n",
       "      (bn1): BatchNorm2d(1152, eps=1e-05, momentum=0.1, affine=True, track_running_stats=True)\n",
       "      (act1): Swish()\n",
       "      (se): SEBlock(\n",
       "        (fc1): Conv2d(1152, 288, kernel_size=(1, 1), stride=(1, 1))\n",
       "        (fc2): Conv2d(288, 1152, kernel_size=(1, 1), stride=(1, 1))\n",
       "      )\n",
       "      (project): Conv2d(1152, 320, kernel_size=(1, 1), stride=(1, 1), bias=False)\n",
       "      (bn2): BatchNorm2d(320, eps=1e-05, momentum=0.1, affine=True, track_running_stats=True)\n",
       "    )\n",
       "  )\n",
       "  (head): Sequential(\n",
       "    (0): Conv2d(320, 1280, kernel_size=(1, 1), stride=(1, 1), bias=False)\n",
       "    (1): BatchNorm2d(1280, eps=1e-05, momentum=0.1, affine=True, track_running_stats=True)\n",
       "    (2): Swish()\n",
       "    (3): AdaptiveAvgPool2d(output_size=1)\n",
       "    (4): Flatten(start_dim=1, end_dim=-1)\n",
       "    (5): Dropout(p=0.2, inplace=False)\n",
       "    (6): Linear(in_features=1280, out_features=1000, bias=True)\n",
       "  )\n",
       ")"
      ]
     },
     "execution_count": 38,
     "metadata": {},
     "output_type": "execute_result"
    }
   ],
   "source": [
    "efficientnet_b0_1 = CustomEfficientNet(width_coefficient=1.0, depth_coefficient=1.0, dropout_rate=0.2, num_classes=1000)\n",
    "efficientnet_b0_1"
   ]
  },
  {
   "cell_type": "code",
   "execution_count": 39,
   "metadata": {},
   "outputs": [
    {
     "data": {
      "text/plain": [
       "==========================================================================================\n",
       "Layer (type:depth-idx)                   Output Shape              Param #\n",
       "==========================================================================================\n",
       "CustomEfficientNet                       [1, 1000]                 --\n",
       "├─Sequential: 1-1                        [1, 32, 112, 112]         --\n",
       "│    └─Conv2d: 2-1                       [1, 32, 112, 112]         864\n",
       "│    └─BatchNorm2d: 2-2                  [1, 32, 112, 112]         64\n",
       "│    └─Swish: 2-3                        [1, 32, 112, 112]         --\n",
       "├─ModuleList: 1-2                        --                        --\n",
       "│    └─MBConvBlock: 2-4                  [1, 16, 112, 112]         --\n",
       "│    │    └─Conv2d: 3-1                  [1, 32, 112, 112]         288\n",
       "│    │    └─BatchNorm2d: 3-2             [1, 32, 112, 112]         64\n",
       "│    │    └─Swish: 3-3                   [1, 32, 112, 112]         --\n",
       "│    │    └─SEBlock: 3-4                 [1, 32, 112, 112]         552\n",
       "│    │    └─Conv2d: 3-5                  [1, 16, 112, 112]         512\n",
       "│    │    └─BatchNorm2d: 3-6             [1, 16, 112, 112]         32\n",
       "│    └─MBConvBlock: 2-5                  [1, 24, 56, 56]           --\n",
       "│    │    └─Conv2d: 3-7                  [1, 96, 112, 112]         1,536\n",
       "│    │    └─BatchNorm2d: 3-8             [1, 96, 112, 112]         192\n",
       "│    │    └─Swish: 3-9                   [1, 96, 112, 112]         --\n",
       "│    │    └─Conv2d: 3-10                 [1, 96, 56, 56]           864\n",
       "│    │    └─BatchNorm2d: 3-11            [1, 96, 56, 56]           192\n",
       "│    │    └─Swish: 3-12                  [1, 96, 56, 56]           --\n",
       "│    │    └─SEBlock: 3-13                [1, 96, 56, 56]           4,728\n",
       "│    │    └─Conv2d: 3-14                 [1, 24, 56, 56]           2,304\n",
       "│    │    └─BatchNorm2d: 3-15            [1, 24, 56, 56]           48\n",
       "│    └─MBConvBlock: 2-6                  [1, 24, 56, 56]           --\n",
       "│    │    └─Conv2d: 3-16                 [1, 144, 56, 56]          3,456\n",
       "│    │    └─BatchNorm2d: 3-17            [1, 144, 56, 56]          288\n",
       "│    │    └─Swish: 3-18                  [1, 144, 56, 56]          --\n",
       "│    │    └─Conv2d: 3-19                 [1, 144, 56, 56]          1,296\n",
       "│    │    └─BatchNorm2d: 3-20            [1, 144, 56, 56]          288\n",
       "│    │    └─Swish: 3-21                  [1, 144, 56, 56]          --\n",
       "│    │    └─SEBlock: 3-22                [1, 144, 56, 56]          10,548\n",
       "│    │    └─Conv2d: 3-23                 [1, 24, 56, 56]           3,456\n",
       "│    │    └─BatchNorm2d: 3-24            [1, 24, 56, 56]           48\n",
       "│    └─MBConvBlock: 2-7                  [1, 40, 28, 28]           --\n",
       "│    │    └─Conv2d: 3-25                 [1, 144, 56, 56]          3,456\n",
       "│    │    └─BatchNorm2d: 3-26            [1, 144, 56, 56]          288\n",
       "│    │    └─Swish: 3-27                  [1, 144, 56, 56]          --\n",
       "│    │    └─Conv2d: 3-28                 [1, 144, 28, 28]          3,600\n",
       "│    │    └─BatchNorm2d: 3-29            [1, 144, 28, 28]          288\n",
       "│    │    └─Swish: 3-30                  [1, 144, 28, 28]          --\n",
       "│    │    └─SEBlock: 3-31                [1, 144, 28, 28]          10,548\n",
       "│    │    └─Conv2d: 3-32                 [1, 40, 28, 28]           5,760\n",
       "│    │    └─BatchNorm2d: 3-33            [1, 40, 28, 28]           80\n",
       "│    └─MBConvBlock: 2-8                  [1, 40, 28, 28]           --\n",
       "│    │    └─Conv2d: 3-34                 [1, 240, 28, 28]          9,600\n",
       "│    │    └─BatchNorm2d: 3-35            [1, 240, 28, 28]          480\n",
       "│    │    └─Swish: 3-36                  [1, 240, 28, 28]          --\n",
       "│    │    └─Conv2d: 3-37                 [1, 240, 28, 28]          6,000\n",
       "│    │    └─BatchNorm2d: 3-38            [1, 240, 28, 28]          480\n",
       "│    │    └─Swish: 3-39                  [1, 240, 28, 28]          --\n",
       "│    │    └─SEBlock: 3-40                [1, 240, 28, 28]          29,100\n",
       "│    │    └─Conv2d: 3-41                 [1, 40, 28, 28]           9,600\n",
       "│    │    └─BatchNorm2d: 3-42            [1, 40, 28, 28]           80\n",
       "│    └─MBConvBlock: 2-9                  [1, 80, 14, 14]           --\n",
       "│    │    └─Conv2d: 3-43                 [1, 240, 28, 28]          9,600\n",
       "│    │    └─BatchNorm2d: 3-44            [1, 240, 28, 28]          480\n",
       "│    │    └─Swish: 3-45                  [1, 240, 28, 28]          --\n",
       "│    │    └─Conv2d: 3-46                 [1, 240, 14, 14]          2,160\n",
       "│    │    └─BatchNorm2d: 3-47            [1, 240, 14, 14]          480\n",
       "│    │    └─Swish: 3-48                  [1, 240, 14, 14]          --\n",
       "│    │    └─SEBlock: 3-49                [1, 240, 14, 14]          29,100\n",
       "│    │    └─Conv2d: 3-50                 [1, 80, 14, 14]           19,200\n",
       "│    │    └─BatchNorm2d: 3-51            [1, 80, 14, 14]           160\n",
       "│    └─MBConvBlock: 2-10                 [1, 80, 14, 14]           --\n",
       "│    │    └─Conv2d: 3-52                 [1, 480, 14, 14]          38,400\n",
       "│    │    └─BatchNorm2d: 3-53            [1, 480, 14, 14]          960\n",
       "│    │    └─Swish: 3-54                  [1, 480, 14, 14]          --\n",
       "│    │    └─Conv2d: 3-55                 [1, 480, 14, 14]          4,320\n",
       "│    │    └─BatchNorm2d: 3-56            [1, 480, 14, 14]          960\n",
       "│    │    └─Swish: 3-57                  [1, 480, 14, 14]          --\n",
       "│    │    └─SEBlock: 3-58                [1, 480, 14, 14]          115,800\n",
       "│    │    └─Conv2d: 3-59                 [1, 80, 14, 14]           38,400\n",
       "│    │    └─BatchNorm2d: 3-60            [1, 80, 14, 14]           160\n",
       "│    └─MBConvBlock: 2-11                 [1, 80, 14, 14]           --\n",
       "│    │    └─Conv2d: 3-61                 [1, 480, 14, 14]          38,400\n",
       "│    │    └─BatchNorm2d: 3-62            [1, 480, 14, 14]          960\n",
       "│    │    └─Swish: 3-63                  [1, 480, 14, 14]          --\n",
       "│    │    └─Conv2d: 3-64                 [1, 480, 14, 14]          4,320\n",
       "│    │    └─BatchNorm2d: 3-65            [1, 480, 14, 14]          960\n",
       "│    │    └─Swish: 3-66                  [1, 480, 14, 14]          --\n",
       "│    │    └─SEBlock: 3-67                [1, 480, 14, 14]          115,800\n",
       "│    │    └─Conv2d: 3-68                 [1, 80, 14, 14]           38,400\n",
       "│    │    └─BatchNorm2d: 3-69            [1, 80, 14, 14]           160\n",
       "│    └─MBConvBlock: 2-12                 [1, 112, 14, 14]          --\n",
       "│    │    └─Conv2d: 3-70                 [1, 480, 14, 14]          38,400\n",
       "│    │    └─BatchNorm2d: 3-71            [1, 480, 14, 14]          960\n",
       "│    │    └─Swish: 3-72                  [1, 480, 14, 14]          --\n",
       "│    │    └─Conv2d: 3-73                 [1, 480, 14, 14]          12,000\n",
       "│    │    └─BatchNorm2d: 3-74            [1, 480, 14, 14]          960\n",
       "│    │    └─Swish: 3-75                  [1, 480, 14, 14]          --\n",
       "│    │    └─SEBlock: 3-76                [1, 480, 14, 14]          115,800\n",
       "│    │    └─Conv2d: 3-77                 [1, 112, 14, 14]          53,760\n",
       "│    │    └─BatchNorm2d: 3-78            [1, 112, 14, 14]          224\n",
       "│    └─MBConvBlock: 2-13                 [1, 112, 14, 14]          --\n",
       "│    │    └─Conv2d: 3-79                 [1, 672, 14, 14]          75,264\n",
       "│    │    └─BatchNorm2d: 3-80            [1, 672, 14, 14]          1,344\n",
       "│    │    └─Swish: 3-81                  [1, 672, 14, 14]          --\n",
       "│    │    └─Conv2d: 3-82                 [1, 672, 14, 14]          16,800\n",
       "│    │    └─BatchNorm2d: 3-83            [1, 672, 14, 14]          1,344\n",
       "│    │    └─Swish: 3-84                  [1, 672, 14, 14]          --\n",
       "│    │    └─SEBlock: 3-85                [1, 672, 14, 14]          226,632\n",
       "│    │    └─Conv2d: 3-86                 [1, 112, 14, 14]          75,264\n",
       "│    │    └─BatchNorm2d: 3-87            [1, 112, 14, 14]          224\n",
       "│    └─MBConvBlock: 2-14                 [1, 112, 14, 14]          --\n",
       "│    │    └─Conv2d: 3-88                 [1, 672, 14, 14]          75,264\n",
       "│    │    └─BatchNorm2d: 3-89            [1, 672, 14, 14]          1,344\n",
       "│    │    └─Swish: 3-90                  [1, 672, 14, 14]          --\n",
       "│    │    └─Conv2d: 3-91                 [1, 672, 14, 14]          16,800\n",
       "│    │    └─BatchNorm2d: 3-92            [1, 672, 14, 14]          1,344\n",
       "│    │    └─Swish: 3-93                  [1, 672, 14, 14]          --\n",
       "│    │    └─SEBlock: 3-94                [1, 672, 14, 14]          226,632\n",
       "│    │    └─Conv2d: 3-95                 [1, 112, 14, 14]          75,264\n",
       "│    │    └─BatchNorm2d: 3-96            [1, 112, 14, 14]          224\n",
       "│    └─MBConvBlock: 2-15                 [1, 192, 7, 7]            --\n",
       "│    │    └─Conv2d: 3-97                 [1, 672, 14, 14]          75,264\n",
       "│    │    └─BatchNorm2d: 3-98            [1, 672, 14, 14]          1,344\n",
       "│    │    └─Swish: 3-99                  [1, 672, 14, 14]          --\n",
       "│    │    └─Conv2d: 3-100                [1, 672, 7, 7]            16,800\n",
       "│    │    └─BatchNorm2d: 3-101           [1, 672, 7, 7]            1,344\n",
       "│    │    └─Swish: 3-102                 [1, 672, 7, 7]            --\n",
       "│    │    └─SEBlock: 3-103               [1, 672, 7, 7]            226,632\n",
       "│    │    └─Conv2d: 3-104                [1, 192, 7, 7]            129,024\n",
       "│    │    └─BatchNorm2d: 3-105           [1, 192, 7, 7]            384\n",
       "│    └─MBConvBlock: 2-16                 [1, 192, 7, 7]            --\n",
       "│    │    └─Conv2d: 3-106                [1, 1152, 7, 7]           221,184\n",
       "│    │    └─BatchNorm2d: 3-107           [1, 1152, 7, 7]           2,304\n",
       "│    │    └─Swish: 3-108                 [1, 1152, 7, 7]           --\n",
       "│    │    └─Conv2d: 3-109                [1, 1152, 7, 7]           28,800\n",
       "│    │    └─BatchNorm2d: 3-110           [1, 1152, 7, 7]           2,304\n",
       "│    │    └─Swish: 3-111                 [1, 1152, 7, 7]           --\n",
       "│    │    └─SEBlock: 3-112               [1, 1152, 7, 7]           664,992\n",
       "│    │    └─Conv2d: 3-113                [1, 192, 7, 7]            221,184\n",
       "│    │    └─BatchNorm2d: 3-114           [1, 192, 7, 7]            384\n",
       "│    └─MBConvBlock: 2-17                 [1, 192, 7, 7]            --\n",
       "│    │    └─Conv2d: 3-115                [1, 1152, 7, 7]           221,184\n",
       "│    │    └─BatchNorm2d: 3-116           [1, 1152, 7, 7]           2,304\n",
       "│    │    └─Swish: 3-117                 [1, 1152, 7, 7]           --\n",
       "│    │    └─Conv2d: 3-118                [1, 1152, 7, 7]           28,800\n",
       "│    │    └─BatchNorm2d: 3-119           [1, 1152, 7, 7]           2,304\n",
       "│    │    └─Swish: 3-120                 [1, 1152, 7, 7]           --\n",
       "│    │    └─SEBlock: 3-121               [1, 1152, 7, 7]           664,992\n",
       "│    │    └─Conv2d: 3-122                [1, 192, 7, 7]            221,184\n",
       "│    │    └─BatchNorm2d: 3-123           [1, 192, 7, 7]            384\n",
       "│    └─MBConvBlock: 2-18                 [1, 192, 7, 7]            --\n",
       "│    │    └─Conv2d: 3-124                [1, 1152, 7, 7]           221,184\n",
       "│    │    └─BatchNorm2d: 3-125           [1, 1152, 7, 7]           2,304\n",
       "│    │    └─Swish: 3-126                 [1, 1152, 7, 7]           --\n",
       "│    │    └─Conv2d: 3-127                [1, 1152, 7, 7]           28,800\n",
       "│    │    └─BatchNorm2d: 3-128           [1, 1152, 7, 7]           2,304\n",
       "│    │    └─Swish: 3-129                 [1, 1152, 7, 7]           --\n",
       "│    │    └─SEBlock: 3-130               [1, 1152, 7, 7]           664,992\n",
       "│    │    └─Conv2d: 3-131                [1, 192, 7, 7]            221,184\n",
       "│    │    └─BatchNorm2d: 3-132           [1, 192, 7, 7]            384\n",
       "│    └─MBConvBlock: 2-19                 [1, 320, 7, 7]            --\n",
       "│    │    └─Conv2d: 3-133                [1, 1152, 7, 7]           221,184\n",
       "│    │    └─BatchNorm2d: 3-134           [1, 1152, 7, 7]           2,304\n",
       "│    │    └─Swish: 3-135                 [1, 1152, 7, 7]           --\n",
       "│    │    └─Conv2d: 3-136                [1, 1152, 7, 7]           10,368\n",
       "│    │    └─BatchNorm2d: 3-137           [1, 1152, 7, 7]           2,304\n",
       "│    │    └─Swish: 3-138                 [1, 1152, 7, 7]           --\n",
       "│    │    └─SEBlock: 3-139               [1, 1152, 7, 7]           664,992\n",
       "│    │    └─Conv2d: 3-140                [1, 320, 7, 7]            368,640\n",
       "│    │    └─BatchNorm2d: 3-141           [1, 320, 7, 7]            640\n",
       "├─Sequential: 1-3                        [1, 1000]                 --\n",
       "│    └─Conv2d: 2-20                      [1, 1280, 7, 7]           409,600\n",
       "│    └─BatchNorm2d: 2-21                 [1, 1280, 7, 7]           2,560\n",
       "│    └─Swish: 2-22                       [1, 1280, 7, 7]           --\n",
       "│    └─AdaptiveAvgPool2d: 2-23           [1, 1280, 1, 1]           --\n",
       "│    └─Flatten: 2-24                     [1, 1280]                 --\n",
       "│    └─Dropout: 2-25                     [1, 1280]                 --\n",
       "│    └─Linear: 2-26                      [1, 1000]                 1,281,000\n",
       "==========================================================================================\n",
       "Total params: 8,423,848\n",
       "Trainable params: 8,423,848\n",
       "Non-trainable params: 0\n",
       "Total mult-adds (Units.MEGABYTES): 389.00\n",
       "==========================================================================================\n",
       "Input size (MB): 0.60\n",
       "Forward/backward pass size (MB): 107.90\n",
       "Params size (MB): 33.70\n",
       "Estimated Total Size (MB): 142.20\n",
       "=========================================================================================="
      ]
     },
     "execution_count": 39,
     "metadata": {},
     "output_type": "execute_result"
    }
   ],
   "source": [
    "summary(efficientnet_b0_1, (1, 3, 224, 224), device='cpu')"
   ]
  },
  {
   "cell_type": "markdown",
   "metadata": {},
   "source": [
    "### EfficientNet-B1"
   ]
  },
  {
   "cell_type": "code",
   "execution_count": null,
   "metadata": {},
   "outputs": [],
   "source": [
    "efficientnet_b1_1 = CustomEfficientNet(width_coefficient=1.0, depth_coefficient=1.1, dropout_rate=0.2, num_classes=1000)\n",
    "efficientnet_b1_1"
   ]
  },
  {
   "cell_type": "code",
   "execution_count": null,
   "metadata": {},
   "outputs": [],
   "source": [
    "ientnet_b1_1 = CustomEfficientNet(width_coefficient=1.0, depth_coefficient=1.1, dropout_rate=0.2, num_classes=1000)\n",
    "efficientnet_b1_1"
   ]
  },
  {
   "cell_type": "code",
   "execution_count": null,
   "metadata": {},
   "outputs": [],
   "source": [
    "summary(efficientnet_b1_1, (1, 3, 224, 224), device='cpu')"
   ]
  },
  {
   "cell_type": "markdown",
   "metadata": {},
   "source": [
    "### EfficientNet-B2"
   ]
  },
  {
   "cell_type": "code",
   "execution_count": null,
   "metadata": {},
   "outputs": [],
   "source": [
    "efficientnet_b2_1 = CustomEfficientNet(width_coefficient=1.1, depth_coefficient=1.2, dropout_rate=0.3, num_classes=1000)\n",
    "efficientnet_b2_1"
   ]
  },
  {
   "cell_type": "code",
   "execution_count": null,
   "metadata": {},
   "outputs": [],
   "source": [
    "summary(efficientnet_b2_1, (1, 3, 224, 224), device='cpu')"
   ]
  },
  {
   "cell_type": "markdown",
   "metadata": {},
   "source": [
    "### EfficientNet-B3"
   ]
  },
  {
   "cell_type": "code",
   "execution_count": null,
   "metadata": {},
   "outputs": [],
   "source": [
    "efficientnet_b3_1 = CustomEfficientNet(width_coefficient=1.2, depth_coefficient=1.4, dropout_rate=0.3, num_classes=1000)\n",
    "efficientnet_b3_1"
   ]
  },
  {
   "cell_type": "code",
   "execution_count": null,
   "metadata": {},
   "outputs": [],
   "source": [
    "summary(efficientnet_b3_1, (1, 3, 224, 224), device='cpu')"
   ]
  },
  {
   "cell_type": "markdown",
   "metadata": {},
   "source": [
    "### EfficientNet-B4"
   ]
  },
  {
   "cell_type": "code",
   "execution_count": null,
   "metadata": {},
   "outputs": [],
   "source": [
    "efficientnet_b4_1 = CustomEfficientNet(width_coefficient=1.4, depth_coefficient=1.8, dropout_rate=0.4, num_classes=1000)\n",
    "efficientnet_b4_1"
   ]
  },
  {
   "cell_type": "code",
   "execution_count": null,
   "metadata": {},
   "outputs": [],
   "source": [
    "summary(efficientnet_b4_1, (1, 3, 224, 224), device='cpu')"
   ]
  },
  {
   "cell_type": "markdown",
   "metadata": {},
   "source": [
    "### EfficientNet-B5"
   ]
  },
  {
   "cell_type": "code",
   "execution_count": null,
   "metadata": {},
   "outputs": [],
   "source": [
    "efficientnet_b5_1 = CustomEfficientNet(width_coefficient=1.6, depth_coefficient=2.2, dropout_rate=0.4, num_classes=1000)\n",
    "efficientnet_b5_1"
   ]
  },
  {
   "cell_type": "code",
   "execution_count": null,
   "metadata": {},
   "outputs": [],
   "source": [
    "summary(efficientnet_b5_1, (1, 3, 224, 224), device='cpu')"
   ]
  },
  {
   "cell_type": "markdown",
   "metadata": {},
   "source": [
    "### EfficientNet-B6"
   ]
  },
  {
   "cell_type": "code",
   "execution_count": null,
   "metadata": {},
   "outputs": [],
   "source": [
    "efficientnet_b6_1 = CustomEfficientNet(width_coefficient=1.8, depth_coefficient=2.6, dropout_rate=0.5, num_classes=1000)\n",
    "efficientnet_b6_1"
   ]
  },
  {
   "cell_type": "code",
   "execution_count": null,
   "metadata": {},
   "outputs": [],
   "source": [
    "summary(efficientnet_b6_1, (1, 3, 224, 224), device='cpu')"
   ]
  },
  {
   "cell_type": "markdown",
   "metadata": {},
   "source": [
    "### EfficientNet-B7"
   ]
  },
  {
   "cell_type": "code",
   "execution_count": null,
   "metadata": {},
   "outputs": [],
   "source": [
    "efficientnet_b7_1 = CustomEfficientNet(width_coefficient=2.0, depth_coefficient=3.1, dropout_rate=0.5, num_classes=1000)\n",
    "efficientnet_b7_1"
   ]
  },
  {
   "cell_type": "code",
   "execution_count": null,
   "metadata": {},
   "outputs": [],
   "source": [
    "summary(efficientnet_b7_1, (1, 3, 224, 224), device='cpu')"
   ]
  },
  {
   "cell_type": "markdown",
   "metadata": {},
   "source": [
    "## PyTorch EfficientNet\n",
    "   - EfficientNet is available in PyTorch: [pytorch.org/vision/main/models/efficientnet.html](https://pytorch.org/vision/main/models/efficientnet.html)"
   ]
  },
  {
   "cell_type": "markdown",
   "metadata": {},
   "source": [
    "### EfficientNet-B0"
   ]
  },
  {
   "cell_type": "code",
   "execution_count": null,
   "metadata": {},
   "outputs": [],
   "source": [
    "efficientnet_b0_2 = efficientnet_b0()\n",
    "efficientnet_b0_2"
   ]
  },
  {
   "cell_type": "code",
   "execution_count": null,
   "metadata": {},
   "outputs": [],
   "source": [
    "summary(efficientnet_b0_2, (1, 3, 224, 224), device='cpu')"
   ]
  },
  {
   "cell_type": "markdown",
   "metadata": {},
   "source": [
    "### EfficientNet-B1"
   ]
  },
  {
   "cell_type": "code",
   "execution_count": null,
   "metadata": {},
   "outputs": [],
   "source": [
    "efficientnet_b1_2 = efficientnet_b1()\n",
    "efficientnet_b1_2"
   ]
  },
  {
   "cell_type": "code",
   "execution_count": null,
   "metadata": {},
   "outputs": [],
   "source": [
    "summary(efficientnet_b1_2, (1, 3, 224, 224), device='cpu')"
   ]
  },
  {
   "cell_type": "markdown",
   "metadata": {},
   "source": [
    "### EfficientNet-B2"
   ]
  },
  {
   "cell_type": "code",
   "execution_count": null,
   "metadata": {},
   "outputs": [],
   "source": [
    "efficientnet_b2_2 = efficientnet_b2()\n",
    "efficientnet_b2_2"
   ]
  },
  {
   "cell_type": "code",
   "execution_count": null,
   "metadata": {},
   "outputs": [],
   "source": [
    "summary(efficientnet_b2_2, (1, 3, 224, 224), device='cpu')"
   ]
  },
  {
   "cell_type": "markdown",
   "metadata": {},
   "source": [
    "### EfficientNet-B3"
   ]
  },
  {
   "cell_type": "code",
   "execution_count": null,
   "metadata": {},
   "outputs": [],
   "source": [
    "efficientnet_b3_2 = efficientnet_b3()\n",
    "efficientnet_b3_2"
   ]
  },
  {
   "cell_type": "code",
   "execution_count": null,
   "metadata": {},
   "outputs": [],
   "source": [
    "summary(efficientnet_b3_2, (1, 3, 224, 224), device='cpu')"
   ]
  },
  {
   "cell_type": "markdown",
   "metadata": {},
   "source": [
    "### EfficientNet-B4"
   ]
  },
  {
   "cell_type": "code",
   "execution_count": null,
   "metadata": {},
   "outputs": [],
   "source": [
    "efficientnet_b4_2 = efficientnet_b4()\n",
    "efficientnet_b4_2"
   ]
  },
  {
   "cell_type": "code",
   "execution_count": null,
   "metadata": {},
   "outputs": [],
   "source": [
    "summary(efficientnet_b4_2, (1, 3, 224, 224), device='cpu')"
   ]
  },
  {
   "cell_type": "markdown",
   "metadata": {},
   "source": [
    "### EfficientNet-B5"
   ]
  },
  {
   "cell_type": "code",
   "execution_count": null,
   "metadata": {},
   "outputs": [],
   "source": [
    "efficientnet_b5_2 = efficientnet_b5()\n",
    "efficientnet_b5_2"
   ]
  },
  {
   "cell_type": "code",
   "execution_count": null,
   "metadata": {},
   "outputs": [],
   "source": [
    "summary(efficientnet_b5_2, (1, 3, 224, 224), device='cpu')"
   ]
  },
  {
   "cell_type": "markdown",
   "metadata": {},
   "source": [
    "### EfficientNet-B6"
   ]
  },
  {
   "cell_type": "code",
   "execution_count": null,
   "metadata": {},
   "outputs": [],
   "source": [
    "efficientnet_b6_2 = efficientnet_b6()\n",
    "efficientnet_b6_2"
   ]
  },
  {
   "cell_type": "code",
   "execution_count": null,
   "metadata": {},
   "outputs": [],
   "source": [
    "summary(efficientnet_b6_2, (1, 3, 224, 224), device='cpu')"
   ]
  },
  {
   "cell_type": "markdown",
   "metadata": {},
   "source": [
    "### EfficientNet-B7"
   ]
  },
  {
   "cell_type": "code",
   "execution_count": null,
   "metadata": {},
   "outputs": [],
   "source": [
    "efficientnet_b7_2 = efficientnet_b7()\n",
    "efficientnet_b7_2"
   ]
  },
  {
   "cell_type": "code",
   "execution_count": null,
   "metadata": {},
   "outputs": [],
   "source": [
    "summary(efficientnet_b7_2, (1, 3, 224, 224), device='cpu')"
   ]
  }
 ],
 "metadata": {
  "author_email": "AmirhosseinHeydari78@gmail.com",
  "author_github": "https://github.com/mr-pylin",
  "author_name": "Amirhossein Heydari",
  "kernelspec": {
   "display_name": "Python 3",
   "language": "python",
   "name": "python3"
  },
  "language_info": {
   "codemirror_mode": {
    "name": "ipython",
    "version": 3
   },
   "file_extension": ".py",
   "mimetype": "text/x-python",
   "name": "python",
   "nbconvert_exporter": "python",
   "pygments_lexer": "ipython3",
   "version": "3.12.3"
  },
  "origin_repo": "https://github.com/mr-pylin/pytorch-workshop"
 },
 "nbformat": 4,
 "nbformat_minor": 2
}
