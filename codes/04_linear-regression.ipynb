{
  "cells": [
    {
      "cell_type": "markdown",
      "metadata": {},
      "source": [
        "\ud83d\udcdd **Author:** Amirhossein Heydari - \ud83d\udce7 **Email:** amirhosseinheydari78@gmail.com - \ud83d\udccd **Linktree:** [linktr.ee/mr_pylin](https://linktr.ee/mr_pylin)\n",
        "\n",
        "---"
      ]
    },
    {
      "cell_type": "markdown",
      "metadata": {},
      "source": [
        "# Dependencies"
      ]
    },
    {
      "cell_type": "code",
      "execution_count": 1,
      "metadata": {},
      "outputs": [],
      "source": [
        "import matplotlib.pyplot as plt\n",
        "import numpy as np\n",
        "import torch\n",
        "from sklearn import datasets"
      ]
    },
    {
      "cell_type": "markdown",
      "metadata": {},
      "source": [
        "# Linear Regression\n",
        "<div style=\"display: flex; margin-top: 50px;\">\n",
        "    <div style=\"width: 20%;\">\n",
        "        <table style=\"margin-left: auto; margin-right: auto;\">\n",
        "            <caption>Dataset</caption>\n",
        "            <tr>\n",
        "                <th>#</th>\n",
        "                <th><span style=\"color: cyan;\">x<sub>1</span></th>\n",
        "                <th><span style=\"color: #FF9999;\">y</span></th>\n",
        "            </tr>\n",
        "            <tr>\n",
        "                <th><span style=\"color: #99DD00\">1</span></th>\n",
        "                <td>1</td>\n",
        "                <td>2</td>\n",
        "            </tr>\n",
        "            <tr>\n",
        "                <th><span style=\"color: #99DD00\">2</span></th>\n",
        "                <td>2</td>\n",
        "                <td>4</td>\n",
        "            </tr>\n",
        "            <tr>\n",
        "                <th><span style=\"color: #99DD00\">3</span></th>\n",
        "                <td>3</td>\n",
        "                <td>6</td>\n",
        "            </tr>\n",
        "            <tr>\n",
        "                <th><span style=\"color: #99DD00\">4</span></th>\n",
        "                <td>4</td>\n",
        "                <td>8</td>\n",
        "            </tr>\n",
        "            <tr>\n",
        "                <th><span style=\"color: #99DD00\">5</span></th>\n",
        "                <td>5</td>\n",
        "                <td>10</td>\n",
        "            </tr>\n",
        "            <tr>\n",
        "                <th><span style=\"color: #99DD00\">6</span></th>\n",
        "                <td>6</td>\n",
        "                <td>12</td>\n",
        "            </tr>\n",
        "        </table>\n",
        "    </div>\n",
        "    <div style=\"width: 80%;\">\n",
        "        <figure style=\"text-align: center;\">\n",
        "            <img src=\"../assets/images/original/linear-regression.svg\" alt=\"linear-regression.svg\" style=\"width: 100%;\">\n",
        "            <figcaption style=\"text-align: center;\">Linear Regression Model</figcaption>\n",
        "        </figure>\n",
        "    </div>\n",
        "</div>"
      ]
    },
    {
      "cell_type": "code",
      "execution_count": 2,
      "metadata": {},
      "outputs": [],
      "source": [
        "dataset = torch.tensor(\n",
        "    [\n",
        "        [1, 2],\n",
        "        [2, 4],\n",
        "        [3, 6],\n",
        "        [4, 8],\n",
        "        [5, 10],\n",
        "        [6, 12]\n",
        "    ]\n",
        ")"
      ]
    },
    {
      "cell_type": "code",
      "execution_count": 3,
      "metadata": {},
      "outputs": [
        {
          "name": "stdout",
          "output_type": "stream",
          "text": [
            "x_train: tensor([1., 2., 3., 4.])\n",
            "y_train: tensor([2., 4., 6., 8.])\n"
          ]
        }
      ],
      "source": [
        "trainset = dataset[:4]\n",
        "\n",
        "x_train = trainset[:, 0].type(torch.float32)\n",
        "y_train = trainset[:, 1].type(torch.float32)\n",
        "\n",
        "# log\n",
        "print(f\"x_train: {x_train}\")\n",
        "print(f\"y_train: {y_train}\")"
      ]
    },
    {
      "cell_type": "code",
      "execution_count": 4,
      "metadata": {},
      "outputs": [
        {
          "name": "stdout",
          "output_type": "stream",
          "text": [
            "x_test: tensor([5., 6.])\n",
            "y_test: tensor([10., 12.])\n"
          ]
        }
      ],
      "source": [
        "testset = dataset[4:]\n",
        "\n",
        "x_test = testset[:, 0].type(torch.float32)\n",
        "y_test = testset[:, 1].type(torch.float32)\n",
        "\n",
        "# log\n",
        "print(f\"x_test: {x_test}\")\n",
        "print(f\"y_test: {y_test}\")"
      ]
    },
    {
      "cell_type": "code",
      "execution_count": null,
      "metadata": {},
      "outputs": [],
      "source": [
        "# plot\n",
        "plt.scatter(dataset[:, 0][:4], dataset[:, 1][:4], c='blue')\n",
        "plt.scatter(dataset[:, 0][4:], dataset[:, 1][4:], c='red')\n",
        "plt.title(\"f(x) = 2x\")\n",
        "plt.xlabel('x')\n",
        "plt.ylabel('f(x)')\n",
        "plt.show()"
      ]
    },
    {
      "cell_type": "markdown",
      "metadata": {},
      "source": [
        "## Implementation 1\n",
        "<ul>\n",
        "    <li style=\"font-family: consolas;\">feed-forward &nbsp;&nbsp;&nbsp;&nbsp;: <span style=\"color: red\">Manual</span></li>\n",
        "    <li style=\"font-family: consolas;\">compute gradient : <span style=\"color: red\">Manual</span></li>\n",
        "    <li style=\"font-family: consolas;\">compute loss &nbsp;&nbsp;&nbsp;&nbsp;: <span style=\"color: red\">Manual</span></li>\n",
        "    <li style=\"font-family: consolas;\">update weights &nbsp;&nbsp;: <span style=\"color: red\">Manual</span></li>\n",
        "    \n",
        "</ul>"
      ]
    },
    {
      "cell_type": "code",
      "execution_count": 6,
      "metadata": {},
      "outputs": [
        {
          "name": "stdout",
          "output_type": "stream",
          "text": [
            "epoch:  0 -> loss= 30.00000 | w_old= 0.000 | step= -0.30000 | w_new= 0.300 | y_test= tensor([1.5000, 1.8000])\n",
            "epoch:  1 -> loss= 21.67500 | w_old= 0.300 | step= -0.25500 | w_new= 0.555 | y_test= tensor([2.7750, 3.3300])\n",
            "epoch:  2 -> loss= 15.66019 | w_old= 0.555 | step= -0.21675 | w_new= 0.772 | y_test= tensor([3.8587, 4.6305])\n",
            "epoch:  3 -> loss= 11.31449 | w_old= 0.772 | step= -0.18424 | w_new= 0.956 | y_test= tensor([4.7799, 5.7359])\n",
            "epoch:  4 -> loss=  8.17472 | w_old= 0.956 | step= -0.15660 | w_new= 1.113 | y_test= tensor([5.5629, 6.6755])\n",
            "epoch:  5 -> loss=  5.90623 | w_old= 1.113 | step= -0.13311 | w_new= 1.246 | y_test= tensor([6.2285, 7.4742])\n",
            "epoch:  6 -> loss=  4.26725 | w_old= 1.246 | step= -0.11314 | w_new= 1.359 | y_test= tensor([6.7942, 8.1531])\n",
            "epoch:  7 -> loss=  3.08309 | w_old= 1.359 | step= -0.09617 | w_new= 1.455 | y_test= tensor([7.2751, 8.7301])\n",
            "epoch:  8 -> loss=  2.22753 | w_old= 1.455 | step= -0.08175 | w_new= 1.537 | y_test= tensor([7.6838, 9.2206])\n",
            "epoch:  9 -> loss=  1.60939 | w_old= 1.537 | step= -0.06949 | w_new= 1.606 | y_test= tensor([8.0313, 9.6375])\n",
            "epoch: 10 -> loss=  1.16279 | w_old= 1.606 | step= -0.05906 | w_new= 1.665 | y_test= tensor([8.3266, 9.9919])\n",
            "epoch: 11 -> loss=  0.84011 | w_old= 1.665 | step= -0.05020 | w_new= 1.716 | y_test= tensor([ 8.5776, 10.2931])\n",
            "epoch: 12 -> loss=  0.60698 | w_old= 1.716 | step= -0.04267 | w_new= 1.758 | y_test= tensor([ 8.7909, 10.5491])\n",
            "epoch: 13 -> loss=  0.43854 | w_old= 1.758 | step= -0.03627 | w_new= 1.794 | y_test= tensor([ 8.9723, 10.7668])\n",
            "epoch: 14 -> loss=  0.31685 | w_old= 1.794 | step= -0.03083 | w_new= 1.825 | y_test= tensor([ 9.1265, 10.9518])\n",
            "epoch: 15 -> loss=  0.22892 | w_old= 1.825 | step= -0.02621 | w_new= 1.851 | y_test= tensor([ 9.2575, 11.1090])\n",
            "epoch: 16 -> loss=  0.16540 | w_old= 1.851 | step= -0.02228 | w_new= 1.874 | y_test= tensor([ 9.3689, 11.2426])\n",
            "epoch: 17 -> loss=  0.11950 | w_old= 1.874 | step= -0.01893 | w_new= 1.893 | y_test= tensor([ 9.4635, 11.3562])\n",
            "epoch: 18 -> loss=  0.08634 | w_old= 1.893 | step= -0.01609 | w_new= 1.909 | y_test= tensor([ 9.5440, 11.4528])\n",
            "epoch: 19 -> loss=  0.06238 | w_old= 1.909 | step= -0.01368 | w_new= 1.922 | y_test= tensor([ 9.6124, 11.5349])\n"
          ]
        }
      ],
      "source": [
        "# initial weight\n",
        "w = torch.tensor([0.0])\n",
        "\n",
        "# feed-forward\n",
        "def forward(x):\n",
        "    return w * x\n",
        "\n",
        "# MSE loss\n",
        "def loss(y_pred, y_train):\n",
        "    return ((y_pred - y_train) ** 2).mean()\n",
        "\n",
        "# backward\n",
        "def gradient(x, y_pred, y_train):\n",
        "    # MSE   = 1/N * (w*x - y) ** 2\n",
        "    # dl/dw = 1/N * 2x * (w*x - y)\n",
        "    return (2 * x * (y_pred - y_train)).mean()\n",
        "\n",
        "# hyper parameters\n",
        "lr = 0.01\n",
        "epoch = 20\n",
        "\n",
        "for i in range(epoch):\n",
        "\n",
        "    # forward\n",
        "    y_pred = forward(x_train)\n",
        "\n",
        "    # backward\n",
        "    l = loss(y_pred, y_train)\n",
        "    dw = gradient(x_train, y_pred, y_train)\n",
        "\n",
        "    # update parameters\n",
        "    w -= lr * dw\n",
        "\n",
        "    # test\n",
        "    y_pred = forward(x_test)\n",
        "\n",
        "    # log\n",
        "    print(f\"epoch: {i:>2} -> loss={l:>9.5f} | w_old= {(w + lr * dw).item():.3f} | step= {(lr * dw).item():.5f} | w_new= {w.item():.3f} | y_test= {y_pred.round(decimals=4)}\")"
      ]
    },
    {
      "cell_type": "markdown",
      "metadata": {},
      "source": [
        "## Implementation 2\n",
        "<ul>\n",
        "    <li style=\"font-family: consolas;\">feed-forward &nbsp;&nbsp;&nbsp;&nbsp;: <span style=\"color: red\">Manual</span></li>\n",
        "    <li style=\"font-family: consolas;\">compute gradient : <span style=\"color: cyan\">PyTorch</span></li>\n",
        "    <li style=\"font-family: consolas;\">compute loss &nbsp;&nbsp;&nbsp;&nbsp;: <span style=\"color: red\">Manual</span></li>\n",
        "    <li style=\"font-family: consolas;\">update weights &nbsp;&nbsp;: <span style=\"color: red\">Manual</span></li>\n",
        "</ul>"
      ]
    },
    {
      "cell_type": "code",
      "execution_count": 7,
      "metadata": {},
      "outputs": [
        {
          "name": "stdout",
          "output_type": "stream",
          "text": [
            "epoch:  0 -> loss= 30.00000 | w_old= 0.000 | step= -0.30000 | w_new= 0.300 | y_test= tensor([1.5000, 1.8000])\n",
            "epoch:  1 -> loss= 21.67500 | w_old= 0.300 | step= -0.25500 | w_new= 0.555 | y_test= tensor([2.7750, 3.3300])\n",
            "epoch:  2 -> loss= 15.66019 | w_old= 0.555 | step= -0.21675 | w_new= 0.772 | y_test= tensor([3.8587, 4.6305])\n",
            "epoch:  3 -> loss= 11.31449 | w_old= 0.772 | step= -0.18424 | w_new= 0.956 | y_test= tensor([4.7799, 5.7359])\n",
            "epoch:  4 -> loss=  8.17472 | w_old= 0.956 | step= -0.15660 | w_new= 1.113 | y_test= tensor([5.5629, 6.6755])\n",
            "epoch:  5 -> loss=  5.90623 | w_old= 1.113 | step= -0.13311 | w_new= 1.246 | y_test= tensor([6.2285, 7.4742])\n",
            "epoch:  6 -> loss=  4.26725 | w_old= 1.246 | step= -0.11314 | w_new= 1.359 | y_test= tensor([6.7942, 8.1531])\n",
            "epoch:  7 -> loss=  3.08309 | w_old= 1.359 | step= -0.09617 | w_new= 1.455 | y_test= tensor([7.2751, 8.7301])\n",
            "epoch:  8 -> loss=  2.22753 | w_old= 1.455 | step= -0.08175 | w_new= 1.537 | y_test= tensor([7.6838, 9.2206])\n",
            "epoch:  9 -> loss=  1.60939 | w_old= 1.537 | step= -0.06949 | w_new= 1.606 | y_test= tensor([8.0313, 9.6375])\n",
            "epoch: 10 -> loss=  1.16279 | w_old= 1.606 | step= -0.05906 | w_new= 1.665 | y_test= tensor([8.3266, 9.9919])\n",
            "epoch: 11 -> loss=  0.84011 | w_old= 1.665 | step= -0.05020 | w_new= 1.716 | y_test= tensor([ 8.5776, 10.2931])\n",
            "epoch: 12 -> loss=  0.60698 | w_old= 1.716 | step= -0.04267 | w_new= 1.758 | y_test= tensor([ 8.7909, 10.5491])\n",
            "epoch: 13 -> loss=  0.43854 | w_old= 1.758 | step= -0.03627 | w_new= 1.794 | y_test= tensor([ 8.9723, 10.7668])\n",
            "epoch: 14 -> loss=  0.31685 | w_old= 1.794 | step= -0.03083 | w_new= 1.825 | y_test= tensor([ 9.1265, 10.9518])\n",
            "epoch: 15 -> loss=  0.22892 | w_old= 1.825 | step= -0.02621 | w_new= 1.851 | y_test= tensor([ 9.2575, 11.1090])\n",
            "epoch: 16 -> loss=  0.16540 | w_old= 1.851 | step= -0.02228 | w_new= 1.874 | y_test= tensor([ 9.3689, 11.2426])\n",
            "epoch: 17 -> loss=  0.11950 | w_old= 1.874 | step= -0.01893 | w_new= 1.893 | y_test= tensor([ 9.4635, 11.3562])\n",
            "epoch: 18 -> loss=  0.08634 | w_old= 1.893 | step= -0.01609 | w_new= 1.909 | y_test= tensor([ 9.5440, 11.4528])\n",
            "epoch: 19 -> loss=  0.06238 | w_old= 1.909 | step= -0.01368 | w_new= 1.922 | y_test= tensor([ 9.6124, 11.5349])\n"
          ]
        }
      ],
      "source": [
        "# initial weight\n",
        "w = torch.tensor([0.0], requires_grad=True)\n",
        "\n",
        "# feed-forward\n",
        "def forward(x):\n",
        "    return w * x\n",
        "\n",
        "# MSE loss\n",
        "def loss(y_pred, y_train):\n",
        "    return ((y_pred - y_train) ** 2).mean()\n",
        "\n",
        "# hyper parameters\n",
        "lr = 0.01\n",
        "epoch = 20\n",
        "\n",
        "for i in range(epoch):\n",
        "\n",
        "    # forward\n",
        "    y_pred = forward(x_train)\n",
        "\n",
        "    # backward\n",
        "    l = loss(y_pred, y_train)\n",
        "    l.backward()\n",
        "\n",
        "    # update parameters\n",
        "    with torch.no_grad():\n",
        "        w -= lr * w.grad\n",
        "\n",
        "    # test\n",
        "    with torch.no_grad():\n",
        "        y_pred = forward(x_test)\n",
        "\n",
        "    # log\n",
        "    print(f\"epoch: {i:>2} -> loss={l:>9.5f} | w_old= {(w + lr * w.grad).item():.3f} | step= {(lr * w.grad).item():.5f} | w_new= {w.item():.3f} | y_test= {y_pred.round(decimals=4).detach()}\")\n",
        "\n",
        "    # remove previous gradients\n",
        "    w.grad.zero_()"
      ]
    },
    {
      "cell_type": "markdown",
      "metadata": {},
      "source": [
        "## Implementation 3\n",
        "<ul>\n",
        "    <li style=\"font-family: consolas;\">feed-forward &nbsp;&nbsp;&nbsp;&nbsp;: <span style=\"color: red\">Manual</span></li>\n",
        "    <li style=\"font-family: consolas;\">compute gradient : <span style=\"color: cyan\">PyTorch</span></li>\n",
        "    <li style=\"font-family: consolas;\">compute loss &nbsp;&nbsp;&nbsp;&nbsp;: <span style=\"color: cyan\">PyTorch</span></li>\n",
        "    <li style=\"font-family: consolas;\">update weights &nbsp;&nbsp;: <span style=\"color: cyan\">PyTorch</span></li>\n",
        "</ul>"
      ]
    },
    {
      "cell_type": "code",
      "execution_count": 8,
      "metadata": {},
      "outputs": [
        {
          "name": "stdout",
          "output_type": "stream",
          "text": [
            "epoch:  0 -> loss= 30.00000 | w_old= 0.000 | step= -0.30000 | w_new= 0.300 | y_test= tensor([1.5000, 1.8000])\n",
            "epoch:  1 -> loss= 21.67500 | w_old= 0.300 | step= -0.25500 | w_new= 0.555 | y_test= tensor([2.7750, 3.3300])\n",
            "epoch:  2 -> loss= 15.66019 | w_old= 0.555 | step= -0.21675 | w_new= 0.772 | y_test= tensor([3.8587, 4.6305])\n",
            "epoch:  3 -> loss= 11.31449 | w_old= 0.772 | step= -0.18424 | w_new= 0.956 | y_test= tensor([4.7799, 5.7359])\n",
            "epoch:  4 -> loss=  8.17472 | w_old= 0.956 | step= -0.15660 | w_new= 1.113 | y_test= tensor([5.5629, 6.6755])\n",
            "epoch:  5 -> loss=  5.90623 | w_old= 1.113 | step= -0.13311 | w_new= 1.246 | y_test= tensor([6.2285, 7.4742])\n",
            "epoch:  6 -> loss=  4.26725 | w_old= 1.246 | step= -0.11314 | w_new= 1.359 | y_test= tensor([6.7942, 8.1531])\n",
            "epoch:  7 -> loss=  3.08309 | w_old= 1.359 | step= -0.09617 | w_new= 1.455 | y_test= tensor([7.2751, 8.7301])\n",
            "epoch:  8 -> loss=  2.22753 | w_old= 1.455 | step= -0.08175 | w_new= 1.537 | y_test= tensor([7.6838, 9.2206])\n",
            "epoch:  9 -> loss=  1.60939 | w_old= 1.537 | step= -0.06949 | w_new= 1.606 | y_test= tensor([8.0313, 9.6375])\n",
            "epoch: 10 -> loss=  1.16279 | w_old= 1.606 | step= -0.05906 | w_new= 1.665 | y_test= tensor([8.3266, 9.9919])\n",
            "epoch: 11 -> loss=  0.84011 | w_old= 1.665 | step= -0.05020 | w_new= 1.716 | y_test= tensor([ 8.5776, 10.2931])\n",
            "epoch: 12 -> loss=  0.60698 | w_old= 1.716 | step= -0.04267 | w_new= 1.758 | y_test= tensor([ 8.7909, 10.5491])\n",
            "epoch: 13 -> loss=  0.43854 | w_old= 1.758 | step= -0.03627 | w_new= 1.794 | y_test= tensor([ 8.9723, 10.7668])\n",
            "epoch: 14 -> loss=  0.31685 | w_old= 1.794 | step= -0.03083 | w_new= 1.825 | y_test= tensor([ 9.1265, 10.9518])\n",
            "epoch: 15 -> loss=  0.22892 | w_old= 1.825 | step= -0.02621 | w_new= 1.851 | y_test= tensor([ 9.2575, 11.1090])\n",
            "epoch: 16 -> loss=  0.16540 | w_old= 1.851 | step= -0.02228 | w_new= 1.874 | y_test= tensor([ 9.3689, 11.2426])\n",
            "epoch: 17 -> loss=  0.11950 | w_old= 1.874 | step= -0.01893 | w_new= 1.893 | y_test= tensor([ 9.4635, 11.3562])\n",
            "epoch: 18 -> loss=  0.08634 | w_old= 1.893 | step= -0.01609 | w_new= 1.909 | y_test= tensor([ 9.5440, 11.4528])\n",
            "epoch: 19 -> loss=  0.06238 | w_old= 1.909 | step= -0.01368 | w_new= 1.922 | y_test= tensor([ 9.6124, 11.5349])\n"
          ]
        }
      ],
      "source": [
        "# initial weight\n",
        "w = torch.tensor([0.0], requires_grad=True)\n",
        "\n",
        "# feed-forward\n",
        "def forward(x):\n",
        "    return w * x\n",
        "\n",
        "# hyper parameters\n",
        "lr = 0.01\n",
        "epoch = 20\n",
        "criterion = torch.nn.MSELoss()\n",
        "optimizer = torch.optim.SGD([w], lr)\n",
        "\n",
        "for i in range(epoch):\n",
        "\n",
        "    # forward\n",
        "    y_pred = forward(x_train)\n",
        "\n",
        "    # backward\n",
        "    l = criterion(y_pred, y_train)\n",
        "    l.backward()\n",
        "\n",
        "    # update parameters\n",
        "    optimizer.step()\n",
        "\n",
        "    # test\n",
        "    with torch.no_grad():\n",
        "        y_pred = forward(x_test)\n",
        "\n",
        "    # log\n",
        "    print(f\"epoch: {i:>2} -> loss={l:>9.5f} | w_old= {(w + lr * w.grad).item():.3f} | step= {(lr * w.grad).item():.5f} | w_new= {w.item():.3f} | y_test= {y_pred.round(decimals=4).detach()}\")\n",
        "\n",
        "    # remove previous gradients\n",
        "    optimizer.zero_grad()"
      ]
    },
    {
      "cell_type": "markdown",
      "metadata": {},
      "source": [
        "## Implementation 4\n",
        "<ul>\n",
        "    <li style=\"font-family: consolas;\">feed-forward &nbsp;&nbsp;&nbsp;&nbsp;: <span style=\"color: cyan\">PyTorch</span></li>\n",
        "    <li style=\"font-family: consolas;\">compute gradient : <span style=\"color: cyan\">PyTorch</span></li>\n",
        "    <li style=\"font-family: consolas;\">compute loss &nbsp;&nbsp;&nbsp;&nbsp;: <span style=\"color: cyan\">PyTorch</span></li>\n",
        "    <li style=\"font-family: consolas;\">update weights &nbsp;&nbsp;: <span style=\"color: cyan\">PyTorch</span></li>\n",
        "</ul>"
      ]
    },
    {
      "cell_type": "code",
      "execution_count": 9,
      "metadata": {},
      "outputs": [
        {
          "name": "stdout",
          "output_type": "stream",
          "text": [
            "epoch:  0 -> loss= 30.00000 | w_old= 0.000 | step= -0.30000 | w_new= 0.300 | y_test= tensor([ 9.6124, 11.5349])\n",
            "epoch:  1 -> loss= 21.67500 | w_old= 0.300 | step= -0.25500 | w_new= 0.555 | y_test= tensor([ 9.6124, 11.5349])\n",
            "epoch:  2 -> loss= 15.66019 | w_old= 0.555 | step= -0.21675 | w_new= 0.772 | y_test= tensor([ 9.6124, 11.5349])\n",
            "epoch:  3 -> loss= 11.31449 | w_old= 0.772 | step= -0.18424 | w_new= 0.956 | y_test= tensor([ 9.6124, 11.5349])\n",
            "epoch:  4 -> loss=  8.17472 | w_old= 0.956 | step= -0.15660 | w_new= 1.113 | y_test= tensor([ 9.6124, 11.5349])\n",
            "epoch:  5 -> loss=  5.90623 | w_old= 1.113 | step= -0.13311 | w_new= 1.246 | y_test= tensor([ 9.6124, 11.5349])\n",
            "epoch:  6 -> loss=  4.26725 | w_old= 1.246 | step= -0.11314 | w_new= 1.359 | y_test= tensor([ 9.6124, 11.5349])\n",
            "epoch:  7 -> loss=  3.08309 | w_old= 1.359 | step= -0.09617 | w_new= 1.455 | y_test= tensor([ 9.6124, 11.5349])\n",
            "epoch:  8 -> loss=  2.22753 | w_old= 1.455 | step= -0.08175 | w_new= 1.537 | y_test= tensor([ 9.6124, 11.5349])\n",
            "epoch:  9 -> loss=  1.60939 | w_old= 1.537 | step= -0.06949 | w_new= 1.606 | y_test= tensor([ 9.6124, 11.5349])\n",
            "epoch: 10 -> loss=  1.16279 | w_old= 1.606 | step= -0.05906 | w_new= 1.665 | y_test= tensor([ 9.6124, 11.5349])\n",
            "epoch: 11 -> loss=  0.84011 | w_old= 1.665 | step= -0.05020 | w_new= 1.716 | y_test= tensor([ 9.6124, 11.5349])\n",
            "epoch: 12 -> loss=  0.60698 | w_old= 1.716 | step= -0.04267 | w_new= 1.758 | y_test= tensor([ 9.6124, 11.5349])\n",
            "epoch: 13 -> loss=  0.43854 | w_old= 1.758 | step= -0.03627 | w_new= 1.794 | y_test= tensor([ 9.6124, 11.5349])\n",
            "epoch: 14 -> loss=  0.31685 | w_old= 1.794 | step= -0.03083 | w_new= 1.825 | y_test= tensor([ 9.6124, 11.5349])\n",
            "epoch: 15 -> loss=  0.22892 | w_old= 1.825 | step= -0.02621 | w_new= 1.851 | y_test= tensor([ 9.6124, 11.5349])\n",
            "epoch: 16 -> loss=  0.16540 | w_old= 1.851 | step= -0.02228 | w_new= 1.874 | y_test= tensor([ 9.6124, 11.5349])\n",
            "epoch: 17 -> loss=  0.11950 | w_old= 1.874 | step= -0.01893 | w_new= 1.893 | y_test= tensor([ 9.6124, 11.5349])\n",
            "epoch: 18 -> loss=  0.08634 | w_old= 1.893 | step= -0.01609 | w_new= 1.909 | y_test= tensor([ 9.6124, 11.5349])\n",
            "epoch: 19 -> loss=  0.06238 | w_old= 1.909 | step= -0.01368 | w_new= 1.922 | y_test= tensor([ 9.6124, 11.5349])\n"
          ]
        }
      ],
      "source": [
        "# reshape dataset [row: num of samples - column: num of features]\n",
        "x_train, x_test, y_train, y_test = map(lambda x: x.reshape(-1, 1), [x_train, x_test, y_train, y_test])\n",
        "\n",
        "# linear regression model\n",
        "model = torch.nn.Linear(in_features=1, out_features=1, bias=False)\n",
        "\n",
        "# initial weight [educational purpose]\n",
        "with torch.no_grad():\n",
        "    model.weight.fill_(0.0)\n",
        "\n",
        "# hyper parameters\n",
        "lr = 0.01\n",
        "epoch = 20\n",
        "criterion = torch.nn.MSELoss()\n",
        "optimizer = torch.optim.SGD(model.parameters(), lr)\n",
        "\n",
        "for i in range(epoch):\n",
        "\n",
        "    # forward\n",
        "    y_pred = model(x_train)\n",
        "\n",
        "    # backward\n",
        "    l = criterion(y_pred, y_train)\n",
        "    l.backward()\n",
        "\n",
        "    # update parameters\n",
        "    optimizer.step()\n",
        "\n",
        "    # test\n",
        "    with torch.no_grad():\n",
        "        y_pred = forward(x_test)\n",
        "\n",
        "    # log\n",
        "    print(f\"epoch: {i:>2} -> loss={l:>9.5f} | w_old= {(model.weight + lr * model.weight.grad).item():.3f} | step= {(lr * model.weight.grad).item():.5f} | w_new= {model.weight.item():.3f} | y_test= {y_pred.squeeze().round(decimals=4).detach()}\")\n",
        "\n",
        "    # remove previous gradients\n",
        "    optimizer.zero_grad()"
      ]
    },
    {
      "cell_type": "markdown",
      "metadata": {},
      "source": [
        "## Example: All In One"
      ]
    },
    {
      "cell_type": "code",
      "execution_count": null,
      "metadata": {},
      "outputs": [],
      "source": [
        "# generate artificial data\n",
        "n_samples, n_features = [100, 1]\n",
        "\n",
        "x, y = datasets.make_regression(n_samples, n_features, noise=5, random_state=42)\n",
        "\n",
        "# convert numpy.ndarray to torch.Tensor\n",
        "x_train = torch.from_numpy(x.astype(np.float32))\n",
        "y_train = torch.from_numpy(y.astype(np.float32)).view(-1, 1)\n",
        "\n",
        "# plot\n",
        "plt.scatter(x, y)\n",
        "plt.xlabel('x')\n",
        "plt.ylabel('f(x)')\n",
        "plt.show()"
      ]
    },
    {
      "cell_type": "code",
      "execution_count": 11,
      "metadata": {},
      "outputs": [
        {
          "data": {
            "text/plain": [
              "Linear(in_features=1, out_features=1, bias=True)"
            ]
          },
          "execution_count": 11,
          "metadata": {},
          "output_type": "execute_result"
        }
      ],
      "source": [
        "# linear regression model\n",
        "model = torch.nn.Linear(n_features, 1)\n",
        "\n",
        "model"
      ]
    },
    {
      "cell_type": "code",
      "execution_count": 12,
      "metadata": {},
      "outputs": [],
      "source": [
        "# plot stuff\n",
        "W = torch.linspace(-100, 100, 500)\n",
        "L = torch.zeros(size=(500, ))\n",
        "\n",
        "for i, val in enumerate(W):\n",
        "    with torch.no_grad():\n",
        "        model.weight.fill_(val)\n",
        "        L[i] = loss(model(x_train), y_train)\n",
        "\n",
        "state = []"
      ]
    },
    {
      "cell_type": "code",
      "execution_count": 13,
      "metadata": {},
      "outputs": [
        {
          "name": "stdout",
          "output_type": "stream",
          "text": [
            "epoch:  0 -> loss: 3847.01245\n",
            "epoch:  1 -> loss: 3232.73926\n",
            "epoch:  2 -> loss: 2718.63623\n",
            "epoch:  3 -> loss: 2288.07520\n",
            "epoch:  4 -> loss: 1927.24048\n",
            "epoch:  5 -> loss: 1624.64624\n",
            "epoch:  6 -> loss: 1370.73364\n",
            "epoch:  7 -> loss: 1157.54248\n",
            "epoch:  8 -> loss:  978.43713\n",
            "epoch:  9 -> loss:  827.88342\n",
            "epoch: 10 -> loss:  701.26111\n",
            "epoch: 11 -> loss:  594.71045\n",
            "epoch: 12 -> loss:  505.00458\n",
            "epoch: 13 -> loss:  429.44403\n",
            "epoch: 14 -> loss:  365.76859\n",
            "epoch: 15 -> loss:  312.08508\n",
            "epoch: 16 -> loss:  266.80606\n",
            "epoch: 17 -> loss:  228.60028\n",
            "epoch: 18 -> loss:  196.35005\n",
            "epoch: 19 -> loss:  169.11688\n",
            "epoch: 20 -> loss:  146.11205\n"
          ]
        }
      ],
      "source": [
        "# initial weight [educational purpose]\n",
        "with torch.no_grad():\n",
        "    model.weight.fill_(-25)\n",
        "\n",
        "# hyper parameters\n",
        "epoch = 21\n",
        "lr = 0.05\n",
        "optimizer = torch.optim.SGD(model.parameters(), lr=lr)\n",
        "loss = torch.nn.MSELoss()\n",
        "\n",
        "# training loop\n",
        "model.train()\n",
        "for i in range(epoch):\n",
        "\n",
        "    # forward\n",
        "    y_pred = model(x_train)\n",
        "\n",
        "    # backward\n",
        "    l = loss(y_pred, y_train)\n",
        "    l.backward()\n",
        "\n",
        "    # save new y_pred every 5 epochs [plot stuff]\n",
        "    if i % 5 == 0:\n",
        "        state.append([i, model.weight.item(), l.item(), y_pred.detach().numpy()])\n",
        "\n",
        "    # update parameters\n",
        "    optimizer.step()\n",
        "    optimizer.zero_grad()\n",
        "\n",
        "    # log\n",
        "    print(f\"epoch: {i:>2} -> loss: {l.item():>10.5f}\")"
      ]
    },
    {
      "cell_type": "code",
      "execution_count": null,
      "metadata": {},
      "outputs": [],
      "source": [
        "# plot\n",
        "rows = epoch // 5 + 1\n",
        "fig, axs = plt.subplots(nrows=rows, ncols=2, figsize=(10, 20), layout='compressed')\n",
        "\n",
        "for row in range(rows):\n",
        "    axs[row, 0].plot(x_train, y_train, 'ro')\n",
        "    axs[row, 0].plot(x_train, state[row][3], 'b')\n",
        "    axs[row, 0].set(title=f\"epoch: {state[row][0]}\", xlabel=\"x\", ylabel=\"f(x)\")\n",
        "    axs[row, 1].plot(state[row][1], state[row][2], 'ro')\n",
        "    axs[row, 1].plot(W, L, 'b')\n",
        "    axs[row, 1].set(title=\"loss function\", xlabel=\"w\", ylabel=\"L(w)\")\n",
        "\n",
        "plt.show()"
      ]
    }
  ],
  "metadata": {
    "kernelspec": {
      "display_name": "Python 3",
      "language": "python",
      "name": "python3"
    },
    "language_info": {
      "codemirror_mode": {
        "name": "ipython",
        "version": 3
      },
      "file_extension": ".py",
      "mimetype": "text/x-python",
      "name": "python",
      "nbconvert_exporter": "python",
      "pygments_lexer": "ipython3",
      "version": "3.12.3"
    },
    "author_name": "Amirhossein Heydari",
    "author_email": "AmirhosseinHeydari78@gmail.com",
    "author_github": "https://github.com/mr-pylin",
    "origin_repo": "https://github.com/mr-pylin/pytorch-workshop"
  },
  "nbformat": 4,
  "nbformat_minor": 2
}