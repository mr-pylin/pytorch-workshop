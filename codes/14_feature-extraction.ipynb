{
  "cells": [
    {
      "cell_type": "markdown",
      "metadata": {},
      "source": [
        "\ud83d\udcdd **Author:** Amirhossein Heydari - \ud83d\udce7 **Email:** amirhosseinheydari78@gmail.com - \ud83d\udccd **Linktree:** [linktr.ee/mr_pylin](https://linktr.ee/mr_pylin)\n",
        "\n",
        "---"
      ]
    },
    {
      "cell_type": "markdown",
      "metadata": {},
      "source": [
        "# Dependencies"
      ]
    },
    {
      "cell_type": "code",
      "execution_count": 1,
      "metadata": {},
      "outputs": [],
      "source": [
        "import matplotlib.pyplot as plt\n",
        "import numpy as np\n",
        "import torch\n",
        "from torch import nn\n",
        "from torch.optim import Adam\n",
        "from torch.utils.data import DataLoader\n",
        "from torchinfo import summary\n",
        "from torchmetrics import Accuracy\n",
        "from torchvision.datasets import CIFAR10\n",
        "from torchvision.models.feature_extraction import create_feature_extractor\n",
        "from torchvision.transforms import v2"
      ]
    },
    {
      "cell_type": "code",
      "execution_count": 2,
      "metadata": {},
      "outputs": [],
      "source": [
        "# set a seed for deterministic results\n",
        "random_state = 42\n",
        "torch.manual_seed(random_state)\n",
        "torch.backends.cudnn.deterministic = True\n",
        "torch.backends.cudnn.benchmark = False"
      ]
    },
    {
      "cell_type": "code",
      "execution_count": 3,
      "metadata": {},
      "outputs": [
        {
          "data": {
            "text/plain": [
              "'cuda'"
            ]
          },
          "execution_count": 3,
          "metadata": {},
          "output_type": "execute_result"
        }
      ],
      "source": [
        "# check if cuda is available\n",
        "device = 'cuda' if torch.cuda.is_available() else 'cpu'\n",
        "device"
      ]
    },
    {
      "cell_type": "markdown",
      "metadata": {},
      "source": [
        "# Load Dataset"
      ]
    },
    {
      "cell_type": "code",
      "execution_count": 4,
      "metadata": {},
      "outputs": [
        {
          "name": "stdout",
          "output_type": "stream",
          "text": [
            "Files already downloaded and verified\n",
            "Files already downloaded and verified\n"
          ]
        }
      ],
      "source": [
        "transform = v2.Compose(\n",
        "    [\n",
        "        v2.ToImage(),\n",
        "        v2.ToDtype(dtype=torch.float32, scale=True),\n",
        "        v2.Normalize(mean=(0.5,), std=(0.5,))\n",
        "    ]\n",
        ")\n",
        "\n",
        "trainset = CIFAR10('./dataset', train=True , transform=transform, download=True)\n",
        "testset  = CIFAR10('./dataset', train=False, transform=transform, download=True)"
      ]
    },
    {
      "cell_type": "code",
      "execution_count": 5,
      "metadata": {},
      "outputs": [],
      "source": [
        "classes = np.array(trainset.classes)\n",
        "num_classes = len(classes)\n",
        "num_trainset, height, width, depth = trainset.data.shape"
      ]
    },
    {
      "cell_type": "code",
      "execution_count": 6,
      "metadata": {},
      "outputs": [],
      "source": [
        "batch_size = 128\n",
        "\n",
        "trainloader = DataLoader(trainset, batch_size=batch_size, shuffle=True , num_workers=2)\n",
        "testloader  = DataLoader(trainset, batch_size=batch_size, shuffle=False, num_workers=2)"
      ]
    },
    {
      "cell_type": "markdown",
      "metadata": {},
      "source": [
        "# Model"
      ]
    },
    {
      "cell_type": "code",
      "execution_count": 7,
      "metadata": {},
      "outputs": [
        {
          "data": {
            "text/plain": [
              "CustomModel(\n",
              "  (feature_extractor): Sequential(\n",
              "    (0): Conv2d(3, 16, kernel_size=(3, 3), stride=(1, 1))\n",
              "    (1): BatchNorm2d(16, eps=1e-05, momentum=0.1, affine=True, track_running_stats=True)\n",
              "    (2): ReLU()\n",
              "    (3): MaxPool2d(kernel_size=2, stride=2, padding=0, dilation=1, ceil_mode=False)\n",
              "    (4): Conv2d(16, 32, kernel_size=(3, 3), stride=(1, 1))\n",
              "    (5): BatchNorm2d(32, eps=1e-05, momentum=0.1, affine=True, track_running_stats=True)\n",
              "    (6): ReLU()\n",
              "    (7): MaxPool2d(kernel_size=2, stride=2, padding=0, dilation=1, ceil_mode=False)\n",
              "  )\n",
              "  (flatten): Flatten(start_dim=1, end_dim=-1)\n",
              "  (classifier): Linear(in_features=1152, out_features=10, bias=True)\n",
              ")"
            ]
          },
          "execution_count": 7,
          "metadata": {},
          "output_type": "execute_result"
        }
      ],
      "source": [
        "class CustomModel(nn.Module):\n",
        "    def __init__(self, layers):\n",
        "        super(CustomModel, self).__init__()\n",
        "\n",
        "        feature_extractor_layers = []\n",
        "        for i, o in zip(layers, layers[1:]):\n",
        "            feature_extractor_layers.append(nn.Conv2d(i, out_channels=o, kernel_size=3))\n",
        "            feature_extractor_layers.append(nn.BatchNorm2d(o))\n",
        "            feature_extractor_layers.append(nn.ReLU())\n",
        "            feature_extractor_layers.append(nn.MaxPool2d(kernel_size=2))\n",
        "\n",
        "        self.feature_extractor = nn.Sequential(*feature_extractor_layers)\n",
        "        self.flatten = nn.Flatten(start_dim=1)\n",
        "        self.classifier = nn.Linear(1152, len(classes))\n",
        "\n",
        "    def forward(self, x):\n",
        "        x = self.feature_extractor(x)\n",
        "        x = self.flatten(x)\n",
        "        x = self.classifier(x)\n",
        "        return x\n",
        "\n",
        "\n",
        "model = CustomModel(layers=[depth, 16, 32])\n",
        "\n",
        "model.to(device)"
      ]
    },
    {
      "cell_type": "code",
      "execution_count": 8,
      "metadata": {},
      "outputs": [
        {
          "data": {
            "text/plain": [
              "==========================================================================================\n",
              "Layer (type:depth-idx)                   Output Shape              Param #\n",
              "==========================================================================================\n",
              "CustomModel                              [128, 10]                 --\n",
              "\u251c\u2500Sequential: 1-1                        [128, 32, 6, 6]           --\n",
              "\u2502    \u2514\u2500Conv2d: 2-1                       [128, 16, 30, 30]         448\n",
              "\u2502    \u2514\u2500BatchNorm2d: 2-2                  [128, 16, 30, 30]         32\n",
              "\u2502    \u2514\u2500ReLU: 2-3                         [128, 16, 30, 30]         --\n",
              "\u2502    \u2514\u2500MaxPool2d: 2-4                    [128, 16, 15, 15]         --\n",
              "\u2502    \u2514\u2500Conv2d: 2-5                       [128, 32, 13, 13]         4,640\n",
              "\u2502    \u2514\u2500BatchNorm2d: 2-6                  [128, 32, 13, 13]         64\n",
              "\u2502    \u2514\u2500ReLU: 2-7                         [128, 32, 13, 13]         --\n",
              "\u2502    \u2514\u2500MaxPool2d: 2-8                    [128, 32, 6, 6]           --\n",
              "\u251c\u2500Flatten: 1-2                           [128, 1152]               --\n",
              "\u251c\u2500Linear: 1-3                            [128, 10]                 11,530\n",
              "==========================================================================================\n",
              "Total params: 16,714\n",
              "Trainable params: 16,714\n",
              "Non-trainable params: 0\n",
              "Total mult-adds (Units.MEGABYTES): 153.47\n",
              "==========================================================================================\n",
              "Input size (MB): 1.57\n",
              "Forward/backward pass size (MB): 40.58\n",
              "Params size (MB): 0.07\n",
              "Estimated Total Size (MB): 42.22\n",
              "=========================================================================================="
            ]
          },
          "execution_count": 8,
          "metadata": {},
          "output_type": "execute_result"
        }
      ],
      "source": [
        "summary(model, input_size=(batch_size, *testset.data.transpose(0, 3, 1, 2).shape[1:]))"
      ]
    },
    {
      "cell_type": "markdown",
      "metadata": {},
      "source": [
        "# Set up remaining Hyper-Parameters"
      ]
    },
    {
      "cell_type": "code",
      "execution_count": 9,
      "metadata": {},
      "outputs": [],
      "source": [
        "lr = 0.01\n",
        "criterion = nn.CrossEntropyLoss()\n",
        "optimizer = Adam(params=model.parameters(), lr=lr)\n",
        "num_epochs = 10"
      ]
    },
    {
      "cell_type": "markdown",
      "metadata": {},
      "source": [
        "# Train Loop"
      ]
    },
    {
      "cell_type": "code",
      "execution_count": 10,
      "metadata": {},
      "outputs": [],
      "source": [
        "train_acc_per_epoch  = []\n",
        "train_loss_per_epoch = []\n",
        "train_acc = Accuracy(task='multiclass', num_classes=len(testset.classes), top_k=1).to(device)"
      ]
    },
    {
      "cell_type": "code",
      "execution_count": 11,
      "metadata": {},
      "outputs": [
        {
          "name": "stdout",
          "output_type": "stream",
          "text": [
            "epoch 0  ->  train[loss: 1.58065 - acc: 0.46]\n",
            "epoch 1  ->  train[loss: 1.13075 - acc: 0.61]\n",
            "epoch 2  ->  train[loss: 1.01336 - acc: 0.65]\n",
            "epoch 3  ->  train[loss: 0.94955 - acc: 0.67]\n",
            "epoch 4  ->  train[loss: 0.90508 - acc: 0.69]\n",
            "epoch 5  ->  train[loss: 0.87506 - acc: 0.70]\n",
            "epoch 6  ->  train[loss: 0.85594 - acc: 0.70]\n",
            "epoch 7  ->  train[loss: 0.83052 - acc: 0.71]\n",
            "epoch 8  ->  train[loss: 0.81272 - acc: 0.72]\n",
            "epoch 9  ->  train[loss: 0.80289 - acc: 0.72]\n"
          ]
        }
      ],
      "source": [
        "for epoch in range(num_epochs):\n",
        "\n",
        "# train loop\n",
        "    model.train()\n",
        "    train_loss = 0\n",
        "\n",
        "    for x, y in trainloader:\n",
        "\n",
        "        # send data to GPU\n",
        "        x, y_true = x.to(device), y.to(device)\n",
        "\n",
        "        # forward\n",
        "        y_pred = model(x)\n",
        "        loss = criterion(y_pred, y_true)\n",
        "\n",
        "        # backward\n",
        "        loss.backward()\n",
        "\n",
        "        # update parameters\n",
        "        optimizer.step()\n",
        "        optimizer.zero_grad()\n",
        "\n",
        "        # log loss & accuracy\n",
        "        train_loss += loss.item() * len(x)\n",
        "        train_acc.update(y_pred, y_true)\n",
        "\n",
        "    # store intermediate loss & accuracy\n",
        "    train_loss_per_epoch.append(train_loss / len(trainset))\n",
        "    train_acc_per_epoch.append(train_acc.compute().item())\n",
        "    train_acc.reset()\n",
        "\n",
        "    # log\n",
        "    print(f\"epoch {epoch:>1}  ->  train[loss: {train_loss_per_epoch[epoch]:.5f} - acc: {train_acc_per_epoch[epoch]:.2f}]\")"
      ]
    },
    {
      "cell_type": "markdown",
      "metadata": {},
      "source": [
        "# Feature Extraction"
      ]
    },
    {
      "cell_type": "code",
      "execution_count": 12,
      "metadata": {},
      "outputs": [
        {
          "name": "stdout",
          "output_type": "stream",
          "text": [
            "feature_extractor.0.weight - requires_grad: True\n",
            "feature_extractor.0.bias   - requires_grad: True\n",
            "feature_extractor.1.weight - requires_grad: True\n",
            "feature_extractor.1.bias   - requires_grad: True\n",
            "feature_extractor.4.weight - requires_grad: True\n",
            "feature_extractor.4.bias   - requires_grad: True\n",
            "feature_extractor.5.weight - requires_grad: True\n",
            "feature_extractor.5.bias   - requires_grad: True\n",
            "classifier.weight          - requires_grad: True\n",
            "classifier.bias            - requires_grad: True\n"
          ]
        }
      ],
      "source": [
        "for name, param in model.named_parameters():\n",
        "    print(f\"{name:<26} - requires_grad: {param.requires_grad}\")"
      ]
    },
    {
      "cell_type": "code",
      "execution_count": 13,
      "metadata": {},
      "outputs": [],
      "source": [
        "nodes = {\n",
        "    \"feature_extractor.0\": \"conv1\",\n",
        "    \"feature_extractor.5\": \"conv2\"\n",
        "}\n",
        "\n",
        "feature_extractor = create_feature_extractor(model, return_nodes=nodes)"
      ]
    },
    {
      "cell_type": "code",
      "execution_count": 14,
      "metadata": {},
      "outputs": [
        {
          "data": {
            "text/plain": [
              "dict_keys(['conv1', 'conv2'])"
            ]
          },
          "execution_count": 14,
          "metadata": {},
          "output_type": "execute_result"
        }
      ],
      "source": [
        "frog = transform(testset.data[0]).to(device)[None, :, :, :]\n",
        "\n",
        "feature_maps = feature_extractor(frog)\n",
        "feature_maps.keys()"
      ]
    },
    {
      "cell_type": "code",
      "execution_count": null,
      "metadata": {},
      "outputs": [],
      "source": [
        "# plot\n",
        "fig, axs = plt.subplots(nrows=1, ncols=2, figsize=(8, 4), layout='compressed')\n",
        "axs[0].imshow(testset.data[0])\n",
        "axs[0].axis('off')\n",
        "axs[0].set_title('Orignal')\n",
        "axs[1].imshow(frog.detach().cpu()[0].permute(1, 2, 0))\n",
        "axs[1].axis('off')\n",
        "axs[1].set_title('Transformed')\n",
        "plt.show()"
      ]
    },
    {
      "cell_type": "markdown",
      "metadata": {},
      "source": [
        "## model.feature_extractor.0\n",
        "   - Feature maps : 16x30x30"
      ]
    },
    {
      "cell_type": "code",
      "execution_count": null,
      "metadata": {},
      "outputs": [],
      "source": [
        "# plot\n",
        "total_rows = 4\n",
        "total_cols = 4\n",
        "fig, axs = plt.subplots(nrows=total_rows, ncols=total_cols, figsize=(total_cols * 2, total_rows * 2), layout='compressed')\n",
        "fig.suptitle('model.feature_extractor.0 feature maps')\n",
        "for row in range(total_rows):\n",
        "    for col in range(total_cols):\n",
        "        axs[row, col].imshow(feature_maps['conv1'][0, row * total_cols + col].detach().cpu(), cmap='gray')\n",
        "        axs[row, col].axis('off')\n",
        "        axs[row, col].set(title=row * total_cols + col)\n",
        "plt.show()"
      ]
    },
    {
      "cell_type": "markdown",
      "metadata": {},
      "source": [
        "## model.feature_extractor.5\n",
        "   - Feature maps : 32x13x13"
      ]
    },
    {
      "cell_type": "code",
      "execution_count": null,
      "metadata": {},
      "outputs": [],
      "source": [
        "# plot\n",
        "total_rows = 4\n",
        "total_cols = 8\n",
        "fig, axs = plt.subplots(nrows=total_rows, ncols=total_cols, figsize=(total_cols * 2, total_rows * 2), layout='compressed')\n",
        "fig.suptitle('model.feature_extractor.0 feature maps')\n",
        "for row in range(total_rows):\n",
        "    for col in range(total_cols):\n",
        "        axs[row, col].imshow(feature_maps['conv2'][0, row * total_cols + col].detach().cpu(), cmap='gray')\n",
        "        axs[row, col].axis('off')\n",
        "        axs[row, col].set(title=row * total_cols + col)\n",
        "plt.show()"
      ]
    }
  ],
  "metadata": {
    "kernelspec": {
      "display_name": "Python 3",
      "language": "python",
      "name": "python3"
    },
    "language_info": {
      "codemirror_mode": {
        "name": "ipython",
        "version": 3
      },
      "file_extension": ".py",
      "mimetype": "text/x-python",
      "name": "python",
      "nbconvert_exporter": "python",
      "pygments_lexer": "ipython3",
      "version": "3.12.3"
    },
    "author_name": "Amirhossein Heydari",
    "author_email": "AmirhosseinHeydari78@gmail.com",
    "author_github": "https://github.com/mr-pylin",
    "origin_repo": "https://github.com/mr-pylin/pytorch-workshop"
  },
  "nbformat": 4,
  "nbformat_minor": 2
}