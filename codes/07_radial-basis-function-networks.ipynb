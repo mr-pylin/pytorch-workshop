{
 "cells": [
  {
   "cell_type": "markdown",
   "metadata": {},
   "source": [
    "📝 **Author:** Amirhossein Heydari - 📧 **Email:** amirhosseinheydari78@gmail.com - 📍 **Linktree:** [linktr.ee/mr_pylin](https://linktr.ee/mr_pylin)\n",
    "\n",
    "---"
   ]
  },
  {
   "cell_type": "markdown",
   "metadata": {},
   "source": [
    "# Dependencies"
   ]
  },
  {
   "cell_type": "code",
   "execution_count": 67,
   "metadata": {},
   "outputs": [],
   "source": [
    "import matplotlib.pyplot as plt\n",
    "import torch\n",
    "from sklearn.datasets import make_classification\n",
    "from sklearn.model_selection import train_test_split\n",
    "from sklearn.preprocessing import MinMaxScaler\n",
    "from torch import nn\n",
    "from torch.optim import Adam\n",
    "from torch.utils.data import DataLoader, TensorDataset\n",
    "from torchinfo import summary\n",
    "from torchmetrics import Accuracy"
   ]
  },
  {
   "cell_type": "code",
   "execution_count": 68,
   "metadata": {},
   "outputs": [],
   "source": [
    "# set a seed for deterministic results\n",
    "random_state = 0\n",
    "torch.manual_seed(random_state)\n",
    "torch.backends.cudnn.deterministic = True\n",
    "torch.backends.cudnn.benchmark = False"
   ]
  },
  {
   "cell_type": "code",
   "execution_count": 69,
   "metadata": {},
   "outputs": [
    {
     "data": {
      "text/plain": [
       "'cuda'"
      ]
     },
     "execution_count": 69,
     "metadata": {},
     "output_type": "execute_result"
    }
   ],
   "source": [
    "# check if cuda is available\n",
    "device = 'cuda' if torch.cuda.is_available() else 'cpu'\n",
    "device"
   ]
  },
  {
   "cell_type": "markdown",
   "metadata": {},
   "source": [
    "# Pre-Processing"
   ]
  },
  {
   "cell_type": "markdown",
   "metadata": {},
   "source": [
    "## Load Dataset"
   ]
  },
  {
   "cell_type": "code",
   "execution_count": 70,
   "metadata": {},
   "outputs": [],
   "source": [
    "# generate a 2D classification dataset\n",
    "n_samples = 250\n",
    "n_classes = 3\n",
    "\n",
    "X, y = make_classification(\n",
    "    n_samples=n_samples,\n",
    "    n_features=2,\n",
    "    n_informative=2,\n",
    "    n_redundant=0,\n",
    "    n_classes=n_classes,\n",
    "    n_clusters_per_class=1,\n",
    "    random_state=random_state\n",
    ")"
   ]
  },
  {
   "cell_type": "markdown",
   "metadata": {},
   "source": [
    "## Split dataset into trainset & testset"
   ]
  },
  {
   "cell_type": "code",
   "execution_count": 71,
   "metadata": {},
   "outputs": [],
   "source": [
    "X_train, X_test, y_train, y_test = train_test_split(X, y, test_size=0.1, random_state=random_state)"
   ]
  },
  {
   "cell_type": "markdown",
   "metadata": {},
   "source": [
    "## Normalization"
   ]
  },
  {
   "cell_type": "code",
   "execution_count": 72,
   "metadata": {},
   "outputs": [
    {
     "name": "stdout",
     "output_type": "stream",
     "text": [
      "min of trainset: [-3.12250035 -2.02918108]\n",
      "max of trainset: [1.81947391 2.65150478]\n"
     ]
    }
   ],
   "source": [
    "scaler = MinMaxScaler(feature_range=(-1, 1))\n",
    "scaler.fit(X_train)\n",
    "\n",
    "# log\n",
    "print(f\"min of trainset: {X_train.min(axis=0)}\")\n",
    "print(f\"max of trainset: {X_train.max(axis=0)}\")"
   ]
  },
  {
   "cell_type": "code",
   "execution_count": 73,
   "metadata": {},
   "outputs": [],
   "source": [
    "X_train = scaler.transform(X_train)\n",
    "X_test  = scaler.transform(X_test)"
   ]
  },
  {
   "cell_type": "code",
   "execution_count": null,
   "metadata": {},
   "outputs": [],
   "source": [
    "# plot\n",
    "plt.scatter(X_train[:, 0], X_train[:, 1], marker='o', c=y_train, s=25, edgecolor='k', label='trainset')\n",
    "plt.scatter(X_test[:, 0] , X_test[:, 1] , marker=',', c=y_test, s=25 , edgecolor='k', label='testset')\n",
    "plt.legend()\n",
    "plt.title(f\"2D dataset with {n_samples} samples\")\n",
    "plt.xlabel(\"feature 1\")\n",
    "plt.ylabel(\"feature 2\")\n",
    "plt.show()"
   ]
  },
  {
   "cell_type": "markdown",
   "metadata": {},
   "source": [
    "## Dataset"
   ]
  },
  {
   "cell_type": "code",
   "execution_count": 75,
   "metadata": {},
   "outputs": [],
   "source": [
    "X_train = torch.tensor(X_train, dtype=torch.float32)\n",
    "X_test  = torch.tensor(X_test, dtype=torch.float32)\n",
    "y_train = torch.tensor(y_train, dtype=torch.int64)\n",
    "y_test  = torch.tensor(y_test, dtype=torch.int64)\n",
    "\n",
    "trainset = TensorDataset(X_train, y_train)\n",
    "testset  = TensorDataset(X_test, y_test)"
   ]
  },
  {
   "cell_type": "markdown",
   "metadata": {},
   "source": [
    "## Dataloader"
   ]
  },
  {
   "cell_type": "code",
   "execution_count": 76,
   "metadata": {},
   "outputs": [],
   "source": [
    "batch_size = 4\n",
    "\n",
    "trainloader = DataLoader(dataset=trainset, batch_size=batch_size, shuffle=True)\n",
    "testloader  = DataLoader(dataset=testset , batch_size=batch_size, shuffle=False)"
   ]
  },
  {
   "cell_type": "markdown",
   "metadata": {},
   "source": [
    "# Radial Basis Function Networks\n",
    "   - Radial Basis Function (RBF) networks are indeed a type of artificial neural network.\n",
    "   - They use radial basis functions as activation functions.\n",
    "   - The output of the network is a linear combination of radial basis functions of the inputs and neuron parameters."
   ]
  },
  {
   "cell_type": "markdown",
   "metadata": {},
   "source": [
    "<figure style=\"text-align: center;\">\n",
    "    <img src=\"../assets/images/original/rbf/radial-basis-function-networks.svg\" alt=\"radial-basis-function-networks.svg\" style=\"width: 80%;\">\n",
    "    <figcaption>Radial Basis Functions Network Model</figcaption>\n",
    "</figure>"
   ]
  },
  {
   "cell_type": "markdown",
   "metadata": {},
   "source": [
    "<table style=\"margin-left:auto;margin-right:auto;text-align:center;\">\n",
    "  <thead>\n",
    "    <tr>\n",
    "      <th colspan=\"2\">hidden parameters</th>\n",
    "      <th colspan=\"2\">logits parameters</th>\n",
    "    </tr>\n",
    "  </thead>\n",
    "  <tbody>\n",
    "    <tr>\n",
    "      <td>μ</td>\n",
    "      <td>σ</td>\n",
    "      <td>Weights</td>\n",
    "      <td>Biases</td>\n",
    "    </tr>\n",
    "    <tr>\n",
    "      <td>A × B</td>\n",
    "      <td>B</td>\n",
    "      <td>B × C</td>\n",
    "      <td>C</td>\n",
    "    </tr>\n",
    "  </tbody>\n",
    "  <tfoot>\n",
    "    <tr>\n",
    "      <td colspan=\"2\">A × B + B</td>\n",
    "      <td colspan=\"2\">B × C + C</td>\n",
    "    </tr>\n",
    "  </tfoot>\n",
    "</table>\n"
   ]
  },
  {
   "cell_type": "markdown",
   "metadata": {},
   "source": [
    "$\n",
    "X = \\begin{bmatrix}\n",
    "        x_{1}^1 & x_{1}^2 & \\cdots & x_{1}^N \\\\\n",
    "        x_{2}^1 & x_{2}^2 & \\cdots & x_{2}^N \\\\\n",
    "        \\vdots & \\vdots & \\ddots & \\vdots \\\\\n",
    "        x_{Q}^1 & x_{Q}^2 & \\cdots & x_{Q}^N \\\\\n",
    "    \\end{bmatrix}_{Q \\times N} \\quad \\text{(Q: number of samples, N: number of features)} \\\\\n",
    "$"
   ]
  },
  {
   "cell_type": "markdown",
   "metadata": {},
   "source": [
    "$\n",
    "\\phi(X) = \n",
    "        % \\begin{bmatrix}\n",
    "        % 1 \\\\\n",
    "        % \\phi_{1} \\\\\n",
    "        % \\phi_{2} \\\\\n",
    "        % \\vdots \\\\\n",
    "        % \\phi_{N} \\\\\n",
    "        % \\end{bmatrix}_{(N+1) \\times 1}\n",
    "        \\begin{bmatrix}\n",
    "        1 & 1 & \\cdots & 1 \\\\\n",
    "        \\phi_1(X_1) & \\phi_1(X_2) & \\cdots & \\phi_1(X_Q) \\\\\n",
    "        \\phi_2(X_1) & \\phi_2(X_2) & \\cdots & \\phi_2(X_Q) \\\\\n",
    "        \\vdots & \\vdots & \\ddots & \\vdots \\\\\n",
    "        \\phi_N(X_1) & \\phi_N(X_2) & \\cdots & \\phi_N(X_Q) \\\\\n",
    "        \\end{bmatrix}_{(N+1) \\times Q}\n",
    "    = \n",
    "        \\begin{bmatrix}\n",
    "        1 & 1 & \\cdots & 1 \\\\\n",
    "        \\exp\\left(-\\frac{\\|\\mathbf{X_1} - \\mathbf{\\mu}_1\\|^2}{2\\sigma_1^2}\\right) & \\exp\\left(-\\frac{\\|\\mathbf{X_2} - \\mathbf{\\mu}_1\\|^2}{2\\sigma_1^2}\\right) & \\cdots & \\exp\\left(-\\frac{\\|\\mathbf{X_Q} - \\mathbf{\\mu}_1\\|^2}{2\\sigma_1^2}\\right) \\\\\n",
    "        \\exp\\left(-\\frac{\\|\\mathbf{X_1} - \\mathbf{\\mu}_2\\|^2}{2\\sigma_2^2}\\right) & \\exp\\left(-\\frac{\\|\\mathbf{X_2} - \\mathbf{\\mu}_2\\|^2}{2\\sigma_2^2}\\right) & \\cdots & \\exp\\left(-\\frac{\\|\\mathbf{X_Q} - \\mathbf{\\mu}_2\\|^2}{2\\sigma_2^2}\\right) \\\\\n",
    "        \\vdots & \\vdots & \\ddots & \\vdots \\\\\n",
    "        \\exp\\left(-\\frac{\\|\\mathbf{X_1} - \\mathbf{\\mu}_N\\|^2}{2\\sigma_N^2}\\right) & \\exp\\left(-\\frac{\\|\\mathbf{X_2} - \\mathbf{\\mu}_N\\|^2}{2\\sigma_N^2}\\right) & \\cdots & \\exp\\left(-\\frac{\\|\\mathbf{X_Q} - \\mathbf{\\mu}_N\\|^2}{2\\sigma_N^2}\\right) \\\\\n",
    "        \\end{bmatrix}_{(N+1) \\times Q}\n",
    "$"
   ]
  },
  {
   "cell_type": "markdown",
   "metadata": {},
   "source": [
    "$\n",
    "W = \\begin{bmatrix}\n",
    "        w_{0}^1 & w_{0}^2 & \\cdots & w_{0}^{C} \\\\\n",
    "        w_{1}^1 & w_{1}^2 & \\cdots & w_{1}^{C} \\\\\n",
    "        w_{2}^1 & w_{2}^2 & \\cdots & w_{2}^{C} \\\\\n",
    "        \\vdots & \\vdots & \\ddots & \\vdots \\\\\n",
    "        w_{N}^1 & w_{N}^2 & \\cdots & w_{N}^{C} \\\\\n",
    "    \\end{bmatrix}_{(N+1) \\times C} \\quad \\text{(N: number of kernels, C: number of output neurons)}\n",
    "$"
   ]
  },
  {
   "cell_type": "markdown",
   "metadata": {},
   "source": [
    "$$f(X) = \\phi(X)^TW$$"
   ]
  },
  {
   "cell_type": "code",
   "execution_count": 77,
   "metadata": {},
   "outputs": [],
   "source": [
    "class RBF(nn.Module):\n",
    "    def __init__(self, in_features, out_features, kernel='gaussian'):\n",
    "        super(RBF, self).__init__()\n",
    "        self.in_features = in_features\n",
    "        self.out_features = out_features\n",
    "        self.centers = nn.Parameter(torch.Tensor(out_features, in_features))\n",
    "        self.sigmas = nn.Parameter(torch.Tensor(out_features))\n",
    "        self.kernel = kernel\n",
    "        self.reset_parameters()\n",
    "\n",
    "    def reset_parameters(self):\n",
    "        nn.init.uniform_(self.centers, -1.0, 1.0)\n",
    "        nn.init.uniform_(self.sigmas ,  0.0, 1.0)\n",
    "\n",
    "    def forward(self, input):\n",
    "        size = (input.size(0), self.out_features, self.in_features)\n",
    "        x = input.unsqueeze(1).expand(size)\n",
    "        c = self.centers.unsqueeze(0).expand(size)\n",
    "        distances = (x - c).pow(2).sum(-1).pow(0.5)\n",
    "\n",
    "        if self.kernel == 'gaussian':\n",
    "            return torch.exp(-1.0 * distances.pow(2) / (2 * self.sigmas.unsqueeze(0) ** 2))\n",
    "\n",
    "        elif self.kernel == 'linear':\n",
    "            return 1.0 - distances\n",
    "\n",
    "        else:\n",
    "            raise ValueError(f\"Unknown kernel type {self.kernel}\")\n",
    "\n",
    "\n",
    "class RBFNet(nn.Module):\n",
    "    def __init__(self, in_features, hidden_features, out_features, kernel='gaussian'):\n",
    "        super(RBFNet, self).__init__()\n",
    "        self.rbf = RBF(in_features, hidden_features, kernel)\n",
    "        self.linear = nn.Linear(hidden_features, out_features)\n",
    "\n",
    "    def forward(self, input):\n",
    "        return self.linear(self.rbf(input))"
   ]
  },
  {
   "cell_type": "code",
   "execution_count": 78,
   "metadata": {},
   "outputs": [
    {
     "data": {
      "text/plain": [
       "RBFNet(\n",
       "  (rbf): RBF()\n",
       "  (linear): Linear(in_features=3, out_features=3, bias=True)\n",
       ")"
      ]
     },
     "execution_count": 78,
     "metadata": {},
     "output_type": "execute_result"
    }
   ],
   "source": [
    "in_features = trainset[0][0].shape[0]\n",
    "num_kernels = 3\n",
    "out_features = n_classes\n",
    "\n",
    "model = RBFNet(in_features, num_kernels, out_features)\n",
    "model.to(device)"
   ]
  },
  {
   "cell_type": "code",
   "execution_count": 79,
   "metadata": {},
   "outputs": [
    {
     "data": {
      "text/plain": [
       "==========================================================================================\n",
       "Layer (type:depth-idx)                   Output Shape              Param #\n",
       "==========================================================================================\n",
       "RBFNet                                   [4, 3]                    --\n",
       "├─RBF: 1-1                               [4, 3]                    9\n",
       "├─Linear: 1-2                            [4, 3]                    12\n",
       "==========================================================================================\n",
       "Total params: 21\n",
       "Trainable params: 21\n",
       "Non-trainable params: 0\n",
       "Total mult-adds (Units.MEGABYTES): 0.00\n",
       "==========================================================================================\n",
       "Input size (MB): 0.00\n",
       "Forward/backward pass size (MB): 0.00\n",
       "Params size (MB): 0.00\n",
       "Estimated Total Size (MB): 0.00\n",
       "=========================================================================================="
      ]
     },
     "execution_count": 79,
     "metadata": {},
     "output_type": "execute_result"
    }
   ],
   "source": [
    "summary(model, input_size=(batch_size, in_features))"
   ]
  },
  {
   "cell_type": "markdown",
   "metadata": {},
   "source": [
    "# Set up remaining Hyper-Parameters"
   ]
  },
  {
   "cell_type": "code",
   "execution_count": 80,
   "metadata": {},
   "outputs": [],
   "source": [
    "lr = 0.01\n",
    "criterion = nn.CrossEntropyLoss()\n",
    "optimizer = Adam(params=model.parameters(), lr=lr)\n",
    "num_epochs = 10"
   ]
  },
  {
   "cell_type": "markdown",
   "metadata": {},
   "source": [
    "# Train & Validation Loop"
   ]
  },
  {
   "cell_type": "code",
   "execution_count": 81,
   "metadata": {},
   "outputs": [],
   "source": [
    "# plot\n",
    "def plot():\n",
    "    centers = model.rbf.centers.detach().cpu().numpy()\n",
    "    radii = model.rbf.sigmas.detach().cpu().numpy()\n",
    "\n",
    "    for center, radius in zip(centers, radii):\n",
    "        circle = plt.Circle(center, radius, color='b', fill=False)\n",
    "        plt.gca().add_artist(circle)\n",
    "\n",
    "    plt.scatter(X_train[:, 0], X_train[:, 1], marker='o', c=y_train, s=25, edgecolor='k', label='trainset')\n",
    "    plt.scatter(X_test[:, 0], X_test[:, 1], marker=',', c=y_test, s=25, edgecolor='k', label='testset')\n",
    "    plt.legend()\n",
    "    plt.title(f\"2D dataset with {n_samples} samples\")\n",
    "    plt.xlabel(\"feature 1\")\n",
    "    plt.ylabel(\"feature 2\")\n",
    "    plt.show()"
   ]
  },
  {
   "cell_type": "code",
   "execution_count": 82,
   "metadata": {},
   "outputs": [],
   "source": [
    "train_acc_per_epoch = []\n",
    "train_loss_per_epoch = []\n",
    "\n",
    "train_acc = Accuracy(task='multiclass', num_classes=n_classes, top_k=1).to(device)"
   ]
  },
  {
   "cell_type": "code",
   "execution_count": 83,
   "metadata": {},
   "outputs": [
    {
     "name": "stdout",
     "output_type": "stream",
     "text": [
      "epoch  0  ->  train[loss: 1.05382 - acc: 0.40]\n",
      "μ :\n",
      "[[-0.27636856  0.3377376 ]\n",
      " [-0.69113076 -0.9321433 ]\n",
      " [-0.5146856   0.16163845]]\n",
      "\n",
      "σ :\n",
      "[0.4854712  0.8633912  0.37439775]\n",
      "\n",
      "Weights :\n",
      "tensor([[ 0.5078,  0.0963,  0.1998],\n",
      "        [-0.5220, -0.6815, -0.5694],\n",
      "        [-0.3646,  0.0385,  0.0449]])\n",
      "\n",
      "Bias :\n",
      "tensor([-0.2953, -0.0906, -0.0096])\n",
      "epoch  1  ->  train[loss: 0.89808 - acc: 0.70]\n",
      "μ :\n",
      "[[-0.37970242  0.29226032]\n",
      " [-0.5599097  -0.93971384]\n",
      " [-0.497       0.15001203]]\n",
      "\n",
      "σ :\n",
      "[0.5136477  0.84330523 0.47712082]\n",
      "\n",
      "Weights :\n",
      "tensor([[ 0.8028,  0.1665,  0.4933],\n",
      "        [-0.5527, -0.9453, -0.8725],\n",
      "        [-0.6875,  0.1162, -0.2371]])\n",
      "\n",
      "Bias :\n",
      "tensor([-0.4319,  0.0710, -0.0578])\n",
      "epoch  2  ->  train[loss: 0.81084 - acc: 0.79]\n",
      "μ :\n",
      "[[-0.41706774  0.37004578]\n",
      " [-0.2719009  -0.95400065]\n",
      " [-0.5335405   0.2047996 ]]\n",
      "\n",
      "σ :\n",
      "[0.50358945 0.89065677 0.48440617]\n",
      "\n",
      "Weights :\n",
      "tensor([[ 1.0246,  0.1028,  0.7300],\n",
      "        [-0.5789, -1.2537, -1.1003],\n",
      "        [-0.9351,  0.3676, -0.4634]])\n",
      "\n",
      "Bias :\n",
      "tensor([-0.6336,  0.2054, -0.0266])\n",
      "epoch  3  ->  train[loss: 0.71137 - acc: 0.80]\n",
      "μ :\n",
      "[[-0.36585054  0.3674935 ]\n",
      " [ 0.08878073 -1.1074508 ]\n",
      " [-0.5122776   0.1868085 ]]\n",
      "\n",
      "σ :\n",
      "[0.57906526 0.765449   0.5210529 ]\n",
      "\n",
      "Weights :\n",
      "tensor([[ 1.2380, -0.1033,  0.9675],\n",
      "        [-0.5571, -1.5327, -1.2788],\n",
      "        [-1.1975,  0.7108, -0.7039]])\n",
      "\n",
      "Bias :\n",
      "tensor([-0.8129,  0.3569, -0.0301])\n",
      "epoch  4  ->  train[loss: 0.59563 - acc: 0.92]\n",
      "μ :\n",
      "[[-0.33864686  0.39720967]\n",
      " [ 0.47019    -1.005494  ]\n",
      " [-0.51346475  0.17828763]]\n",
      "\n",
      "σ :\n",
      "[0.6225311 0.5982493 0.5617527]\n",
      "\n",
      "Weights :\n",
      "tensor([[ 1.4176, -0.3611,  1.1776],\n",
      "        [-0.4975, -1.8146, -1.5122],\n",
      "        [-1.4416,  1.0784, -0.8776]])\n",
      "\n",
      "Bias :\n",
      "tensor([-0.9452,  0.5145, -0.0852])\n",
      "epoch  5  ->  train[loss: 0.48618 - acc: 0.93]\n",
      "μ :\n",
      "[[-0.36886665  0.4550369 ]\n",
      " [ 0.6541762  -0.8055002 ]\n",
      " [-0.5906519   0.14880896]]\n",
      "\n",
      "σ :\n",
      "[0.6136447  0.39455384 0.5195372 ]\n",
      "\n",
      "Weights :\n",
      "tensor([[ 1.5600, -0.6354,  1.3695],\n",
      "        [-0.4377, -2.0532, -1.7567],\n",
      "        [-1.6528,  1.4228, -1.0154]])\n",
      "\n",
      "Bias :\n",
      "tensor([-1.0576,  0.6669, -0.1532])\n",
      "epoch  6  ->  train[loss: 0.41365 - acc: 0.94]\n",
      "μ :\n",
      "[[-0.35731825  0.45076048]\n",
      " [ 0.68578637 -0.609636  ]\n",
      " [-0.5703415   0.10938046]]\n",
      "\n",
      "σ :\n",
      "[0.64007044 0.36700094 0.5551462 ]\n",
      "\n",
      "Weights :\n",
      "tensor([[ 1.6970, -0.8402,  1.5450],\n",
      "        [-0.4462, -2.3141, -2.0526],\n",
      "        [-1.8151,  1.7243, -1.0964]])\n",
      "\n",
      "Bias :\n",
      "tensor([-1.1320,  0.7946, -0.2273])\n",
      "epoch  7  ->  train[loss: 0.37975 - acc: 0.93]\n",
      "μ :\n",
      "[[-0.34526834  0.4888457 ]\n",
      " [ 0.674018   -0.6327753 ]\n",
      " [-0.5780828   0.11085641]]\n",
      "\n",
      "σ :\n",
      "[0.6495368  0.37654403 0.559138  ]\n",
      "\n",
      "Weights :\n",
      "tensor([[ 1.8038, -1.0188,  1.6876],\n",
      "        [-0.4320, -2.5462, -2.2918],\n",
      "        [-1.9592,  1.9878, -1.1573]])\n",
      "\n",
      "Bias :\n",
      "tensor([-1.2061,  0.9037, -0.2825])\n",
      "epoch  8  ->  train[loss: 0.34828 - acc: 0.94]\n",
      "μ :\n",
      "[[-0.31397316  0.52777654]\n",
      " [ 0.67426234 -0.644419  ]\n",
      " [-0.555465    0.13991724]]\n",
      "\n",
      "σ :\n",
      "[0.66382223 0.39336795 0.5981497 ]\n",
      "\n",
      "Weights :\n",
      "tensor([[ 1.9128, -1.1613,  1.8186],\n",
      "        [-0.4467, -2.7691, -2.5185],\n",
      "        [-2.0857,  2.2199, -1.2036]])\n",
      "\n",
      "Bias :\n",
      "tensor([-1.2607,  0.9884, -0.3282])\n",
      "epoch  9  ->  train[loss: 0.33063 - acc: 0.93]\n",
      "μ :\n",
      "[[-0.29999852  0.5488509 ]\n",
      " [ 0.68245286 -0.6330487 ]\n",
      " [-0.58445     0.09301209]]\n",
      "\n",
      "σ :\n",
      "[0.6818198  0.38079375 0.57851446]\n",
      "\n",
      "Weights :\n",
      "tensor([[ 1.9864, -1.2756,  1.9247],\n",
      "        [-0.4229, -2.9443, -2.6945],\n",
      "        [-2.2016,  2.4039, -1.2412]])\n",
      "\n",
      "Bias :\n",
      "tensor([-1.3185,  1.0847, -0.3852])\n"
     ]
    }
   ],
   "source": [
    "for epoch in range(num_epochs):\n",
    "\n",
    "# train loop\n",
    "    model.train()\n",
    "    train_loss = 0\n",
    "\n",
    "    for x, y in trainloader:\n",
    "\n",
    "        # send data to GPU\n",
    "        x, y_true = x.to(device), y.to(device)\n",
    "\n",
    "        # forward\n",
    "        y_pred = model(x)\n",
    "        loss = criterion(y_pred, y_true)\n",
    "\n",
    "        # backward\n",
    "        loss.backward()\n",
    "\n",
    "        # update parameters\n",
    "        optimizer.step()\n",
    "        optimizer.zero_grad()\n",
    "\n",
    "        # log loss & accuracy\n",
    "        train_loss += loss.item() * len(x)\n",
    "        train_acc.update(y_pred, y_true)\n",
    "\n",
    "    train_loss_per_epoch.append(train_loss / len(trainset))\n",
    "    train_acc_per_epoch.append(train_acc.compute().item())\n",
    "    train_acc.reset()\n",
    "\n",
    "    # log\n",
    "    print(f\"epoch {epoch:>2}  ->  train[loss: {train_loss_per_epoch[epoch]:.5f} - acc: {train_acc_per_epoch[epoch]:.2f}]\")\n",
    "    print(f\"μ :\\n{model.rbf.centers.detach().cpu().numpy()}\\n\")\n",
    "    print(f\"σ :\\n{model.rbf.sigmas.detach().cpu().numpy()}\\n\")\n",
    "    print(f\"Weights :\\n{model.linear.weight.detach().cpu()}\\n\")\n",
    "    print(f\"Bias :\\n{model.linear.bias.detach().cpu()}\")\n",
    "\n",
    "    # plot\n",
    "    plot()"
   ]
  },
  {
   "cell_type": "markdown",
   "metadata": {},
   "source": [
    "# Test Loop"
   ]
  },
  {
   "cell_type": "code",
   "execution_count": 84,
   "metadata": {},
   "outputs": [],
   "source": [
    "test_acc = Accuracy(task='multiclass', num_classes=n_classes, top_k=1).to(device)"
   ]
  },
  {
   "cell_type": "code",
   "execution_count": 85,
   "metadata": {},
   "outputs": [
    {
     "name": "stdout",
     "output_type": "stream",
     "text": [
      "test[loss: 0.24104 - acc: 1.00]\n"
     ]
    }
   ],
   "source": [
    "# test loop\n",
    "model.eval()\n",
    "test_loss = 0\n",
    "predictions = []\n",
    "targets = []\n",
    "\n",
    "with torch.no_grad():\n",
    "    for x, y in testloader:\n",
    "\n",
    "        # send data to GPU\n",
    "        x, y_true = x.to(device), y.to(device)\n",
    "\n",
    "        # forward\n",
    "        y_pred = model(x)\n",
    "        loss = criterion(y_pred, y_true)\n",
    "\n",
    "        # log loss & accuracy\n",
    "        test_loss += loss.item() * len(x)\n",
    "        test_acc.update(y_pred, y_true)\n",
    "\n",
    "        predictions.extend(y_pred.argmax(dim=1).cpu())\n",
    "        targets.extend(y_true.cpu())\n",
    "\n",
    "# log\n",
    "print(f\"test[loss: {test_loss / len(testset):.5f} - acc: {test_acc.compute().item():.2f}]\")"
   ]
  }
 ],
 "metadata": {
  "author_email": "AmirhosseinHeydari78@gmail.com",
  "author_github": "https://github.com/mr-pylin",
  "author_name": "Amirhossein Heydari",
  "kernelspec": {
   "display_name": "Python 3",
   "language": "python",
   "name": "python3"
  },
  "language_info": {
   "codemirror_mode": {
    "name": "ipython",
    "version": 3
   },
   "file_extension": ".py",
   "mimetype": "text/x-python",
   "name": "python",
   "nbconvert_exporter": "python",
   "pygments_lexer": "ipython3",
   "version": "3.12.3"
  },
  "origin_repo": "https://github.com/mr-pylin/pytorch-workshop"
 },
 "nbformat": 4,
 "nbformat_minor": 2
}
