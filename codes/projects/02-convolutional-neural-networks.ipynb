{
 "cells": [
  {
   "cell_type": "markdown",
   "metadata": {},
   "source": [
    "📝 **Author:** Amirhossein Heydari - 📧 **Email:** amirhosseinheydari78@gmail.com - 📍 **Linktree:** [linktr.ee/mr_pylin](https://linktr.ee/mr_pylin)\n",
    "\n",
    "---"
   ]
  },
  {
   "cell_type": "markdown",
   "metadata": {},
   "source": [
    "# Dependencies"
   ]
  },
  {
   "cell_type": "code",
   "execution_count": 2,
   "metadata": {},
   "outputs": [],
   "source": [
    "import matplotlib.pyplot as plt\n",
    "import numpy as np\n",
    "import torch\n",
    "from sklearn.metrics import classification_report\n",
    "from torch import nn\n",
    "from torch.nn import CrossEntropyLoss\n",
    "from torch.optim import Adam\n",
    "from torch.utils.data import DataLoader, random_split\n",
    "from torchinfo import summary\n",
    "from torchmetrics.classification import MulticlassAccuracy, MulticlassConfusionMatrix\n",
    "from torchvision.datasets import CIFAR10\n",
    "from torchvision.transforms import v2"
   ]
  },
  {
   "cell_type": "code",
   "execution_count": 3,
   "metadata": {},
   "outputs": [],
   "source": [
    "# set a seed for deterministic results\n",
    "seed = 42\n",
    "torch.manual_seed(seed)\n",
    "torch.backends.cudnn.deterministic = True\n",
    "torch.backends.cudnn.benchmark = False"
   ]
  },
  {
   "cell_type": "code",
   "execution_count": null,
   "metadata": {},
   "outputs": [],
   "source": [
    "# check if cuda is available\n",
    "device = torch.device(\"cuda\" if torch.cuda.is_available() else \"cpu\")\n",
    "\n",
    "# log\n",
    "device"
   ]
  },
  {
   "cell_type": "markdown",
   "metadata": {},
   "source": [
    "# Pre-Processing"
   ]
  },
  {
   "cell_type": "markdown",
   "metadata": {},
   "source": [
    "# Load Dataset"
   ]
  },
  {
   "cell_type": "code",
   "execution_count": null,
   "metadata": {},
   "outputs": [],
   "source": [
    "# initial transforms\n",
    "transforms = v2.Compose([v2.ToImage(), v2.ToDtype(torch.float32, scale=True)])\n",
    "\n",
    "# load the CIFAR-10 dataset\n",
    "trainset = CIFAR10(root=\"../../datasets\", train=True, download=False, transform=transforms)\n",
    "testset = CIFAR10(root=\"../../datasets\", train=False, download=False, transform=transforms)\n",
    "\n",
    "# log\n",
    "print(\"trainset:\")\n",
    "print(f\"    -> trainset.data.shape    : {trainset.data.shape}\")\n",
    "print(f\"    -> trainset.data.dtype    : {trainset.data.dtype}\")\n",
    "print(f\"    -> type(trainset.data)    : {type(trainset.data)}\")\n",
    "print(f\"    -> type(trainset.targets) : {type(trainset.targets)}\")\n",
    "print(\"-\" * 50)\n",
    "print(\"testset:\")\n",
    "print(f\"    -> testset.data.shape     : {testset.data.shape}\")\n",
    "print(f\"    -> testset.data.dtype     : {testset.data.dtype}\")\n",
    "print(f\"    -> type(testset.data)     : {type(testset.data)}\")\n",
    "print(f\"    -> type(testset.targets)  : {type(testset.targets)}\")\n",
    "print(\"-\" * 50)\n",
    "print(f\"classes: {trainset.class_to_idx}\")\n",
    "print(f\"trainset distribution: {np.unique(trainset.targets, return_counts=True)[1]}\")\n",
    "print(f\"testset  distribution: {np.unique(testset.targets, return_counts=True)[1]}\")"
   ]
  },
  {
   "cell_type": "code",
   "execution_count": null,
   "metadata": {},
   "outputs": [],
   "source": [
    "# plot\n",
    "fig, axs = plt.subplots(nrows=4, ncols=8, figsize=(12, 6), layout=\"compressed\")\n",
    "for i in range(4):\n",
    "    for j in range(8):\n",
    "        axs[i, j].imshow(trainset.data[i * 8 + j], cmap=\"gray\")\n",
    "        axs[i, j].set_title(trainset.classes[trainset.targets[i * 8 + j]])\n",
    "        axs[i, j].axis(\"off\")\n",
    "plt.show()"
   ]
  },
  {
   "cell_type": "markdown",
   "metadata": {},
   "source": [
    "## Split trainset into [trainset, validationset]"
   ]
  },
  {
   "cell_type": "code",
   "execution_count": null,
   "metadata": {},
   "outputs": [],
   "source": [
    "# random split\n",
    "trainset, validationset = random_split(trainset, [0.9, 0.1])\n",
    "\n",
    "# log\n",
    "print(\"trainset:\")\n",
    "print(f\"    -> len(trainset)       : {len(trainset)}\")\n",
    "print(f\"    -> trainset[0][0]      : {trainset[0][0].shape}\")\n",
    "print(f\"    -> trainset[0][1]      : {trainset[0][1]}\\n\")\n",
    "print(\"validationset:\")\n",
    "print(f\"    -> len(validationset)  : {len(validationset)}\")\n",
    "print(f\"    -> validationset[0][0] : {validationset[0][0].shape}\")\n",
    "print(f\"    -> validationset[0][1] : {validationset[0][1]}\\n\")\n",
    "print(\"testset:\")\n",
    "print(f\"    -> len(testset)        : {len(testset)}\")\n",
    "print(f\"    -> testset[0][0]       : {testset[0][0].shape}\")\n",
    "print(f\"    -> testset[0][1]       : {testset[0][1]}\")"
   ]
  },
  {
   "cell_type": "markdown",
   "metadata": {},
   "source": [
    "## Normalization"
   ]
  },
  {
   "cell_type": "code",
   "execution_count": null,
   "metadata": {},
   "outputs": [],
   "source": [
    "# create a temporary DataLoader for the trainset\n",
    "temp_trainloader = DataLoader(trainset, batch_size=len(trainset))\n",
    "\n",
    "# get the whole data\n",
    "temp_dataset = next(iter(temp_trainloader))\n",
    "\n",
    "# calculate the mean and standard deviation [PER CHANNEL]\n",
    "train_mean = temp_dataset[0].mean(axis=(0, 2, 3))  # [0.4917, 0.4823, 0.4467]\n",
    "train_std = temp_dataset[0].std(axis=(0, 2, 3))  # [0.2471, 0.2435, 0.2616]\n",
    "\n",
    "del temp_trainloader\n",
    "del temp_dataset\n",
    "\n",
    "# log\n",
    "print(f\"train mean per channel : {train_mean}\")\n",
    "print(f\"train std  per channel : {train_std}\")"
   ]
  },
  {
   "cell_type": "markdown",
   "metadata": {},
   "source": [
    "## Transform\n",
    "   - on-the-fly data augmentation\n",
    "   - Disadvantage:\n",
    "      - same transform applies to the same data in each epoch\n",
    "   - Advantage:\n",
    "      - Reduced Memory Usage, Regularization & Data Diversity [random transforms e.g. RancomCrop]"
   ]
  },
  {
   "cell_type": "code",
   "execution_count": null,
   "metadata": {},
   "outputs": [],
   "source": [
    "transforms"
   ]
  },
  {
   "cell_type": "code",
   "execution_count": null,
   "metadata": {},
   "outputs": [],
   "source": [
    "transforms.transforms.append(v2.Normalize(mean=train_mean, std=train_std))\n",
    "\n",
    "# log\n",
    "print(f\"trainset.dataset.transforms:\\n{trainset.dataset.transforms}\\n\")\n",
    "print(f\"validationset.dataset.transforms:\\n{validationset.dataset.transforms}\\n\")\n",
    "print(f\"testset.transforms:\\n{testset.transforms}\")"
   ]
  },
  {
   "cell_type": "code",
   "execution_count": null,
   "metadata": {},
   "outputs": [],
   "source": [
    "# log\n",
    "print(\"before applying transform:\")\n",
    "print(f\"    -> type(testset.data[0]) : {type(testset.data[0])}\")\n",
    "print(f\"    -> testset.data[0].dtype : {testset.data[0].dtype}\")\n",
    "print(f\"    -> testset.data[0].shape : {testset.data[0].shape}\")\n",
    "print(\"-\" * 50)\n",
    "print(\"after applying transform:\")\n",
    "print(f\"    -> type(testset[0][0])   : {type(testset[0][0])}\")\n",
    "print(f\"    -> testset[0][0].dtype   : {testset[0][0].dtype}\")\n",
    "print(f\"    -> testset[0][0].shape   : {testset[0][0].shape}\")"
   ]
  },
  {
   "cell_type": "markdown",
   "metadata": {},
   "source": [
    "## DataLoader"
   ]
  },
  {
   "cell_type": "code",
   "execution_count": 12,
   "metadata": {},
   "outputs": [],
   "source": [
    "batch_size = 64\n",
    "\n",
    "trainloader = DataLoader(dataset=trainset, batch_size=batch_size, shuffle=True, num_workers=2)\n",
    "validationloader = DataLoader(dataset=validationset, batch_size=batch_size, shuffle=False, num_workers=2)\n",
    "testloader = DataLoader(dataset=testset, batch_size=batch_size, shuffle=False, num_workers=2)"
   ]
  },
  {
   "cell_type": "code",
   "execution_count": null,
   "metadata": {},
   "outputs": [],
   "source": [
    "first_train_batch = next(iter(trainloader))\n",
    "first_validation_batch = next(iter(validationloader))\n",
    "first_test_batch = next(iter(testloader))\n",
    "\n",
    "print(\n",
    "    f\"trainloader      first batch     -> x.shape: {first_train_batch[0].shape} - y.shape: {first_train_batch[1].shape} - x.dtype: {first_train_batch[0].dtype} - y.dtype: {first_train_batch[1].dtype}\"\n",
    ")\n",
    "print(\n",
    "    f\"validationloader first batch     -> x.shape: {first_validation_batch[0].shape} - y.shape: {first_validation_batch[1].shape} - x.dtype: {first_validation_batch[0].dtype} - y.dtype: {first_validation_batch[1].dtype}\"\n",
    ")\n",
    "print(\n",
    "    f\"testloader       first batch     -> x.shape: {first_test_batch[0].shape} - y.shape: {first_test_batch[1].shape} - x.dtype: {first_test_batch[0].dtype} - y.dtype: {first_test_batch[1].dtype}\"\n",
    ")\n",
    "print(f\"trainloader      last batch-size -> {len(trainset) % batch_size}\")\n",
    "print(f\"validationloader last batch-size -> {len(validationset) % batch_size}\")\n",
    "print(f\"testloader       last batch-size -> {len(testset) % batch_size}\")"
   ]
  },
  {
   "cell_type": "markdown",
   "metadata": {},
   "source": [
    "# Network Structure: Convolutional Neural Networks\n",
    "\n",
    "<figure style=\"text-align: center;\">\n",
    "    <img src=\"../../assets/images/original/cnn/convolutional-neural-networks.svg\" alt=\"convolutional-neural-networks.svg\" style=\"width: 100%;\">\n",
    "    <figcaption>Convolutional Neural Networks Model</figcaption>\n",
    "</figure>"
   ]
  },
  {
   "cell_type": "code",
   "execution_count": 14,
   "metadata": {},
   "outputs": [],
   "source": [
    "class CIFAR10Model(nn.Module):\n",
    "    def __init__(self, in_channels, output_dim):\n",
    "        super(CIFAR10Model, self).__init__()\n",
    "        self.feature_extractor = nn.Sequential(\n",
    "            # 3x32x32\n",
    "            nn.Conv2d(in_channels, out_channels=32, kernel_size=3),\n",
    "            nn.BatchNorm2d(32),  # StandardScaler along channel axis\n",
    "            nn.ReLU(),\n",
    "            nn.MaxPool2d(kernel_size=2),\n",
    "            # 32x15x15\n",
    "            nn.Conv2d(in_channels=32, out_channels=64, kernel_size=3),\n",
    "            nn.BatchNorm2d(64),\n",
    "            nn.ReLU(),\n",
    "            nn.MaxPool2d(kernel_size=2),\n",
    "            # 64x6x6\n",
    "            nn.AdaptiveAvgPool2d(output_size=(1, 1)),\n",
    "            # 64x1x1\n",
    "        )\n",
    "\n",
    "        self.flatten = nn.Flatten(start_dim=1)\n",
    "\n",
    "        self.classifier = nn.Sequential(\n",
    "            nn.Linear(64, output_dim),\n",
    "        )\n",
    "\n",
    "    def forward(self, x):\n",
    "        x = self.feature_extractor(x)\n",
    "        x = self.flatten(x)\n",
    "        x = self.classifier(x)\n",
    "        return x"
   ]
  },
  {
   "cell_type": "code",
   "execution_count": null,
   "metadata": {},
   "outputs": [],
   "source": [
    "in_channels = trainset[0][0].shape[0]\n",
    "output_dim = len(trainset.dataset.classes)\n",
    "\n",
    "# initialize the model\n",
    "model = CIFAR10Model(in_channels, output_dim).to(device)\n",
    "\n",
    "# log\n",
    "model"
   ]
  },
  {
   "cell_type": "code",
   "execution_count": null,
   "metadata": {},
   "outputs": [],
   "source": [
    "summary(model, input_size=(batch_size, *testset.data.transpose(0, 3, 1, 2).shape[1:]))"
   ]
  },
  {
   "cell_type": "markdown",
   "metadata": {},
   "source": [
    "# Set up remaining Hyperparameters"
   ]
  },
  {
   "cell_type": "code",
   "execution_count": 17,
   "metadata": {},
   "outputs": [],
   "source": [
    "lr = 0.01\n",
    "criterion = CrossEntropyLoss()\n",
    "optimizer = Adam(params=model.parameters(), lr=lr)\n",
    "num_epochs = 10"
   ]
  },
  {
   "cell_type": "markdown",
   "metadata": {},
   "source": [
    "# Train & Validation Loop"
   ]
  },
  {
   "cell_type": "code",
   "execution_count": 18,
   "metadata": {},
   "outputs": [],
   "source": [
    "train_acc_per_epoch = []\n",
    "train_loss_per_epoch = []\n",
    "val_acc_per_epoch = []\n",
    "val_loss_per_epoch = []"
   ]
  },
  {
   "cell_type": "code",
   "execution_count": 19,
   "metadata": {},
   "outputs": [],
   "source": [
    "train_acc = MulticlassAccuracy(num_classes=len(testset.classes), top_k=1).to(device)\n",
    "val_acc = MulticlassAccuracy(num_classes=len(testset.classes), top_k=1).to(device)"
   ]
  },
  {
   "cell_type": "code",
   "execution_count": null,
   "metadata": {},
   "outputs": [],
   "source": [
    "for epoch in range(num_epochs):\n",
    "\n",
    "    # train loop\n",
    "    model.train()\n",
    "    train_loss = 0\n",
    "\n",
    "    for x, y in trainloader:\n",
    "\n",
    "        # send data to GPU\n",
    "        x, y_true = x.to(device), y.to(device)\n",
    "\n",
    "        # forward\n",
    "        y_pred = model(x)\n",
    "        loss = criterion(y_pred, y_true)\n",
    "\n",
    "        # backward\n",
    "        loss.backward()\n",
    "\n",
    "        # update parameters\n",
    "        optimizer.step()\n",
    "        optimizer.zero_grad()\n",
    "\n",
    "        # store loss and accuracy per iteration\n",
    "        train_loss += loss.item() * len(x)\n",
    "        train_acc.update(y_pred, y_true)\n",
    "\n",
    "    # store loss and accuracy per epoch\n",
    "    train_loss_per_epoch.append(train_loss / len(trainset))\n",
    "    train_acc_per_epoch.append(train_acc.compute().item())\n",
    "    train_acc.reset()\n",
    "\n",
    "    # validation loop\n",
    "    model.eval()\n",
    "    val_loss = 0\n",
    "\n",
    "    with torch.no_grad():\n",
    "        for x, y in validationloader:\n",
    "\n",
    "            # send data to GPU\n",
    "            x, y_true = x.to(device), y.to(device)\n",
    "\n",
    "            # forward\n",
    "            y_pred = model(x)\n",
    "            loss = criterion(y_pred, y_true)\n",
    "\n",
    "            # store loss and accuracy per iteration\n",
    "            val_loss += loss.item() * len(x)\n",
    "            val_acc.update(y_pred, y_true)\n",
    "\n",
    "    # store loss and accuracy per epoch\n",
    "    val_loss_per_epoch.append(val_loss / len(validationset))\n",
    "    val_acc_per_epoch.append(val_acc.compute().item())\n",
    "    val_acc.reset()\n",
    "\n",
    "    # log\n",
    "    print(\n",
    "        f\"epoch {epoch+1:0{len(str(num_epochs))}}/{num_epochs}  ->  train[loss: {train_loss_per_epoch[epoch]:.5f} - acc: {train_acc_per_epoch[epoch]:.2f}] | validation[loss: {val_loss_per_epoch[epoch]:.5f} - acc: {val_acc_per_epoch[epoch]:.2f}]\"\n",
    "    )"
   ]
  },
  {
   "cell_type": "markdown",
   "metadata": {},
   "source": [
    "## Model Analysis"
   ]
  },
  {
   "cell_type": "code",
   "execution_count": null,
   "metadata": {},
   "outputs": [],
   "source": [
    "# plot\n",
    "fig, axs = plt.subplots(nrows=1, ncols=2, figsize=(10, 4), layout=\"compressed\")\n",
    "axs[0].plot(train_loss_per_epoch, label=\"Train loss\")\n",
    "axs[0].plot(val_loss_per_epoch, label=\"Validation loss\")\n",
    "axs[0].set(title=\"Loss over time\", xlabel=\"Epoch\", ylabel=\"Loss\")\n",
    "axs[0].legend(loc=\"best\", fancybox=True, shadow=True)\n",
    "axs[1].plot(train_acc_per_epoch, label=\"Train accuracy\")\n",
    "axs[1].plot(val_acc_per_epoch, label=\"Validation accuracy\")\n",
    "axs[1].set(title=\"Accuracy over time\", xlabel=\"Epoch\", ylabel=\"Accuracy\")\n",
    "axs[1].legend(loc=\"best\", fancybox=True, shadow=True)\n",
    "plt.show()"
   ]
  },
  {
   "cell_type": "markdown",
   "metadata": {},
   "source": [
    "# Test Loop"
   ]
  },
  {
   "cell_type": "code",
   "execution_count": 22,
   "metadata": {},
   "outputs": [],
   "source": [
    "test_acc = MulticlassAccuracy(num_classes=len(testset.classes), top_k=1).to(device)"
   ]
  },
  {
   "cell_type": "code",
   "execution_count": null,
   "metadata": {},
   "outputs": [],
   "source": [
    "model.eval()\n",
    "test_loss = 0\n",
    "predictions = []\n",
    "targets = []\n",
    "\n",
    "with torch.no_grad():\n",
    "    for x, y in testloader:\n",
    "\n",
    "        # send data to GPU\n",
    "        x, y_true = x.to(device), y.to(device)\n",
    "\n",
    "        # forward\n",
    "        y_pred = model(x)\n",
    "        loss = criterion(y_pred, y_true)\n",
    "\n",
    "        # store loss and accuracy per iteration\n",
    "        test_loss += loss.item() * len(x)\n",
    "        test_acc.update(y_pred, y_true)\n",
    "\n",
    "        predictions.extend(y_pred.argmax(dim=1).cpu())\n",
    "        targets.extend(y_true.cpu())\n",
    "\n",
    "# log\n",
    "print(f\"test[loss: {test_loss / len(testset):.5f} - acc: {test_acc.compute().item():.2f}]\")"
   ]
  },
  {
   "cell_type": "markdown",
   "metadata": {},
   "source": [
    "## Metrics\n",
    "   - Loss\n",
    "   - Accuracy\n",
    "   - Recall\n",
    "   - Precision\n",
    "   - F1-Score\n",
    "   - Confusion Matrix\n",
    "   - Area Under the ROC Curve (AUC-ROC)\n",
    "   - Area Under the Precision-Recall Curve (AUC-PR)\n",
    "   - ...\n",
    "\n",
    "**Docs**:\n",
    "   - [lightning.ai/docs/torchmetrics/stable/all-metrics.html](https://lightning.ai/docs/torchmetrics/stable/all-metrics.html)\n",
    "   - [scikit-learn.org/stable/modules/generated/sklearn.metrics.classification_report.html](https://scikit-learn.org/stable/modules/generated/sklearn.metrics.classification_report.html)"
   ]
  },
  {
   "cell_type": "code",
   "execution_count": null,
   "metadata": {},
   "outputs": [],
   "source": [
    "# classification report\n",
    "print(classification_report(targets, predictions))"
   ]
  },
  {
   "cell_type": "code",
   "execution_count": null,
   "metadata": {},
   "outputs": [],
   "source": [
    "# confusion matrix\n",
    "metric = MulticlassConfusionMatrix(num_classes=10)\n",
    "confusion_matrix = metric(torch.tensor(predictions), torch.tensor(targets))\n",
    "\n",
    "# log\n",
    "print(confusion_matrix)\n",
    "\n",
    "# plot\n",
    "fig, ax = plt.subplots(figsize=(8, 8))\n",
    "metric.plot(ax=ax)\n",
    "plt.show()"
   ]
  },
  {
   "cell_type": "markdown",
   "metadata": {},
   "source": [
    "# Prediction"
   ]
  },
  {
   "cell_type": "code",
   "execution_count": 28,
   "metadata": {},
   "outputs": [],
   "source": [
    "def predict(model: nn.Module, data: np.ndarray, classes: list, transform: v2._container.Compose = None) -> torch.Tensor:\n",
    "\n",
    "    # add batch dimension to a single data\n",
    "    if len(data.shape) == 3:\n",
    "        data = np.expand_dims(data, axis=0)\n",
    "\n",
    "    # apply the transform\n",
    "    if transform:\n",
    "        data = torch.stack([transform(sample) for sample in data])\n",
    "\n",
    "    # predict\n",
    "    model.eval()\n",
    "    with torch.no_grad():\n",
    "\n",
    "        # send data to GPU\n",
    "        data = data.to(device)\n",
    "\n",
    "        # forward\n",
    "        y_pred = model(data).argmax(dim=1).cpu()\n",
    "\n",
    "        # idx to labels\n",
    "        y_pred = np.array(classes)[y_pred]\n",
    "\n",
    "    return y_pred"
   ]
  },
  {
   "cell_type": "code",
   "execution_count": null,
   "metadata": {},
   "outputs": [],
   "source": [
    "# some raw data\n",
    "raw_data = CIFAR10(root=\"../../datasets\", train=False, transform=None, download=False).data[:32]\n",
    "\n",
    "# predict\n",
    "y_pred = predict(model, data=raw_data, classes=testset.classes, transform=transforms)\n",
    "\n",
    "# log\n",
    "print(f\"predictions:\\n{y_pred}\")"
   ]
  },
  {
   "cell_type": "code",
   "execution_count": null,
   "metadata": {},
   "outputs": [],
   "source": [
    "# plot\n",
    "fig, axs = plt.subplots(nrows=4, ncols=8, figsize=(12, 6), layout=\"compressed\")\n",
    "for i in range(4):\n",
    "    for j in range(8):\n",
    "        axs[i, j].imshow(raw_data[i * 8 + j], cmap=\"gray\")\n",
    "        axs[i, j].set_title(predict(model, raw_data[i * 8 + j], testset.classes, transform=transforms))\n",
    "        axs[i, j].axis(\"off\")\n",
    "plt.show()"
   ]
  }
 ],
 "metadata": {
  "author_email": "AmirhosseinHeydari78@gmail.com",
  "author_github": "https://github.com/mr-pylin",
  "author_name": "Amirhossein Heydari",
  "kernelspec": {
   "display_name": "Python 3",
   "language": "python",
   "name": "python3"
  },
  "language_info": {
   "codemirror_mode": {
    "name": "ipython",
    "version": 3
   },
   "file_extension": ".py",
   "mimetype": "text/x-python",
   "name": "python",
   "nbconvert_exporter": "python",
   "pygments_lexer": "ipython3",
   "version": "3.12.3"
  },
  "origin_repo": "https://github.com/mr-pylin/pytorch-workshop"
 },
 "nbformat": 4,
 "nbformat_minor": 2
}
