{
 "cells": [
  {
   "cell_type": "markdown",
   "metadata": {},
   "source": [
    "📝 **Author:** Amirhossein Heydari - 📧 **Email:** amirhosseinheydari78@gmail.com - 📍 **Linktree:** [linktr.ee/mr_pylin](https://linktr.ee/mr_pylin)\n",
    "\n",
    "---"
   ]
  },
  {
   "cell_type": "markdown",
   "metadata": {},
   "source": [
    "# Dependencies"
   ]
  },
  {
   "cell_type": "code",
   "execution_count": 1,
   "metadata": {},
   "outputs": [],
   "source": [
    "import matplotlib.pyplot as plt\n",
    "import numpy as np\n",
    "import torch\n",
    "from sklearn.metrics import classification_report\n",
    "from torch import nn\n",
    "from torch.nn import CrossEntropyLoss\n",
    "from torch.optim import Adam\n",
    "from torch.utils.data import DataLoader, random_split\n",
    "from torchinfo import summary\n",
    "from torchmetrics import Accuracy, ConfusionMatrix\n",
    "from torchvision.datasets import MNIST\n",
    "from torchvision.transforms import v2"
   ]
  },
  {
   "cell_type": "code",
   "execution_count": 2,
   "metadata": {},
   "outputs": [],
   "source": [
    "# set a seed for deterministic results\n",
    "random_state = 42\n",
    "torch.manual_seed(random_state)\n",
    "torch.backends.cudnn.deterministic = True\n",
    "torch.backends.cudnn.benchmark = False"
   ]
  },
  {
   "cell_type": "code",
   "execution_count": 3,
   "metadata": {},
   "outputs": [
    {
     "data": {
      "text/plain": [
       "'cuda'"
      ]
     },
     "execution_count": 3,
     "metadata": {},
     "output_type": "execute_result"
    }
   ],
   "source": [
    "# check if cuda is available\n",
    "device = 'cuda' if torch.cuda.is_available() else 'cpu'\n",
    "device"
   ]
  },
  {
   "cell_type": "markdown",
   "metadata": {},
   "source": [
    "# Pre-Processing\n",
    "   - transforms: [pytorch.org/vision/main/transforms.html](https://pytorch.org/vision/main/transforms.html)\n",
    "   - available datasets: [pytorch.org/vision/main/datasets.html](https://pytorch.org/vision/main/datasets.html)\n",
    "   - Datasets & DataLoader: [pytorch.org/tutorials/beginner/basics/data_tutorial.html](https://pytorch.org/tutorials/beginner/basics/data_tutorial.html)"
   ]
  },
  {
   "cell_type": "markdown",
   "metadata": {},
   "source": [
    "## Load Dataset\n",
    "   - v2.ToImage:\n",
    "      - Convert a tensor, ndarray, or PIL Image to [Image](https://pytorch.org/vision/main/generated/torchvision.tv_tensors.Image.html#torchvision.tv_tensors.Image)\n",
    "      - [pytorch.org/vision/main/generated/torchvision.transforms.v2.ToImage.html](https://pytorch.org/vision/main/generated/torchvision.transforms.v2.ToImage.html)\n",
    "   - v2.ToDtype:\n",
    "      - Converts the input to a specific dtype, optionally scaling the values for images or videos\n",
    "      - [pytorch.org/vision/main/generated/torchvision.transforms.v2.ToDtype.html](https://pytorch.org/vision/main/generated/torchvision.transforms.v2.ToDtype.html)"
   ]
  },
  {
   "cell_type": "code",
   "execution_count": 29,
   "metadata": {},
   "outputs": [
    {
     "name": "stdout",
     "output_type": "stream",
     "text": [
      "trainset:\n",
      "    -> trainset.data.shape    : torch.Size([60000, 28, 28])\n",
      "    -> trainset.data.dtype    : torch.uint8\n",
      "    -> type(trainset.data)    : <class 'torch.Tensor'>\n",
      "    -> type(trainset.targets) : <class 'torch.Tensor'>\n",
      "--------------------------------------------------\n",
      "testset:\n",
      "    -> testset.data.shape     : torch.Size([10000, 28, 28])\n",
      "    -> testset.data.dtype     : torch.uint8\n",
      "    -> type(testset.data)     : <class 'torch.Tensor'>\n",
      "    -> type(testset.targets)  : <class 'torch.Tensor'>\n",
      "--------------------------------------------------\n",
      "classes: ['0 - zero', '1 - one', '2 - two', '3 - three', '4 - four', '5 - five', '6 - six', '7 - seven', '8 - eight', '9 - nine']\n",
      "trainset distribution: [5923 6742 5958 6131 5842 5421 5918 6265 5851 5949]\n",
      "testset  distribution: [ 980 1135 1032 1010  982  892  958 1028  974 1009]\n"
     ]
    }
   ],
   "source": [
    "# initial transforms\n",
    "transforms = v2.Compose(\n",
    "    [\n",
    "        v2.ToImage(),\n",
    "        v2.ToDtype(torch.float32, scale=True)\n",
    "    ]\n",
    ")\n",
    "\n",
    "# load the MNIST dataset\n",
    "trainset = MNIST(root='../../datasets', train=True, download=True, transform=transforms)\n",
    "testset = MNIST(root='../../datasets', train=False, download=True, transform=transforms)\n",
    "\n",
    "# log\n",
    "print('trainset:')\n",
    "print(f\"    -> trainset.data.shape    : {trainset.data.shape}\")  # it doesn't explicitly include the channel dimension for MNIST e.g. [60000, 1, 28, 28]\n",
    "print(f\"    -> trainset.data.dtype    : {trainset.data.dtype}\")\n",
    "print(f\"    -> type(trainset.data)    : {type(trainset.data)}\")\n",
    "print(f\"    -> type(trainset.targets) : {type(trainset.targets)}\")\n",
    "print('-' * 50)\n",
    "print('testset:')\n",
    "print(f\"    -> testset.data.shape     : {testset.data.shape}\")\n",
    "print(f\"    -> testset.data.dtype     : {testset.data.dtype}\")\n",
    "print(f\"    -> type(testset.data)     : {type(testset.data)}\")\n",
    "print(f\"    -> type(testset.targets)  : {type(testset.targets)}\")\n",
    "print('-' * 50)\n",
    "print(f\"classes: {trainset.classes}\")\n",
    "print(f\"trainset distribution: {np.unique(trainset.targets, return_counts=True)[1]}\")\n",
    "print(f\"testset  distribution: {np.unique(testset.targets, return_counts=True)[1]}\")"
   ]
  },
  {
   "cell_type": "code",
   "execution_count": null,
   "metadata": {},
   "outputs": [],
   "source": [
    "# plot\n",
    "fig, axs = plt.subplots(nrows=4, ncols=8, figsize=(12, 6), layout='compressed')\n",
    "for i in range(4):\n",
    "    for j in range(8):\n",
    "        axs[i, j].imshow(trainset.data[i * 8 + j], cmap='gray')\n",
    "        axs[i, j].set_title(trainset.classes[trainset.targets[i * 8 + j]])\n",
    "        axs[i, j].axis('off')\n",
    "plt.show()"
   ]
  },
  {
   "cell_type": "markdown",
   "metadata": {},
   "source": [
    "## Split trainset into [trainset, validationset]\n",
    "   - [pytorch.org/docs/stable/data.html](https://pytorch.org/docs/stable/data.html)"
   ]
  },
  {
   "cell_type": "code",
   "execution_count": 6,
   "metadata": {},
   "outputs": [
    {
     "name": "stdout",
     "output_type": "stream",
     "text": [
      "trainset:\n",
      "    -> len(trainset)       : 54000\n",
      "    -> trainset[0][0]      : torch.Size([1, 28, 28])\n",
      "    -> trainset[0][1]      : 6\n",
      "    -> type(trainset)      : <class 'torch.utils.data.dataset.Subset'>\n",
      "\n",
      "validationset:\n",
      "    -> len(validationset)  : 6000\n",
      "    -> validationset[0][0] : torch.Size([1, 28, 28])\n",
      "    -> validationset[0][1] : 1\n",
      "    -> type(validationset) : <class 'torch.utils.data.dataset.Subset'>\n",
      "\n",
      "testset:\n",
      "    -> len(testset)        : 10000\n",
      "    -> testset[0][0]       : torch.Size([1, 28, 28])\n",
      "    -> testset[0][1]       : 7\n",
      "    -> type(testset)       : <class 'torchvision.datasets.mnist.MNIST'>\n"
     ]
    }
   ],
   "source": [
    "# random split (returns List[Subset])\n",
    "trainset, validationset = random_split(trainset, [.9, .1])\n",
    "\n",
    "# log\n",
    "print('trainset:')\n",
    "print(f\"    -> len(trainset)       : {len(trainset)}\")\n",
    "print(f\"    -> trainset[0][0]      : {trainset[0][0].shape}\")\n",
    "print(f\"    -> trainset[0][1]      : {trainset[0][1]}\")\n",
    "print(f\"    -> type(trainset)      : {type(trainset)}\\n\")\n",
    "print('validationset:')\n",
    "print(f\"    -> len(validationset)  : {len(validationset)}\")\n",
    "print(f\"    -> validationset[0][0] : {validationset[0][0].shape}\")\n",
    "print(f\"    -> validationset[0][1] : {validationset[0][1]}\")\n",
    "print(f\"    -> type(validationset) : {type(validationset)}\\n\")\n",
    "print('testset:')\n",
    "print(f\"    -> len(testset)        : {len(testset)}\")\n",
    "print(f\"    -> testset[0][0]       : {testset[0][0].shape}\")\n",
    "print(f\"    -> testset[0][1]       : {testset[0][1]}\")\n",
    "print(f\"    -> type(testset)       : {type(testset)}\")"
   ]
  },
  {
   "cell_type": "markdown",
   "metadata": {},
   "source": [
    "## Normalization\n",
    "   1. Min-Max Normalization\n",
    "      - 0-1 Normalization\n",
    "         - Scales the pixel values to [0, 1] range\n",
    "      - ...\n",
    "   1. Mean-STD Normalization\n",
    "      - Standardization (Z-score normalization)\n",
    "         - Transforms the data to have a mean of 0 and a standard deviation of 1\n",
    "      - Mean Normalization\n",
    "         - It centers the data around zero\n",
    "      - Scale and Center Images\n",
    "         - Rescale the pixel values to have a mean of 0.5 and a standard deviation of 0.5\n",
    "      - ...\n",
    "   1. ...\n"
   ]
  },
  {
   "cell_type": "code",
   "execution_count": 7,
   "metadata": {},
   "outputs": [
    {
     "name": "stdout",
     "output_type": "stream",
     "text": [
      "train mean per channel: 0.13067437708377838\n",
      "train std  per channel: 0.30812761187553406\n"
     ]
    }
   ],
   "source": [
    "# create a temporary DataLoader for the trainset\n",
    "temp_trainloader = DataLoader(trainset, batch_size=len(trainset))\n",
    "\n",
    "# get the whole data\n",
    "temp_dataset = next(iter(temp_trainloader))\n",
    "\n",
    "# calculate the mean and standard deviation\n",
    "train_mean = temp_dataset[0].mean().item()  # 0.1307\n",
    "train_std = temp_dataset[0].std().item()  # 0.3081\n",
    "\n",
    "del temp_trainloader\n",
    "del temp_dataset\n",
    "\n",
    "# log\n",
    "print(f\"train mean per channel: {train_mean}\")\n",
    "print(f\"train std  per channel: {train_std}\")"
   ]
  },
  {
   "cell_type": "markdown",
   "metadata": {},
   "source": [
    "## Transform\n",
    "   - on-the-fly data augmentation\n",
    "   - Disadvantage:\n",
    "      - same transform applies to the same data in each epoch\n",
    "   - Advantage:\n",
    "      - Reduced Memory Usage, Regularization & Data Diversity [random transforms e.g. RancomCrop]"
   ]
  },
  {
   "cell_type": "code",
   "execution_count": 8,
   "metadata": {},
   "outputs": [
    {
     "data": {
      "text/plain": [
       "Compose(\n",
       "      ToImage()\n",
       "      ToDtype(scale=True)\n",
       ")"
      ]
     },
     "execution_count": 8,
     "metadata": {},
     "output_type": "execute_result"
    }
   ],
   "source": [
    "transforms"
   ]
  },
  {
   "cell_type": "code",
   "execution_count": 9,
   "metadata": {},
   "outputs": [
    {
     "name": "stdout",
     "output_type": "stream",
     "text": [
      "trainset.dataset.transforms:\n",
      "StandardTransform\n",
      "Transform: Compose(\n",
      "                 ToImage()\n",
      "                 ToDtype(scale=True)\n",
      "                 Normalize(mean=[0.13067437708377838], std=[0.30812761187553406], inplace=False)\n",
      "           )\n",
      "\n",
      "validationset.dataset.transforms:\n",
      "StandardTransform\n",
      "Transform: Compose(\n",
      "                 ToImage()\n",
      "                 ToDtype(scale=True)\n",
      "                 Normalize(mean=[0.13067437708377838], std=[0.30812761187553406], inplace=False)\n",
      "           )\n",
      "\n",
      "testset.transforms:\n",
      "StandardTransform\n",
      "Transform: Compose(\n",
      "                 ToImage()\n",
      "                 ToDtype(scale=True)\n",
      "                 Normalize(mean=[0.13067437708377838], std=[0.30812761187553406], inplace=False)\n",
      "           )\n"
     ]
    }
   ],
   "source": [
    "transforms.transforms.append(v2.Normalize(mean=(train_mean,), std=(train_std,)))\n",
    "\n",
    "# log\n",
    "print(f\"trainset.dataset.transforms:\\n{trainset.dataset.transforms}\\n\")\n",
    "print(f\"validationset.dataset.transforms:\\n{validationset.dataset.transforms}\\n\")\n",
    "print(f\"testset.transforms:\\n{testset.transforms}\")"
   ]
  },
  {
   "cell_type": "code",
   "execution_count": 10,
   "metadata": {},
   "outputs": [
    {
     "name": "stdout",
     "output_type": "stream",
     "text": [
      "before applying transform:\n",
      "    -> type(testset.data[0]) : <class 'torch.Tensor'>\n",
      "    -> testset.data[0].dtype : torch.uint8\n",
      "    -> testset.data[0].shape : torch.Size([28, 28])\n",
      "--------------------------------------------------\n",
      "after applying transform:\n",
      "    -> type(testset[0][0])   : <class 'torchvision.tv_tensors._image.Image'>\n",
      "    -> testset[0][0].dtype   : torch.float32\n",
      "    -> testset[0][0].shape   : torch.Size([1, 28, 28])\n"
     ]
    }
   ],
   "source": [
    "# log\n",
    "print(\"before applying transform:\")\n",
    "print(f\"    -> type(testset.data[0]) : {type(testset.data[0])}\")\n",
    "print(f\"    -> testset.data[0].dtype : {testset.data[0].dtype}\")\n",
    "print(f\"    -> testset.data[0].shape : {testset.data[0].shape}\")\n",
    "print('-' * 50)\n",
    "print(\"after applying transform:\")\n",
    "print(f\"    -> type(testset[0][0])   : {type(testset[0][0])}\")\n",
    "print(f\"    -> testset[0][0].dtype   : {testset[0][0].dtype}\")\n",
    "print(f\"    -> testset[0][0].shape   : {testset[0][0].shape}\")"
   ]
  },
  {
   "cell_type": "markdown",
   "metadata": {},
   "source": [
    "## DataLoader\n",
    "   - [pytorch.org/docs/stable/data.html#torch.utils.data.DataLoader](https://pytorch.org/docs/stable/data.html#torch.utils.data.DataLoader)"
   ]
  },
  {
   "cell_type": "code",
   "execution_count": 11,
   "metadata": {},
   "outputs": [],
   "source": [
    "batch_size = 64\n",
    "\n",
    "trainloader      = DataLoader(dataset=trainset     , batch_size=batch_size, shuffle=True , num_workers=2)\n",
    "validationloader = DataLoader(dataset=validationset, batch_size=batch_size, shuffle=False, num_workers=2)\n",
    "testloader       = DataLoader(dataset=testset      , batch_size=batch_size, shuffle=False, num_workers=2)"
   ]
  },
  {
   "cell_type": "code",
   "execution_count": 12,
   "metadata": {},
   "outputs": [
    {
     "name": "stdout",
     "output_type": "stream",
     "text": [
      "trainloader      first batch     -> x.shape: torch.Size([64, 1, 28, 28]) - y.shape: torch.Size([64]) - x.dtype: torch.float32 - y.dtype: torch.int64\n",
      "validationloader first batch     -> x.shape: torch.Size([64, 1, 28, 28]) - y.shape: torch.Size([64]) - x.dtype: torch.float32 - y.dtype: torch.int64\n",
      "testloader       first batch     -> x.shape: torch.Size([64, 1, 28, 28]) - y.shape: torch.Size([64]) - x.dtype: torch.float32 - y.dtype: torch.int64\n",
      "trainloader      last batch-size -> 48\n",
      "validationloader last batch-size -> 48\n",
      "testloader       last batch-size -> 16\n"
     ]
    }
   ],
   "source": [
    "# log\n",
    "first_train_batch      = next(iter(trainloader))\n",
    "first_validation_batch = next(iter(validationloader))\n",
    "first_test_batch       = next(iter(testloader))\n",
    "\n",
    "print(f\"trainloader      first batch     -> x.shape: {first_train_batch[0].shape} - y.shape: {first_train_batch[1].shape} - x.dtype: {first_train_batch[0].dtype} - y.dtype: {first_train_batch[1].dtype}\")\n",
    "print(f\"validationloader first batch     -> x.shape: {first_validation_batch[0].shape} - y.shape: {first_validation_batch[1].shape} - x.dtype: {first_validation_batch[0].dtype} - y.dtype: {first_validation_batch[1].dtype}\")\n",
    "print(f\"testloader       first batch     -> x.shape: {first_test_batch[0].shape} - y.shape: {first_test_batch[1].shape} - x.dtype: {first_test_batch[0].dtype} - y.dtype: {first_test_batch[1].dtype}\")\n",
    "print(f\"trainloader      last batch-size -> {len(trainset) % batch_size}\")\n",
    "print(f\"validationloader last batch-size -> {len(validationset) % batch_size}\")\n",
    "print(f\"testloader       last batch-size -> {len(testset) % batch_size}\")"
   ]
  },
  {
   "cell_type": "markdown",
   "metadata": {},
   "source": [
    "# Network Structure: Multi-layer Perceptron\n",
    "\n",
    "<figure style=\"text-align: center;\">\n",
    "    <img src=\"../../assets/images/original/mlp/multi-layer-perceptrons.svg\" alt=\"multi-layer-perceptrons.svg\" style=\"width: 100%;\">\n",
    "    <figcaption style=\"text-align: center;\">Multi-Layer-Perceptron (aka fully connected layers)</figcaption>\n",
    "</figure>"
   ]
  },
  {
   "cell_type": "code",
   "execution_count": 13,
   "metadata": {},
   "outputs": [
    {
     "name": "stdout",
     "output_type": "stream",
     "text": [
      "input_dim  : 784\n",
      "hidden_dim : [64, 32]\n",
      "output_dim : 10\n"
     ]
    }
   ],
   "source": [
    "# layers\n",
    "depth, height, width = trainset[0][0].shape\n",
    "\n",
    "input_dim = depth * height * width\n",
    "hidden_dim = [64, 32]\n",
    "output_dim = len(testset.classes)\n",
    "\n",
    "# log\n",
    "print(f\"input_dim  : {input_dim}\")\n",
    "print(f\"hidden_dim : {hidden_dim}\")\n",
    "print(f\"output_dim : {output_dim}\")"
   ]
  },
  {
   "cell_type": "markdown",
   "metadata": {},
   "source": [
    "## Custom MLP Model\n",
    "   - Activation Function is ignored from the last layer due to the `torch.nn.CrossEntropyLoss`"
   ]
  },
  {
   "cell_type": "code",
   "execution_count": 14,
   "metadata": {},
   "outputs": [],
   "source": [
    "class CustomMLP(nn.Module):\n",
    "    def __init__(self, input_dim, output_dim):\n",
    "        super(CustomMLP, self).__init__()\n",
    "        self.classifier = nn.Sequential(\n",
    "            nn.Flatten(start_dim=1),\n",
    "            nn.Linear(input_dim, hidden_dim[0]),\n",
    "            nn.ReLU(),\n",
    "            nn.Linear(hidden_dim[0], hidden_dim[1]),\n",
    "            nn.ReLU(),\n",
    "            nn.Linear(hidden_dim[1], output_dim),\n",
    "        )\n",
    "\n",
    "    def forward(self, x):\n",
    "        x = self.classifier(x)\n",
    "        return x\n",
    "\n",
    "\n",
    "model = CustomMLP(input_dim, output_dim)"
   ]
  },
  {
   "cell_type": "code",
   "execution_count": 15,
   "metadata": {},
   "outputs": [
    {
     "data": {
      "text/plain": [
       "CustomMLP(\n",
       "  (classifier): Sequential(\n",
       "    (0): Flatten(start_dim=1, end_dim=-1)\n",
       "    (1): Linear(in_features=784, out_features=64, bias=True)\n",
       "    (2): ReLU()\n",
       "    (3): Linear(in_features=64, out_features=32, bias=True)\n",
       "    (4): ReLU()\n",
       "    (5): Linear(in_features=32, out_features=10, bias=True)\n",
       "  )\n",
       ")"
      ]
     },
     "execution_count": 15,
     "metadata": {},
     "output_type": "execute_result"
    }
   ],
   "source": [
    "model.to(device)"
   ]
  },
  {
   "cell_type": "code",
   "execution_count": 16,
   "metadata": {},
   "outputs": [
    {
     "data": {
      "text/plain": [
       "==========================================================================================\n",
       "Layer (type:depth-idx)                   Output Shape              Param #\n",
       "==========================================================================================\n",
       "CustomMLP                                [64, 10]                  --\n",
       "├─Sequential: 1-1                        [64, 10]                  --\n",
       "│    └─Flatten: 2-1                      [64, 784]                 --\n",
       "│    └─Linear: 2-2                       [64, 64]                  50,240\n",
       "│    └─ReLU: 2-3                         [64, 64]                  --\n",
       "│    └─Linear: 2-4                       [64, 32]                  2,080\n",
       "│    └─ReLU: 2-5                         [64, 32]                  --\n",
       "│    └─Linear: 2-6                       [64, 10]                  330\n",
       "==========================================================================================\n",
       "Total params: 52,650\n",
       "Trainable params: 52,650\n",
       "Non-trainable params: 0\n",
       "Total mult-adds (Units.MEGABYTES): 3.37\n",
       "==========================================================================================\n",
       "Input size (MB): 0.20\n",
       "Forward/backward pass size (MB): 0.05\n",
       "Params size (MB): 0.21\n",
       "Estimated Total Size (MB): 0.47\n",
       "=========================================================================================="
      ]
     },
     "execution_count": 16,
     "metadata": {},
     "output_type": "execute_result"
    }
   ],
   "source": [
    "summary(model, input_size=(batch_size, *trainset[0][0].shape))"
   ]
  },
  {
   "cell_type": "markdown",
   "metadata": {},
   "source": [
    "# Set up remaining Hyperparameters"
   ]
  },
  {
   "cell_type": "code",
   "execution_count": 17,
   "metadata": {},
   "outputs": [],
   "source": [
    "lr = 0.001\n",
    "criterion = CrossEntropyLoss()\n",
    "optimizer = Adam(params=model.parameters(), lr=lr)\n",
    "num_epochs = 15"
   ]
  },
  {
   "cell_type": "markdown",
   "metadata": {},
   "source": [
    "# Train & Validation Loop"
   ]
  },
  {
   "cell_type": "markdown",
   "metadata": {},
   "source": [
    "### model.train & model.eval\n",
    "   - Some regularization methods (e.g. batchNorm, dropout) are applied only during training, not during evaluation and prediction\n",
    "   - `model.eval()` [`model.train(False)`], disables these type of regularizations\n",
    "   - [pytorch.org/docs/stable/generated/torch.nn.Module.html](https://pytorch.org/docs/stable/generated/torch.nn.Module.html)\n",
    "   - [pytorch.org/docs/stable/notes/autograd.html#locally-disable-grad-doc](https://pytorch.org/docs/stable/notes/autograd.html#locally-disable-grad-doc)"
   ]
  },
  {
   "cell_type": "code",
   "execution_count": 18,
   "metadata": {},
   "outputs": [],
   "source": [
    "train_acc_per_epoch  = []\n",
    "train_loss_per_epoch = []\n",
    "val_acc_per_epoch    = []\n",
    "val_loss_per_epoch   = []"
   ]
  },
  {
   "cell_type": "code",
   "execution_count": 19,
   "metadata": {},
   "outputs": [],
   "source": [
    "train_acc = Accuracy(task='multiclass', num_classes=len(testset.classes), top_k=1).to(device)\n",
    "val_acc   = Accuracy(task='multiclass', num_classes=len(testset.classes), top_k=1).to(device)"
   ]
  },
  {
   "cell_type": "code",
   "execution_count": 20,
   "metadata": {},
   "outputs": [
    {
     "name": "stdout",
     "output_type": "stream",
     "text": [
      "epoch  0  ->  train[loss: 0.34852 - acc: 0.90] | validation[loss: 0.19763 - acc: 0.94]\n",
      "epoch  1  ->  train[loss: 0.15544 - acc: 0.95] | validation[loss: 0.15841 - acc: 0.95]\n",
      "epoch  2  ->  train[loss: 0.11501 - acc: 0.96] | validation[loss: 0.14124 - acc: 0.96]\n",
      "epoch  3  ->  train[loss: 0.09169 - acc: 0.97] | validation[loss: 0.11314 - acc: 0.97]\n",
      "epoch  4  ->  train[loss: 0.07473 - acc: 0.98] | validation[loss: 0.10182 - acc: 0.97]\n",
      "epoch  5  ->  train[loss: 0.06308 - acc: 0.98] | validation[loss: 0.11308 - acc: 0.96]\n",
      "epoch  6  ->  train[loss: 0.05402 - acc: 0.98] | validation[loss: 0.10844 - acc: 0.97]\n",
      "epoch  7  ->  train[loss: 0.04747 - acc: 0.98] | validation[loss: 0.10524 - acc: 0.97]\n",
      "epoch  8  ->  train[loss: 0.03956 - acc: 0.99] | validation[loss: 0.10433 - acc: 0.97]\n",
      "epoch  9  ->  train[loss: 0.03672 - acc: 0.99] | validation[loss: 0.11483 - acc: 0.97]\n",
      "epoch 10  ->  train[loss: 0.03161 - acc: 0.99] | validation[loss: 0.10505 - acc: 0.97]\n",
      "epoch 11  ->  train[loss: 0.02688 - acc: 0.99] | validation[loss: 0.11732 - acc: 0.97]\n",
      "epoch 12  ->  train[loss: 0.02644 - acc: 0.99] | validation[loss: 0.12049 - acc: 0.97]\n",
      "epoch 13  ->  train[loss: 0.02216 - acc: 0.99] | validation[loss: 0.11343 - acc: 0.97]\n",
      "epoch 14  ->  train[loss: 0.02076 - acc: 0.99] | validation[loss: 0.11835 - acc: 0.97]\n"
     ]
    }
   ],
   "source": [
    "for epoch in range(num_epochs):\n",
    "\n",
    "# train loop\n",
    "    model.train()\n",
    "    train_loss = 0\n",
    "\n",
    "    for x, y in trainloader:\n",
    "\n",
    "        # send data to GPU\n",
    "        x, y_true = x.to(device), y.to(device)\n",
    "\n",
    "        # forward\n",
    "        y_pred = model(x)\n",
    "        loss = criterion(y_pred, y_true)\n",
    "\n",
    "        # backward\n",
    "        loss.backward()\n",
    "\n",
    "        # update parameters\n",
    "        optimizer.step()\n",
    "        optimizer.zero_grad()\n",
    "\n",
    "        # log loss & accuracy\n",
    "        train_loss += loss.item() * len(x)\n",
    "        train_acc.update(y_pred, y_true)\n",
    "\n",
    "    # store intermediate loss & accuracy\n",
    "    train_loss_per_epoch.append(train_loss / len(trainset))\n",
    "    train_acc_per_epoch.append(train_acc.compute().item())\n",
    "    train_acc.reset()\n",
    "\n",
    "\n",
    "# validation loop\n",
    "    model.eval()\n",
    "    val_loss = 0\n",
    "\n",
    "    # During the forward pass, PyTorch saves intermediate results\n",
    "    # (from each operation that involves tensors with requires_grad=True)\n",
    "    # in order to compute gradients during the backward pass\n",
    "    # torch.no_grad() stops pytorch to save these intermediate results\n",
    "    with torch.no_grad():\n",
    "        for x, y in validationloader:\n",
    "\n",
    "            # send data to GPU\n",
    "            x, y_true = x.to(device), y.to(device)\n",
    "\n",
    "            # forward\n",
    "            y_pred = model(x)\n",
    "            loss = criterion(y_pred, y_true)\n",
    "\n",
    "            # log loss & accuracy\n",
    "            val_loss += loss.item() * len(x)\n",
    "            val_acc.update(y_pred, y_true)\n",
    "\n",
    "    # store intermediate loss & accuracy\n",
    "    val_loss_per_epoch.append(val_loss / len(validationset))\n",
    "    val_acc_per_epoch.append(val_acc.compute().item())\n",
    "    val_acc.reset()\n",
    "\n",
    "    # log\n",
    "    print(f\"epoch {epoch:>2}  ->  train[loss: {train_loss_per_epoch[epoch]:.5f} - acc: {train_acc_per_epoch[epoch]:.2f}] | validation[loss: {val_loss_per_epoch[epoch]:.5f} - acc: {val_acc_per_epoch[epoch]:.2f}]\")"
   ]
  },
  {
   "cell_type": "markdown",
   "metadata": {},
   "source": [
    "## Model Analysis\n",
    "   - A useful technique to check the over-fitting situation"
   ]
  },
  {
   "cell_type": "code",
   "execution_count": null,
   "metadata": {},
   "outputs": [],
   "source": [
    "# plot\n",
    "fig, axs = plt.subplots(nrows=1, ncols=2, figsize=(10, 4), layout='compressed')\n",
    "axs[0].plot(train_loss_per_epoch, label=\"Train loss\")\n",
    "axs[0].plot(val_loss_per_epoch, label=\"Validation loss\")\n",
    "axs[0].set(title=\"Loss over time\", xlabel='Epoch', ylabel='Loss')\n",
    "axs[0].legend(loc='best', fancybox=True, shadow=True)\n",
    "axs[1].plot(train_acc_per_epoch, label=\"Train accuracy\")\n",
    "axs[1].plot(val_acc_per_epoch, label=\"Validation accuracy\")\n",
    "axs[1].set(title=\"Accuracy over time\", xlabel='Epoch', ylabel='Accuracy')\n",
    "axs[1].legend(loc='best', fancybox=True, shadow=True)\n",
    "plt.show()"
   ]
  },
  {
   "cell_type": "markdown",
   "metadata": {},
   "source": [
    "# Test Loop"
   ]
  },
  {
   "cell_type": "code",
   "execution_count": 22,
   "metadata": {},
   "outputs": [],
   "source": [
    "test_acc = Accuracy(task='multiclass', num_classes=len(testset.classes), top_k=1).to(device)"
   ]
  },
  {
   "cell_type": "code",
   "execution_count": 23,
   "metadata": {},
   "outputs": [
    {
     "name": "stdout",
     "output_type": "stream",
     "text": [
      "test[loss: 0.11518 - acc: 0.97]\n"
     ]
    }
   ],
   "source": [
    "model.eval()\n",
    "test_loss = 0\n",
    "predictions = []\n",
    "targets = []\n",
    "\n",
    "with torch.no_grad():\n",
    "    for x, y in testloader:\n",
    "\n",
    "        # send data to GPU\n",
    "        x, y_true = x.to(device), y.to(device)\n",
    "\n",
    "        # forward\n",
    "        y_pred = model(x)\n",
    "        loss = criterion(y_pred, y_true)\n",
    "\n",
    "        # log loss & accuracy\n",
    "        test_loss += loss.item() * len(x)\n",
    "        test_acc.update(y_pred, y_true)\n",
    "\n",
    "        predictions.extend(y_pred.argmax(dim=1).cpu())\n",
    "        targets.extend(y_true.cpu())\n",
    "\n",
    "# log\n",
    "print(f\"test[loss: {test_loss / len(testset):.5f} - acc: {test_acc.compute().item():.2f}]\")"
   ]
  },
  {
   "cell_type": "markdown",
   "metadata": {},
   "source": [
    "## Metrics\n",
    "   - Loss\n",
    "   - Accuracy\n",
    "   - Recall\n",
    "   - Precision\n",
    "   - F1-Score\n",
    "   - Confusion Matrix\n",
    "   - Area Under the ROC Curve (AUC-ROC)\n",
    "   - Area Under the Precision-Recall Curve (AUC-PR)\n",
    "   - ...\n",
    "\n",
    "**Docs**:\n",
    "   - [lightning.ai/docs/torchmetrics/stable/all-metrics.html](https://lightning.ai/docs/torchmetrics/stable/all-metrics.html)\n",
    "   - [scikit-learn.org/stable/modules/generated/sklearn.metrics.classification_report.html](https://scikit-learn.org/stable/modules/generated/sklearn.metrics.classification_report.html)"
   ]
  },
  {
   "cell_type": "code",
   "execution_count": 24,
   "metadata": {},
   "outputs": [
    {
     "name": "stdout",
     "output_type": "stream",
     "text": [
      "              precision    recall  f1-score   support\n",
      "\n",
      "           0       0.98      0.97      0.98       980\n",
      "           1       0.99      0.99      0.99      1135\n",
      "           2       0.98      0.97      0.98      1032\n",
      "           3       0.96      0.98      0.97      1010\n",
      "           4       0.98      0.96      0.97       982\n",
      "           5       0.97      0.97      0.97       892\n",
      "           6       0.98      0.98      0.98       958\n",
      "           7       0.96      0.96      0.96      1028\n",
      "           8       0.98      0.95      0.96       974\n",
      "           9       0.95      0.98      0.96      1009\n",
      "\n",
      "    accuracy                           0.97     10000\n",
      "   macro avg       0.97      0.97      0.97     10000\n",
      "weighted avg       0.97      0.97      0.97     10000\n",
      "\n"
     ]
    }
   ],
   "source": [
    "# classification report\n",
    "print(classification_report(targets, predictions))"
   ]
  },
  {
   "cell_type": "code",
   "execution_count": null,
   "metadata": {},
   "outputs": [
    {
     "name": "stdout",
     "output_type": "stream",
     "text": [
      "tensor([[ 955,    0,    3,    2,    2,    2,    2,   11,    1,    2],\n",
      "        [   0, 1121,    0,    2,    0,    2,    3,    2,    5,    0],\n",
      "        [   3,    2, 1004,    5,    1,    0,    2,    9,    6,    0],\n",
      "        [   2,    0,    3,  992,    0,    3,    0,    2,    3,    5],\n",
      "        [   1,    0,    3,    0,  942,    1,    6,    5,    1,   23],\n",
      "        [   3,    0,    0,   14,    3,  865,    5,    0,    1,    1],\n",
      "        [   3,    1,    1,    1,    2,    6,  940,    3,    1,    0],\n",
      "        [   1,    7,   11,    4,    2,    0,    0,  987,    2,   14],\n",
      "        [   7,    3,    2,   11,    4,   10,    1,    3,  929,    4],\n",
      "        [   2,    3,    0,    2,    5,    5,    1,    4,    3,  984]])\n"
     ]
    }
   ],
   "source": [
    "# confusion matrix\n",
    "metric = ConfusionMatrix(task='multiclass', num_classes=10)\n",
    "confusion_matrix = metric(torch.tensor(predictions), torch.tensor(targets))\n",
    "\n",
    "# log\n",
    "print(confusion_matrix)\n",
    "\n",
    "# plot\n",
    "fig, ax = plt.subplots(figsize=(8, 8))\n",
    "metric.plot(ax=ax)\n",
    "plt.show()"
   ]
  },
  {
   "cell_type": "markdown",
   "metadata": {},
   "source": [
    "# Prediction"
   ]
  },
  {
   "cell_type": "code",
   "execution_count": 26,
   "metadata": {},
   "outputs": [],
   "source": [
    "def predict(model: nn.Module, data: np.ndarray, classes: list, transform: v2._container.Compose = None) -> torch.Tensor:\n",
    "\n",
    "    # add batch & channel dimension to a single data\n",
    "    if len(data.shape) == 2:\n",
    "        data = np.expand_dims(data, axis=(0, 3))\n",
    "\n",
    "    # apply the transform\n",
    "    if transform:\n",
    "        data = torch.stack([transform(sample) for sample in data])\n",
    "\n",
    "    # predict\n",
    "    model.eval()\n",
    "    with torch.no_grad():\n",
    "\n",
    "        # send data to GPU\n",
    "        data = data.to(device)\n",
    "\n",
    "        # forward\n",
    "        y_pred = model(data).argmax(dim=1).cpu()\n",
    "\n",
    "        # idx to labels\n",
    "        y_pred = np.array(classes)[y_pred]\n",
    "\n",
    "    return y_pred"
   ]
  },
  {
   "cell_type": "code",
   "execution_count": 27,
   "metadata": {},
   "outputs": [
    {
     "name": "stdout",
     "output_type": "stream",
     "text": [
      "predictions:\n",
      "['7 - seven' '2 - two' '1 - one' '0 - zero' '4 - four' '1 - one'\n",
      " '4 - four' '9 - nine' '5 - five' '9 - nine' '0 - zero' '6 - six'\n",
      " '9 - nine' '0 - zero' '1 - one' '5 - five' '9 - nine' '7 - seven'\n",
      " '8 - eight' '4 - four' '9 - nine' '6 - six' '6 - six' '5 - five'\n",
      " '4 - four' '0 - zero' '7 - seven' '4 - four' '0 - zero' '1 - one'\n",
      " '3 - three' '1 - one']\n"
     ]
    }
   ],
   "source": [
    "# some raw data\n",
    "raw_data = MNIST(root='../../datasets', train=False, download=True, transform=None).data[:32]\n",
    "\n",
    "# predict\n",
    "y_pred = predict(model, data=raw_data, classes=testset.classes, transform=transforms)\n",
    "\n",
    "# log\n",
    "print(f\"predictions:\\n{y_pred}\")"
   ]
  },
  {
   "cell_type": "code",
   "execution_count": null,
   "metadata": {},
   "outputs": [],
   "source": [
    "# plot\n",
    "fig, axs = plt.subplots(nrows=4, ncols=8, figsize=(12, 6), layout='compressed')\n",
    "for i in range(4):\n",
    "    for j in range(8):\n",
    "        axs[i, j].imshow(raw_data[i * 8 + j], cmap='gray')\n",
    "        axs[i, j].set_title(predict(model, raw_data[i * 8 + j], testset.classes, transform=transforms))\n",
    "        axs[i, j].axis('off')\n",
    "plt.show()"
   ]
  }
 ],
 "metadata": {
  "author_email": "AmirhosseinHeydari78@gmail.com",
  "author_github": "https://github.com/mr-pylin",
  "author_name": "Amirhossein Heydari",
  "kernelspec": {
   "display_name": "Python 3",
   "language": "python",
   "name": "python3"
  },
  "language_info": {
   "codemirror_mode": {
    "name": "ipython",
    "version": 3
   },
   "file_extension": ".py",
   "mimetype": "text/x-python",
   "name": "python",
   "nbconvert_exporter": "python",
   "pygments_lexer": "ipython3",
   "version": "3.12.3"
  },
  "origin_repo": "https://github.com/mr-pylin/pytorch-workshop"
 },
 "nbformat": 4,
 "nbformat_minor": 2
}
